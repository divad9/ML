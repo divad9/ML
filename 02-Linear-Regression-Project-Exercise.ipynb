{
 "cells": [
  {
   "cell_type": "markdown",
   "metadata": {},
   "source": [
    "___\n",
    "\n",
    "<a href='http://www.pieriandata.com'><img src='../Pierian_Data_Logo.png'/></a>\n",
    "___\n",
    "<center><em>Copyright by Pierian Data Inc.</em></center>\n",
    "<center><em>For more information, visit us at <a href='http://www.pieriandata.com'>www.pieriandata.com</a></em></center>"
   ]
  },
  {
   "cell_type": "markdown",
   "metadata": {},
   "source": [
    "# Linear Regression Project Exercise "
   ]
  },
  {
   "cell_type": "markdown",
   "metadata": {},
   "source": [
    "Now that we have learned about feature engineering, cross validation, and grid search, let's test all your new skills with a project exercise in Machine Learning. This exercise will have a more guided approach, later on the ML projects will begin to be more open-ended. We'll start off with using the final version of the Ames Housing dataset we worked on through the feature engineering section of the course. Your goal will be to create a Linear Regression Model, train it on the data with the optimal parameters using a grid search, and then evaluate the model's capabilities on a test set."
   ]
  },
  {
   "cell_type": "markdown",
   "metadata": {},
   "source": [
    "---\n",
    "---\n",
    "---\n",
    "## Complete the tasks in bold\n",
    "\n",
    "**TASK: Run the cells under the Imports and Data section to make sure you have imported the correct general libraries as well as the correct datasets. Later on you may need to run further imports from scikit-learn.**\n",
    "\n",
    "### Imports"
   ]
  },
  {
   "cell_type": "code",
   "execution_count": 1,
   "metadata": {},
   "outputs": [],
   "source": [
    "import numpy as np\n",
    "import pandas as pd\n",
    "import matplotlib.pyplot as plt\n",
    "import seaborn as sns"
   ]
  },
  {
   "cell_type": "markdown",
   "metadata": {},
   "source": [
    "### Data"
   ]
  },
  {
   "cell_type": "code",
   "execution_count": 2,
   "metadata": {},
   "outputs": [],
   "source": [
    "df = pd.read_csv(\"../DATA/AMES_Final_DF.csv\")"
   ]
  },
  {
   "cell_type": "code",
   "execution_count": 3,
   "metadata": {},
   "outputs": [
    {
     "data": {
      "text/html": [
       "<div>\n",
       "<style scoped>\n",
       "    .dataframe tbody tr th:only-of-type {\n",
       "        vertical-align: middle;\n",
       "    }\n",
       "\n",
       "    .dataframe tbody tr th {\n",
       "        vertical-align: top;\n",
       "    }\n",
       "\n",
       "    .dataframe thead th {\n",
       "        text-align: right;\n",
       "    }\n",
       "</style>\n",
       "<table border=\"1\" class=\"dataframe\">\n",
       "  <thead>\n",
       "    <tr style=\"text-align: right;\">\n",
       "      <th></th>\n",
       "      <th>Lot Frontage</th>\n",
       "      <th>Lot Area</th>\n",
       "      <th>Overall Qual</th>\n",
       "      <th>Overall Cond</th>\n",
       "      <th>Year Built</th>\n",
       "      <th>Year Remod/Add</th>\n",
       "      <th>Mas Vnr Area</th>\n",
       "      <th>BsmtFin SF 1</th>\n",
       "      <th>BsmtFin SF 2</th>\n",
       "      <th>Bsmt Unf SF</th>\n",
       "      <th>...</th>\n",
       "      <th>Sale Type_ConLw</th>\n",
       "      <th>Sale Type_New</th>\n",
       "      <th>Sale Type_Oth</th>\n",
       "      <th>Sale Type_VWD</th>\n",
       "      <th>Sale Type_WD</th>\n",
       "      <th>Sale Condition_AdjLand</th>\n",
       "      <th>Sale Condition_Alloca</th>\n",
       "      <th>Sale Condition_Family</th>\n",
       "      <th>Sale Condition_Normal</th>\n",
       "      <th>Sale Condition_Partial</th>\n",
       "    </tr>\n",
       "  </thead>\n",
       "  <tbody>\n",
       "    <tr>\n",
       "      <th>0</th>\n",
       "      <td>141.0</td>\n",
       "      <td>31770</td>\n",
       "      <td>6</td>\n",
       "      <td>5</td>\n",
       "      <td>1960</td>\n",
       "      <td>1960</td>\n",
       "      <td>112.0</td>\n",
       "      <td>639.0</td>\n",
       "      <td>0.0</td>\n",
       "      <td>441.0</td>\n",
       "      <td>...</td>\n",
       "      <td>0</td>\n",
       "      <td>0</td>\n",
       "      <td>0</td>\n",
       "      <td>0</td>\n",
       "      <td>1</td>\n",
       "      <td>0</td>\n",
       "      <td>0</td>\n",
       "      <td>0</td>\n",
       "      <td>1</td>\n",
       "      <td>0</td>\n",
       "    </tr>\n",
       "    <tr>\n",
       "      <th>1</th>\n",
       "      <td>80.0</td>\n",
       "      <td>11622</td>\n",
       "      <td>5</td>\n",
       "      <td>6</td>\n",
       "      <td>1961</td>\n",
       "      <td>1961</td>\n",
       "      <td>0.0</td>\n",
       "      <td>468.0</td>\n",
       "      <td>144.0</td>\n",
       "      <td>270.0</td>\n",
       "      <td>...</td>\n",
       "      <td>0</td>\n",
       "      <td>0</td>\n",
       "      <td>0</td>\n",
       "      <td>0</td>\n",
       "      <td>1</td>\n",
       "      <td>0</td>\n",
       "      <td>0</td>\n",
       "      <td>0</td>\n",
       "      <td>1</td>\n",
       "      <td>0</td>\n",
       "    </tr>\n",
       "    <tr>\n",
       "      <th>2</th>\n",
       "      <td>81.0</td>\n",
       "      <td>14267</td>\n",
       "      <td>6</td>\n",
       "      <td>6</td>\n",
       "      <td>1958</td>\n",
       "      <td>1958</td>\n",
       "      <td>108.0</td>\n",
       "      <td>923.0</td>\n",
       "      <td>0.0</td>\n",
       "      <td>406.0</td>\n",
       "      <td>...</td>\n",
       "      <td>0</td>\n",
       "      <td>0</td>\n",
       "      <td>0</td>\n",
       "      <td>0</td>\n",
       "      <td>1</td>\n",
       "      <td>0</td>\n",
       "      <td>0</td>\n",
       "      <td>0</td>\n",
       "      <td>1</td>\n",
       "      <td>0</td>\n",
       "    </tr>\n",
       "    <tr>\n",
       "      <th>3</th>\n",
       "      <td>93.0</td>\n",
       "      <td>11160</td>\n",
       "      <td>7</td>\n",
       "      <td>5</td>\n",
       "      <td>1968</td>\n",
       "      <td>1968</td>\n",
       "      <td>0.0</td>\n",
       "      <td>1065.0</td>\n",
       "      <td>0.0</td>\n",
       "      <td>1045.0</td>\n",
       "      <td>...</td>\n",
       "      <td>0</td>\n",
       "      <td>0</td>\n",
       "      <td>0</td>\n",
       "      <td>0</td>\n",
       "      <td>1</td>\n",
       "      <td>0</td>\n",
       "      <td>0</td>\n",
       "      <td>0</td>\n",
       "      <td>1</td>\n",
       "      <td>0</td>\n",
       "    </tr>\n",
       "    <tr>\n",
       "      <th>4</th>\n",
       "      <td>74.0</td>\n",
       "      <td>13830</td>\n",
       "      <td>5</td>\n",
       "      <td>5</td>\n",
       "      <td>1997</td>\n",
       "      <td>1998</td>\n",
       "      <td>0.0</td>\n",
       "      <td>791.0</td>\n",
       "      <td>0.0</td>\n",
       "      <td>137.0</td>\n",
       "      <td>...</td>\n",
       "      <td>0</td>\n",
       "      <td>0</td>\n",
       "      <td>0</td>\n",
       "      <td>0</td>\n",
       "      <td>1</td>\n",
       "      <td>0</td>\n",
       "      <td>0</td>\n",
       "      <td>0</td>\n",
       "      <td>1</td>\n",
       "      <td>0</td>\n",
       "    </tr>\n",
       "  </tbody>\n",
       "</table>\n",
       "<p>5 rows × 274 columns</p>\n",
       "</div>"
      ],
      "text/plain": [
       "   Lot Frontage  Lot Area  Overall Qual  Overall Cond  Year Built  \\\n",
       "0         141.0     31770             6             5        1960   \n",
       "1          80.0     11622             5             6        1961   \n",
       "2          81.0     14267             6             6        1958   \n",
       "3          93.0     11160             7             5        1968   \n",
       "4          74.0     13830             5             5        1997   \n",
       "\n",
       "   Year Remod/Add  Mas Vnr Area  BsmtFin SF 1  BsmtFin SF 2  Bsmt Unf SF  ...  \\\n",
       "0            1960         112.0         639.0           0.0        441.0  ...   \n",
       "1            1961           0.0         468.0         144.0        270.0  ...   \n",
       "2            1958         108.0         923.0           0.0        406.0  ...   \n",
       "3            1968           0.0        1065.0           0.0       1045.0  ...   \n",
       "4            1998           0.0         791.0           0.0        137.0  ...   \n",
       "\n",
       "   Sale Type_ConLw  Sale Type_New  Sale Type_Oth  Sale Type_VWD  \\\n",
       "0                0              0              0              0   \n",
       "1                0              0              0              0   \n",
       "2                0              0              0              0   \n",
       "3                0              0              0              0   \n",
       "4                0              0              0              0   \n",
       "\n",
       "   Sale Type_WD   Sale Condition_AdjLand  Sale Condition_Alloca  \\\n",
       "0              1                       0                      0   \n",
       "1              1                       0                      0   \n",
       "2              1                       0                      0   \n",
       "3              1                       0                      0   \n",
       "4              1                       0                      0   \n",
       "\n",
       "   Sale Condition_Family  Sale Condition_Normal  Sale Condition_Partial  \n",
       "0                      0                      1                       0  \n",
       "1                      0                      1                       0  \n",
       "2                      0                      1                       0  \n",
       "3                      0                      1                       0  \n",
       "4                      0                      1                       0  \n",
       "\n",
       "[5 rows x 274 columns]"
      ]
     },
     "execution_count": 3,
     "metadata": {},
     "output_type": "execute_result"
    }
   ],
   "source": [
    "df.head()"
   ]
  },
  {
   "cell_type": "code",
   "execution_count": 4,
   "metadata": {},
   "outputs": [
    {
     "name": "stdout",
     "output_type": "stream",
     "text": [
      "<class 'pandas.core.frame.DataFrame'>\n",
      "RangeIndex: 2925 entries, 0 to 2924\n",
      "Columns: 274 entries, Lot Frontage to Sale Condition_Partial\n",
      "dtypes: float64(11), int64(263)\n",
      "memory usage: 6.1 MB\n"
     ]
    }
   ],
   "source": [
    "df.info()"
   ]
  },
  {
   "cell_type": "markdown",
   "metadata": {},
   "source": [
    "**TASK: The label we are trying to predict is the SalePrice column. Separate out the data into X features and y labels**"
   ]
  },
  {
   "cell_type": "code",
   "execution_count": 5,
   "metadata": {},
   "outputs": [],
   "source": [
    "X=df.drop('SalePrice',axis=1)"
   ]
  },
  {
   "cell_type": "code",
   "execution_count": 6,
   "metadata": {},
   "outputs": [],
   "source": [
    "y=df['SalePrice']"
   ]
  },
  {
   "cell_type": "code",
   "execution_count": 7,
   "metadata": {},
   "outputs": [
    {
     "data": {
      "text/plain": [
       "0    215000\n",
       "1    105000\n",
       "2    172000\n",
       "3    244000\n",
       "4    189900\n",
       "Name: SalePrice, dtype: int64"
      ]
     },
     "execution_count": 7,
     "metadata": {},
     "output_type": "execute_result"
    }
   ],
   "source": [
    "y.head()"
   ]
  },
  {
   "cell_type": "markdown",
   "metadata": {},
   "source": [
    "**TASK: Use scikit-learn to split up X and y into a training set and test set. Since we will later be using a Grid Search strategy, set your test proportion to 10%. To get the same data split as the solutions notebook, you can specify random_state = 101**"
   ]
  },
  {
   "cell_type": "code",
   "execution_count": 8,
   "metadata": {},
   "outputs": [],
   "source": [
    "from sklearn.model_selection import train_test_split"
   ]
  },
  {
   "cell_type": "code",
   "execution_count": 9,
   "metadata": {},
   "outputs": [],
   "source": [
    "X_train, X_test, y_train, y_test = train_test_split(X, y, test_size=0.1, random_state=101)"
   ]
  },
  {
   "cell_type": "markdown",
   "metadata": {},
   "source": [
    "**TASK: The dataset features has a variety of scales and units. For optimal regression performance, scale the X features. Take carefuly note of what to use for .fit() vs what to use for .transform()**"
   ]
  },
  {
   "cell_type": "code",
   "execution_count": 10,
   "metadata": {},
   "outputs": [],
   "source": [
    "from sklearn.preprocessing import StandardScaler"
   ]
  },
  {
   "cell_type": "code",
   "execution_count": 11,
   "metadata": {},
   "outputs": [],
   "source": [
    "scaler=StandardScaler()"
   ]
  },
  {
   "cell_type": "code",
   "execution_count": 12,
   "metadata": {},
   "outputs": [
    {
     "data": {
      "text/plain": [
       "StandardScaler()"
      ]
     },
     "execution_count": 12,
     "metadata": {},
     "output_type": "execute_result"
    }
   ],
   "source": [
    "scaler.fit(X_train)"
   ]
  },
  {
   "cell_type": "code",
   "execution_count": 13,
   "metadata": {},
   "outputs": [],
   "source": [
    "scaled_X_train = scaler.transform(X_train)\n",
    "scaled_X_test = scaler.transform(X_test)"
   ]
  },
  {
   "cell_type": "markdown",
   "metadata": {},
   "source": [
    "**TASK: We will use an Elastic Net model. Create an instance of default ElasticNet model with scikit-learn**"
   ]
  },
  {
   "cell_type": "code",
   "execution_count": 14,
   "metadata": {},
   "outputs": [],
   "source": [
    "from sklearn.linear_model import ElasticNet"
   ]
  },
  {
   "cell_type": "code",
   "execution_count": 15,
   "metadata": {},
   "outputs": [],
   "source": [
    "base_elastic_model = ElasticNet()"
   ]
  },
  {
   "cell_type": "markdown",
   "metadata": {},
   "source": [
    "**TASK:  The Elastic Net model has two main parameters, alpha and the L1 ratio. Create a dictionary parameter grid of values for the ElasticNet. Feel free to play around with these values, keep in mind, you may not match up exactly with the solution choices**"
   ]
  },
  {
   "cell_type": "code",
   "execution_count": 16,
   "metadata": {},
   "outputs": [],
   "source": [
    "param_grid = {'alpha':[0.1,1,5,10,20,30,40,50,60,70,80,90,100],\n",
    "              'l1_ratio':[.1, .25, .5, .7, .75, .9, .95, .99, 1]}"
   ]
  },
  {
   "cell_type": "markdown",
   "metadata": {},
   "source": [
    "**TASK: Using scikit-learn create a GridSearchCV object and run a grid search for the best parameters for your model based on your scaled training data. [In case you are curious about the warnings you may recieve for certain parameter combinations](https://stackoverflow.com/questions/20681864/lasso-on-sklearn-does-not-converge)**"
   ]
  },
  {
   "cell_type": "code",
   "execution_count": 17,
   "metadata": {},
   "outputs": [],
   "source": [
    "from sklearn.model_selection import GridSearchCV"
   ]
  },
  {
   "cell_type": "code",
   "execution_count": 18,
   "metadata": {},
   "outputs": [],
   "source": [
    "grid_model = GridSearchCV(estimator=base_elastic_model,\n",
    "                          param_grid=param_grid,\n",
    "                          scoring='neg_mean_squared_error',\n",
    "                          cv=10,\n",
    "                          verbose=2)"
   ]
  },
  {
   "cell_type": "code",
   "execution_count": 19,
   "metadata": {},
   "outputs": [
    {
     "name": "stdout",
     "output_type": "stream",
     "text": [
      "Fitting 10 folds for each of 117 candidates, totalling 1170 fits\n",
      "[CV] alpha=0.1, l1_ratio=0.1 .........................................\n"
     ]
    },
    {
     "name": "stderr",
     "output_type": "stream",
     "text": [
      "[Parallel(n_jobs=1)]: Using backend SequentialBackend with 1 concurrent workers.\n"
     ]
    },
    {
     "name": "stdout",
     "output_type": "stream",
     "text": [
      "[CV] .......................... alpha=0.1, l1_ratio=0.1, total=   0.3s\n",
      "[CV] alpha=0.1, l1_ratio=0.1 .........................................\n"
     ]
    },
    {
     "name": "stderr",
     "output_type": "stream",
     "text": [
      "[Parallel(n_jobs=1)]: Done   1 out of   1 | elapsed:    0.2s remaining:    0.0s\n"
     ]
    },
    {
     "name": "stdout",
     "output_type": "stream",
     "text": [
      "[CV] .......................... alpha=0.1, l1_ratio=0.1, total=   0.3s\n",
      "[CV] alpha=0.1, l1_ratio=0.1 .........................................\n",
      "[CV] .......................... alpha=0.1, l1_ratio=0.1, total=   0.3s\n",
      "[CV] alpha=0.1, l1_ratio=0.1 .........................................\n",
      "[CV] .......................... alpha=0.1, l1_ratio=0.1, total=   0.3s\n",
      "[CV] alpha=0.1, l1_ratio=0.1 .........................................\n",
      "[CV] .......................... alpha=0.1, l1_ratio=0.1, total=   0.3s\n",
      "[CV] alpha=0.1, l1_ratio=0.1 .........................................\n",
      "[CV] .......................... alpha=0.1, l1_ratio=0.1, total=   0.3s\n",
      "[CV] alpha=0.1, l1_ratio=0.1 .........................................\n",
      "[CV] .......................... alpha=0.1, l1_ratio=0.1, total=   0.3s\n",
      "[CV] alpha=0.1, l1_ratio=0.1 .........................................\n",
      "[CV] .......................... alpha=0.1, l1_ratio=0.1, total=   0.3s\n",
      "[CV] alpha=0.1, l1_ratio=0.1 .........................................\n",
      "[CV] .......................... alpha=0.1, l1_ratio=0.1, total=   0.3s\n",
      "[CV] alpha=0.1, l1_ratio=0.1 .........................................\n",
      "[CV] .......................... alpha=0.1, l1_ratio=0.1, total=   0.3s\n",
      "[CV] alpha=0.1, l1_ratio=0.25 ........................................\n",
      "[CV] ......................... alpha=0.1, l1_ratio=0.25, total=   0.3s\n",
      "[CV] alpha=0.1, l1_ratio=0.25 ........................................\n",
      "[CV] ......................... alpha=0.1, l1_ratio=0.25, total=   0.2s\n",
      "[CV] alpha=0.1, l1_ratio=0.25 ........................................\n",
      "[CV] ......................... alpha=0.1, l1_ratio=0.25, total=   0.3s\n",
      "[CV] alpha=0.1, l1_ratio=0.25 ........................................\n",
      "[CV] ......................... alpha=0.1, l1_ratio=0.25, total=   0.3s\n",
      "[CV] alpha=0.1, l1_ratio=0.25 ........................................\n",
      "[CV] ......................... alpha=0.1, l1_ratio=0.25, total=   0.3s\n",
      "[CV] alpha=0.1, l1_ratio=0.25 ........................................\n",
      "[CV] ......................... alpha=0.1, l1_ratio=0.25, total=   0.3s\n",
      "[CV] alpha=0.1, l1_ratio=0.25 ........................................\n",
      "[CV] ......................... alpha=0.1, l1_ratio=0.25, total=   0.3s\n",
      "[CV] alpha=0.1, l1_ratio=0.25 ........................................\n",
      "[CV] ......................... alpha=0.1, l1_ratio=0.25, total=   0.3s\n",
      "[CV] alpha=0.1, l1_ratio=0.25 ........................................\n",
      "[CV] ......................... alpha=0.1, l1_ratio=0.25, total=   0.3s\n",
      "[CV] alpha=0.1, l1_ratio=0.25 ........................................\n",
      "[CV] ......................... alpha=0.1, l1_ratio=0.25, total=   0.3s\n",
      "[CV] alpha=0.1, l1_ratio=0.5 .........................................\n",
      "[CV] .......................... alpha=0.1, l1_ratio=0.5, total=   0.4s\n",
      "[CV] alpha=0.1, l1_ratio=0.5 .........................................\n",
      "[CV] .......................... alpha=0.1, l1_ratio=0.5, total=   0.3s\n",
      "[CV] alpha=0.1, l1_ratio=0.5 .........................................\n",
      "[CV] .......................... alpha=0.1, l1_ratio=0.5, total=   0.4s\n",
      "[CV] alpha=0.1, l1_ratio=0.5 .........................................\n",
      "[CV] .......................... alpha=0.1, l1_ratio=0.5, total=   0.4s\n",
      "[CV] alpha=0.1, l1_ratio=0.5 .........................................\n",
      "[CV] .......................... alpha=0.1, l1_ratio=0.5, total=   0.4s\n",
      "[CV] alpha=0.1, l1_ratio=0.5 .........................................\n",
      "[CV] .......................... alpha=0.1, l1_ratio=0.5, total=   0.3s\n",
      "[CV] alpha=0.1, l1_ratio=0.5 .........................................\n",
      "[CV] .......................... alpha=0.1, l1_ratio=0.5, total=   0.4s\n",
      "[CV] alpha=0.1, l1_ratio=0.5 .........................................\n",
      "[CV] .......................... alpha=0.1, l1_ratio=0.5, total=   0.4s\n",
      "[CV] alpha=0.1, l1_ratio=0.5 .........................................\n",
      "[CV] .......................... alpha=0.1, l1_ratio=0.5, total=   0.4s\n",
      "[CV] alpha=0.1, l1_ratio=0.5 .........................................\n",
      "[CV] .......................... alpha=0.1, l1_ratio=0.5, total=   0.4s\n",
      "[CV] alpha=0.1, l1_ratio=0.7 .........................................\n",
      "[CV] .......................... alpha=0.1, l1_ratio=0.7, total=   0.6s\n",
      "[CV] alpha=0.1, l1_ratio=0.7 .........................................\n",
      "[CV] .......................... alpha=0.1, l1_ratio=0.7, total=   0.4s\n",
      "[CV] alpha=0.1, l1_ratio=0.7 .........................................\n",
      "[CV] .......................... alpha=0.1, l1_ratio=0.7, total=   0.6s\n",
      "[CV] alpha=0.1, l1_ratio=0.7 .........................................\n",
      "[CV] .......................... alpha=0.1, l1_ratio=0.7, total=   0.5s\n",
      "[CV] alpha=0.1, l1_ratio=0.7 .........................................\n",
      "[CV] .......................... alpha=0.1, l1_ratio=0.7, total=   0.4s\n",
      "[CV] alpha=0.1, l1_ratio=0.7 .........................................\n",
      "[CV] .......................... alpha=0.1, l1_ratio=0.7, total=   0.4s\n",
      "[CV] alpha=0.1, l1_ratio=0.7 .........................................\n",
      "[CV] .......................... alpha=0.1, l1_ratio=0.7, total=   0.4s\n",
      "[CV] alpha=0.1, l1_ratio=0.7 .........................................\n",
      "[CV] .......................... alpha=0.1, l1_ratio=0.7, total=   0.6s\n",
      "[CV] alpha=0.1, l1_ratio=0.7 .........................................\n",
      "[CV] .......................... alpha=0.1, l1_ratio=0.7, total=   0.5s\n",
      "[CV] alpha=0.1, l1_ratio=0.7 .........................................\n",
      "[CV] .......................... alpha=0.1, l1_ratio=0.7, total=   0.6s\n",
      "[CV] alpha=0.1, l1_ratio=0.75 ........................................\n",
      "[CV] ......................... alpha=0.1, l1_ratio=0.75, total=   0.5s\n",
      "[CV] alpha=0.1, l1_ratio=0.75 ........................................\n",
      "[CV] ......................... alpha=0.1, l1_ratio=0.75, total=   0.5s\n",
      "[CV] alpha=0.1, l1_ratio=0.75 ........................................\n",
      "[CV] ......................... alpha=0.1, l1_ratio=0.75, total=   0.7s\n",
      "[CV] alpha=0.1, l1_ratio=0.75 ........................................\n",
      "[CV] ......................... alpha=0.1, l1_ratio=0.75, total=   0.7s\n",
      "[CV] alpha=0.1, l1_ratio=0.75 ........................................\n",
      "[CV] ......................... alpha=0.1, l1_ratio=0.75, total=   0.7s\n",
      "[CV] alpha=0.1, l1_ratio=0.75 ........................................\n",
      "[CV] ......................... alpha=0.1, l1_ratio=0.75, total=   0.5s\n",
      "[CV] alpha=0.1, l1_ratio=0.75 ........................................\n",
      "[CV] ......................... alpha=0.1, l1_ratio=0.75, total=   0.5s\n",
      "[CV] alpha=0.1, l1_ratio=0.75 ........................................\n",
      "[CV] ......................... alpha=0.1, l1_ratio=0.75, total=   0.5s\n",
      "[CV] alpha=0.1, l1_ratio=0.75 ........................................\n",
      "[CV] ......................... alpha=0.1, l1_ratio=0.75, total=   0.5s\n",
      "[CV] alpha=0.1, l1_ratio=0.75 ........................................\n",
      "[CV] ......................... alpha=0.1, l1_ratio=0.75, total=   0.5s\n",
      "[CV] alpha=0.1, l1_ratio=0.9 .........................................\n"
     ]
    },
    {
     "name": "stderr",
     "output_type": "stream",
     "text": [
      "C:\\Users\\Hp\\anaconda3\\envs\\fdgf\\lib\\site-packages\\sklearn\\linear_model\\_coordinate_descent.py:531: ConvergenceWarning: Objective did not converge. You might want to increase the number of iterations. Duality gap: 174590700941.85565, tolerance: 1536859599.6164982\n",
      "  positive)\n"
     ]
    },
    {
     "name": "stdout",
     "output_type": "stream",
     "text": [
      "[CV] .......................... alpha=0.1, l1_ratio=0.9, total=   0.8s\n",
      "[CV] alpha=0.1, l1_ratio=0.9 .........................................\n"
     ]
    },
    {
     "name": "stderr",
     "output_type": "stream",
     "text": [
      "C:\\Users\\Hp\\anaconda3\\envs\\fdgf\\lib\\site-packages\\sklearn\\linear_model\\_coordinate_descent.py:531: ConvergenceWarning: Objective did not converge. You might want to increase the number of iterations. Duality gap: 164300010156.51904, tolerance: 1533543348.4009626\n",
      "  positive)\n"
     ]
    },
    {
     "name": "stdout",
     "output_type": "stream",
     "text": [
      "[CV] .......................... alpha=0.1, l1_ratio=0.9, total=   0.8s\n",
      "[CV] alpha=0.1, l1_ratio=0.9 .........................................\n"
     ]
    },
    {
     "name": "stderr",
     "output_type": "stream",
     "text": [
      "C:\\Users\\Hp\\anaconda3\\envs\\fdgf\\lib\\site-packages\\sklearn\\linear_model\\_coordinate_descent.py:531: ConvergenceWarning: Objective did not converge. You might want to increase the number of iterations. Duality gap: 198424302376.6371, tolerance: 1569498936.193926\n",
      "  positive)\n"
     ]
    },
    {
     "name": "stdout",
     "output_type": "stream",
     "text": [
      "[CV] .......................... alpha=0.1, l1_ratio=0.9, total=   0.8s\n",
      "[CV] alpha=0.1, l1_ratio=0.9 .........................................\n"
     ]
    },
    {
     "name": "stderr",
     "output_type": "stream",
     "text": [
      "C:\\Users\\Hp\\anaconda3\\envs\\fdgf\\lib\\site-packages\\sklearn\\linear_model\\_coordinate_descent.py:531: ConvergenceWarning: Objective did not converge. You might want to increase the number of iterations. Duality gap: 172318750030.93787, tolerance: 1454832032.4183369\n",
      "  positive)\n"
     ]
    },
    {
     "name": "stdout",
     "output_type": "stream",
     "text": [
      "[CV] .......................... alpha=0.1, l1_ratio=0.9, total=   0.8s\n",
      "[CV] alpha=0.1, l1_ratio=0.9 .........................................\n"
     ]
    },
    {
     "name": "stderr",
     "output_type": "stream",
     "text": [
      "C:\\Users\\Hp\\anaconda3\\envs\\fdgf\\lib\\site-packages\\sklearn\\linear_model\\_coordinate_descent.py:531: ConvergenceWarning: Objective did not converge. You might want to increase the number of iterations. Duality gap: 177428886765.1217, tolerance: 1567300499.9324098\n",
      "  positive)\n"
     ]
    },
    {
     "name": "stdout",
     "output_type": "stream",
     "text": [
      "[CV] .......................... alpha=0.1, l1_ratio=0.9, total=   0.8s\n",
      "[CV] alpha=0.1, l1_ratio=0.9 .........................................\n"
     ]
    },
    {
     "name": "stderr",
     "output_type": "stream",
     "text": [
      "C:\\Users\\Hp\\anaconda3\\envs\\fdgf\\lib\\site-packages\\sklearn\\linear_model\\_coordinate_descent.py:531: ConvergenceWarning: Objective did not converge. You might want to increase the number of iterations. Duality gap: 161709419688.29138, tolerance: 1563613929.1629386\n",
      "  positive)\n"
     ]
    },
    {
     "name": "stdout",
     "output_type": "stream",
     "text": [
      "[CV] .......................... alpha=0.1, l1_ratio=0.9, total=   0.8s\n",
      "[CV] alpha=0.1, l1_ratio=0.9 .........................................\n"
     ]
    },
    {
     "name": "stderr",
     "output_type": "stream",
     "text": [
      "C:\\Users\\Hp\\anaconda3\\envs\\fdgf\\lib\\site-packages\\sklearn\\linear_model\\_coordinate_descent.py:531: ConvergenceWarning: Objective did not converge. You might want to increase the number of iterations. Duality gap: 197768470769.1739, tolerance: 1548294253.8260388\n",
      "  positive)\n"
     ]
    },
    {
     "name": "stdout",
     "output_type": "stream",
     "text": [
      "[CV] .......................... alpha=0.1, l1_ratio=0.9, total=   0.8s\n",
      "[CV] alpha=0.1, l1_ratio=0.9 .........................................\n"
     ]
    },
    {
     "name": "stderr",
     "output_type": "stream",
     "text": [
      "C:\\Users\\Hp\\anaconda3\\envs\\fdgf\\lib\\site-packages\\sklearn\\linear_model\\_coordinate_descent.py:531: ConvergenceWarning: Objective did not converge. You might want to increase the number of iterations. Duality gap: 206562713357.9593, tolerance: 1605914768.0799258\n",
      "  positive)\n"
     ]
    },
    {
     "name": "stdout",
     "output_type": "stream",
     "text": [
      "[CV] .......................... alpha=0.1, l1_ratio=0.9, total=   0.8s\n",
      "[CV] alpha=0.1, l1_ratio=0.9 .........................................\n"
     ]
    },
    {
     "name": "stderr",
     "output_type": "stream",
     "text": [
      "C:\\Users\\Hp\\anaconda3\\envs\\fdgf\\lib\\site-packages\\sklearn\\linear_model\\_coordinate_descent.py:531: ConvergenceWarning: Objective did not converge. You might want to increase the number of iterations. Duality gap: 126804499746.78314, tolerance: 1515807608.6357646\n",
      "  positive)\n"
     ]
    },
    {
     "name": "stdout",
     "output_type": "stream",
     "text": [
      "[CV] .......................... alpha=0.1, l1_ratio=0.9, total=   0.8s\n",
      "[CV] alpha=0.1, l1_ratio=0.9 .........................................\n"
     ]
    },
    {
     "name": "stderr",
     "output_type": "stream",
     "text": [
      "C:\\Users\\Hp\\anaconda3\\envs\\fdgf\\lib\\site-packages\\sklearn\\linear_model\\_coordinate_descent.py:531: ConvergenceWarning: Objective did not converge. You might want to increase the number of iterations. Duality gap: 216764559126.22827, tolerance: 1545968373.693442\n",
      "  positive)\n"
     ]
    },
    {
     "name": "stdout",
     "output_type": "stream",
     "text": [
      "[CV] .......................... alpha=0.1, l1_ratio=0.9, total=   0.8s\n",
      "[CV] alpha=0.1, l1_ratio=0.95 ........................................\n"
     ]
    },
    {
     "name": "stderr",
     "output_type": "stream",
     "text": [
      "C:\\Users\\Hp\\anaconda3\\envs\\fdgf\\lib\\site-packages\\sklearn\\linear_model\\_coordinate_descent.py:531: ConvergenceWarning: Objective did not converge. You might want to increase the number of iterations. Duality gap: 385993726873.8457, tolerance: 1536859599.6164982\n",
      "  positive)\n"
     ]
    },
    {
     "name": "stdout",
     "output_type": "stream",
     "text": [
      "[CV] ......................... alpha=0.1, l1_ratio=0.95, total=   0.7s\n",
      "[CV] alpha=0.1, l1_ratio=0.95 ........................................\n"
     ]
    },
    {
     "name": "stderr",
     "output_type": "stream",
     "text": [
      "C:\\Users\\Hp\\anaconda3\\envs\\fdgf\\lib\\site-packages\\sklearn\\linear_model\\_coordinate_descent.py:531: ConvergenceWarning: Objective did not converge. You might want to increase the number of iterations. Duality gap: 381722118305.3538, tolerance: 1533543348.4009626\n",
      "  positive)\n"
     ]
    },
    {
     "name": "stdout",
     "output_type": "stream",
     "text": [
      "[CV] ......................... alpha=0.1, l1_ratio=0.95, total=   0.8s\n",
      "[CV] alpha=0.1, l1_ratio=0.95 ........................................\n"
     ]
    },
    {
     "name": "stderr",
     "output_type": "stream",
     "text": [
      "C:\\Users\\Hp\\anaconda3\\envs\\fdgf\\lib\\site-packages\\sklearn\\linear_model\\_coordinate_descent.py:531: ConvergenceWarning: Objective did not converge. You might want to increase the number of iterations. Duality gap: 405506150936.48, tolerance: 1569498936.193926\n",
      "  positive)\n"
     ]
    },
    {
     "name": "stdout",
     "output_type": "stream",
     "text": [
      "[CV] ......................... alpha=0.1, l1_ratio=0.95, total=   0.7s\n",
      "[CV] alpha=0.1, l1_ratio=0.95 ........................................\n"
     ]
    },
    {
     "name": "stderr",
     "output_type": "stream",
     "text": [
      "C:\\Users\\Hp\\anaconda3\\envs\\fdgf\\lib\\site-packages\\sklearn\\linear_model\\_coordinate_descent.py:531: ConvergenceWarning: Objective did not converge. You might want to increase the number of iterations. Duality gap: 377135454592.59015, tolerance: 1454832032.4183369\n",
      "  positive)\n"
     ]
    },
    {
     "name": "stdout",
     "output_type": "stream",
     "text": [
      "[CV] ......................... alpha=0.1, l1_ratio=0.95, total=   0.7s\n",
      "[CV] alpha=0.1, l1_ratio=0.95 ........................................\n"
     ]
    },
    {
     "name": "stderr",
     "output_type": "stream",
     "text": [
      "C:\\Users\\Hp\\anaconda3\\envs\\fdgf\\lib\\site-packages\\sklearn\\linear_model\\_coordinate_descent.py:531: ConvergenceWarning: Objective did not converge. You might want to increase the number of iterations. Duality gap: 406229982683.3506, tolerance: 1567300499.9324098\n",
      "  positive)\n"
     ]
    },
    {
     "name": "stdout",
     "output_type": "stream",
     "text": [
      "[CV] ......................... alpha=0.1, l1_ratio=0.95, total=   0.9s\n",
      "[CV] alpha=0.1, l1_ratio=0.95 ........................................\n"
     ]
    },
    {
     "name": "stderr",
     "output_type": "stream",
     "text": [
      "C:\\Users\\Hp\\anaconda3\\envs\\fdgf\\lib\\site-packages\\sklearn\\linear_model\\_coordinate_descent.py:531: ConvergenceWarning: Objective did not converge. You might want to increase the number of iterations. Duality gap: 396806419202.37244, tolerance: 1563613929.1629386\n",
      "  positive)\n"
     ]
    },
    {
     "name": "stdout",
     "output_type": "stream",
     "text": [
      "[CV] ......................... alpha=0.1, l1_ratio=0.95, total=   0.8s\n",
      "[CV] alpha=0.1, l1_ratio=0.95 ........................................\n"
     ]
    },
    {
     "name": "stderr",
     "output_type": "stream",
     "text": [
      "C:\\Users\\Hp\\anaconda3\\envs\\fdgf\\lib\\site-packages\\sklearn\\linear_model\\_coordinate_descent.py:531: ConvergenceWarning: Objective did not converge. You might want to increase the number of iterations. Duality gap: 412130505022.0846, tolerance: 1548294253.8260388\n",
      "  positive)\n"
     ]
    },
    {
     "name": "stdout",
     "output_type": "stream",
     "text": [
      "[CV] ......................... alpha=0.1, l1_ratio=0.95, total=   0.7s\n",
      "[CV] alpha=0.1, l1_ratio=0.95 ........................................\n"
     ]
    },
    {
     "name": "stderr",
     "output_type": "stream",
     "text": [
      "C:\\Users\\Hp\\anaconda3\\envs\\fdgf\\lib\\site-packages\\sklearn\\linear_model\\_coordinate_descent.py:531: ConvergenceWarning: Objective did not converge. You might want to increase the number of iterations. Duality gap: 422218141742.02454, tolerance: 1605914768.0799258\n",
      "  positive)\n"
     ]
    },
    {
     "name": "stdout",
     "output_type": "stream",
     "text": [
      "[CV] ......................... alpha=0.1, l1_ratio=0.95, total=   0.7s\n",
      "[CV] alpha=0.1, l1_ratio=0.95 ........................................\n"
     ]
    },
    {
     "name": "stderr",
     "output_type": "stream",
     "text": [
      "C:\\Users\\Hp\\anaconda3\\envs\\fdgf\\lib\\site-packages\\sklearn\\linear_model\\_coordinate_descent.py:531: ConvergenceWarning: Objective did not converge. You might want to increase the number of iterations. Duality gap: 350986938499.43146, tolerance: 1515807608.6357646\n",
      "  positive)\n"
     ]
    },
    {
     "name": "stdout",
     "output_type": "stream",
     "text": [
      "[CV] ......................... alpha=0.1, l1_ratio=0.95, total=   0.8s\n",
      "[CV] alpha=0.1, l1_ratio=0.95 ........................................\n"
     ]
    },
    {
     "name": "stderr",
     "output_type": "stream",
     "text": [
      "C:\\Users\\Hp\\anaconda3\\envs\\fdgf\\lib\\site-packages\\sklearn\\linear_model\\_coordinate_descent.py:531: ConvergenceWarning: Objective did not converge. You might want to increase the number of iterations. Duality gap: 403196307218.56, tolerance: 1545968373.693442\n",
      "  positive)\n"
     ]
    },
    {
     "name": "stdout",
     "output_type": "stream",
     "text": [
      "[CV] ......................... alpha=0.1, l1_ratio=0.95, total=   0.8s\n",
      "[CV] alpha=0.1, l1_ratio=0.99 ........................................\n"
     ]
    },
    {
     "name": "stderr",
     "output_type": "stream",
     "text": [
      "C:\\Users\\Hp\\anaconda3\\envs\\fdgf\\lib\\site-packages\\sklearn\\linear_model\\_coordinate_descent.py:531: ConvergenceWarning: Objective did not converge. You might want to increase the number of iterations. Duality gap: 426466087161.09094, tolerance: 1536859599.6164982\n",
      "  positive)\n"
     ]
    },
    {
     "name": "stdout",
     "output_type": "stream",
     "text": [
      "[CV] ......................... alpha=0.1, l1_ratio=0.99, total=   0.7s\n",
      "[CV] alpha=0.1, l1_ratio=0.99 ........................................\n"
     ]
    },
    {
     "name": "stderr",
     "output_type": "stream",
     "text": [
      "C:\\Users\\Hp\\anaconda3\\envs\\fdgf\\lib\\site-packages\\sklearn\\linear_model\\_coordinate_descent.py:531: ConvergenceWarning: Objective did not converge. You might want to increase the number of iterations. Duality gap: 421033957290.8127, tolerance: 1533543348.4009626\n",
      "  positive)\n"
     ]
    },
    {
     "name": "stdout",
     "output_type": "stream",
     "text": [
      "[CV] ......................... alpha=0.1, l1_ratio=0.99, total=   0.7s\n",
      "[CV] alpha=0.1, l1_ratio=0.99 ........................................\n"
     ]
    },
    {
     "name": "stderr",
     "output_type": "stream",
     "text": [
      "C:\\Users\\Hp\\anaconda3\\envs\\fdgf\\lib\\site-packages\\sklearn\\linear_model\\_coordinate_descent.py:531: ConvergenceWarning: Objective did not converge. You might want to increase the number of iterations. Duality gap: 441875264657.60693, tolerance: 1569498936.193926\n",
      "  positive)\n"
     ]
    },
    {
     "name": "stdout",
     "output_type": "stream",
     "text": [
      "[CV] ......................... alpha=0.1, l1_ratio=0.99, total=   0.7s\n",
      "[CV] alpha=0.1, l1_ratio=0.99 ........................................\n"
     ]
    },
    {
     "name": "stderr",
     "output_type": "stream",
     "text": [
      "C:\\Users\\Hp\\anaconda3\\envs\\fdgf\\lib\\site-packages\\sklearn\\linear_model\\_coordinate_descent.py:531: ConvergenceWarning: Objective did not converge. You might want to increase the number of iterations. Duality gap: 414138394371.1343, tolerance: 1454832032.4183369\n",
      "  positive)\n"
     ]
    },
    {
     "name": "stdout",
     "output_type": "stream",
     "text": [
      "[CV] ......................... alpha=0.1, l1_ratio=0.99, total=   0.7s\n",
      "[CV] alpha=0.1, l1_ratio=0.99 ........................................\n"
     ]
    },
    {
     "name": "stderr",
     "output_type": "stream",
     "text": [
      "C:\\Users\\Hp\\anaconda3\\envs\\fdgf\\lib\\site-packages\\sklearn\\linear_model\\_coordinate_descent.py:531: ConvergenceWarning: Objective did not converge. You might want to increase the number of iterations. Duality gap: 449462484532.8535, tolerance: 1567300499.9324098\n",
      "  positive)\n"
     ]
    },
    {
     "name": "stdout",
     "output_type": "stream",
     "text": [
      "[CV] ......................... alpha=0.1, l1_ratio=0.99, total=   0.7s\n",
      "[CV] alpha=0.1, l1_ratio=0.99 ........................................\n"
     ]
    },
    {
     "name": "stderr",
     "output_type": "stream",
     "text": [
      "C:\\Users\\Hp\\anaconda3\\envs\\fdgf\\lib\\site-packages\\sklearn\\linear_model\\_coordinate_descent.py:531: ConvergenceWarning: Objective did not converge. You might want to increase the number of iterations. Duality gap: 451927420294.97925, tolerance: 1563613929.1629386\n",
      "  positive)\n"
     ]
    },
    {
     "name": "stdout",
     "output_type": "stream",
     "text": [
      "[CV] ......................... alpha=0.1, l1_ratio=0.99, total=   0.7s\n",
      "[CV] alpha=0.1, l1_ratio=0.99 ........................................\n"
     ]
    },
    {
     "name": "stderr",
     "output_type": "stream",
     "text": [
      "C:\\Users\\Hp\\anaconda3\\envs\\fdgf\\lib\\site-packages\\sklearn\\linear_model\\_coordinate_descent.py:531: ConvergenceWarning: Objective did not converge. You might want to increase the number of iterations. Duality gap: 447654964595.9431, tolerance: 1548294253.8260388\n",
      "  positive)\n"
     ]
    },
    {
     "name": "stdout",
     "output_type": "stream",
     "text": [
      "[CV] ......................... alpha=0.1, l1_ratio=0.99, total=   0.7s\n",
      "[CV] alpha=0.1, l1_ratio=0.99 ........................................\n"
     ]
    },
    {
     "name": "stderr",
     "output_type": "stream",
     "text": [
      "C:\\Users\\Hp\\anaconda3\\envs\\fdgf\\lib\\site-packages\\sklearn\\linear_model\\_coordinate_descent.py:531: ConvergenceWarning: Objective did not converge. You might want to increase the number of iterations. Duality gap: 451614181068.3506, tolerance: 1605914768.0799258\n",
      "  positive)\n"
     ]
    },
    {
     "name": "stdout",
     "output_type": "stream",
     "text": [
      "[CV] ......................... alpha=0.1, l1_ratio=0.99, total=   0.7s\n",
      "[CV] alpha=0.1, l1_ratio=0.99 ........................................\n"
     ]
    },
    {
     "name": "stderr",
     "output_type": "stream",
     "text": [
      "C:\\Users\\Hp\\anaconda3\\envs\\fdgf\\lib\\site-packages\\sklearn\\linear_model\\_coordinate_descent.py:531: ConvergenceWarning: Objective did not converge. You might want to increase the number of iterations. Duality gap: 419978375640.9612, tolerance: 1515807608.6357646\n",
      "  positive)\n"
     ]
    },
    {
     "name": "stdout",
     "output_type": "stream",
     "text": [
      "[CV] ......................... alpha=0.1, l1_ratio=0.99, total=   0.7s\n",
      "[CV] alpha=0.1, l1_ratio=0.99 ........................................\n"
     ]
    },
    {
     "name": "stderr",
     "output_type": "stream",
     "text": [
      "C:\\Users\\Hp\\anaconda3\\envs\\fdgf\\lib\\site-packages\\sklearn\\linear_model\\_coordinate_descent.py:531: ConvergenceWarning: Objective did not converge. You might want to increase the number of iterations. Duality gap: 441057662784.05115, tolerance: 1545968373.693442\n",
      "  positive)\n"
     ]
    },
    {
     "name": "stdout",
     "output_type": "stream",
     "text": [
      "[CV] ......................... alpha=0.1, l1_ratio=0.99, total=   0.7s\n",
      "[CV] alpha=0.1, l1_ratio=1 ...........................................\n"
     ]
    },
    {
     "name": "stderr",
     "output_type": "stream",
     "text": [
      "C:\\Users\\Hp\\anaconda3\\envs\\fdgf\\lib\\site-packages\\sklearn\\linear_model\\_coordinate_descent.py:531: ConvergenceWarning: Objective did not converge. You might want to increase the number of iterations. Duality gap: 420551196169.13745, tolerance: 1536859599.6164982\n",
      "  positive)\n"
     ]
    },
    {
     "name": "stdout",
     "output_type": "stream",
     "text": [
      "[CV] ............................ alpha=0.1, l1_ratio=1, total=   0.7s\n",
      "[CV] alpha=0.1, l1_ratio=1 ...........................................\n"
     ]
    },
    {
     "name": "stderr",
     "output_type": "stream",
     "text": [
      "C:\\Users\\Hp\\anaconda3\\envs\\fdgf\\lib\\site-packages\\sklearn\\linear_model\\_coordinate_descent.py:531: ConvergenceWarning: Objective did not converge. You might want to increase the number of iterations. Duality gap: 417121817442.22284, tolerance: 1533543348.4009626\n",
      "  positive)\n"
     ]
    },
    {
     "name": "stdout",
     "output_type": "stream",
     "text": [
      "[CV] ............................ alpha=0.1, l1_ratio=1, total=   0.7s\n",
      "[CV] alpha=0.1, l1_ratio=1 ...........................................\n"
     ]
    },
    {
     "name": "stderr",
     "output_type": "stream",
     "text": [
      "C:\\Users\\Hp\\anaconda3\\envs\\fdgf\\lib\\site-packages\\sklearn\\linear_model\\_coordinate_descent.py:531: ConvergenceWarning: Objective did not converge. You might want to increase the number of iterations. Duality gap: 437997510911.61554, tolerance: 1569498936.193926\n",
      "  positive)\n"
     ]
    },
    {
     "name": "stdout",
     "output_type": "stream",
     "text": [
      "[CV] ............................ alpha=0.1, l1_ratio=1, total=   0.7s\n",
      "[CV] alpha=0.1, l1_ratio=1 ...........................................\n"
     ]
    },
    {
     "name": "stderr",
     "output_type": "stream",
     "text": [
      "C:\\Users\\Hp\\anaconda3\\envs\\fdgf\\lib\\site-packages\\sklearn\\linear_model\\_coordinate_descent.py:531: ConvergenceWarning: Objective did not converge. You might want to increase the number of iterations. Duality gap: 409405264743.776, tolerance: 1454832032.4183369\n",
      "  positive)\n"
     ]
    },
    {
     "name": "stdout",
     "output_type": "stream",
     "text": [
      "[CV] ............................ alpha=0.1, l1_ratio=1, total=   0.7s\n",
      "[CV] alpha=0.1, l1_ratio=1 ...........................................\n"
     ]
    },
    {
     "name": "stderr",
     "output_type": "stream",
     "text": [
      "C:\\Users\\Hp\\anaconda3\\envs\\fdgf\\lib\\site-packages\\sklearn\\linear_model\\_coordinate_descent.py:531: ConvergenceWarning: Objective did not converge. You might want to increase the number of iterations. Duality gap: 446367434233.456, tolerance: 1567300499.9324098\n",
      "  positive)\n"
     ]
    },
    {
     "name": "stdout",
     "output_type": "stream",
     "text": [
      "[CV] ............................ alpha=0.1, l1_ratio=1, total=   0.7s\n",
      "[CV] alpha=0.1, l1_ratio=1 ...........................................\n"
     ]
    },
    {
     "name": "stderr",
     "output_type": "stream",
     "text": [
      "C:\\Users\\Hp\\anaconda3\\envs\\fdgf\\lib\\site-packages\\sklearn\\linear_model\\_coordinate_descent.py:531: ConvergenceWarning: Objective did not converge. You might want to increase the number of iterations. Duality gap: 448185024174.6113, tolerance: 1563613929.1629386\n",
      "  positive)\n"
     ]
    },
    {
     "name": "stdout",
     "output_type": "stream",
     "text": [
      "[CV] ............................ alpha=0.1, l1_ratio=1, total=   0.8s\n",
      "[CV] alpha=0.1, l1_ratio=1 ...........................................\n"
     ]
    },
    {
     "name": "stderr",
     "output_type": "stream",
     "text": [
      "C:\\Users\\Hp\\anaconda3\\envs\\fdgf\\lib\\site-packages\\sklearn\\linear_model\\_coordinate_descent.py:531: ConvergenceWarning: Objective did not converge. You might want to increase the number of iterations. Duality gap: 444323486261.6606, tolerance: 1548294253.8260388\n",
      "  positive)\n"
     ]
    },
    {
     "name": "stdout",
     "output_type": "stream",
     "text": [
      "[CV] ............................ alpha=0.1, l1_ratio=1, total=   0.9s\n",
      "[CV] alpha=0.1, l1_ratio=1 ...........................................\n"
     ]
    },
    {
     "name": "stderr",
     "output_type": "stream",
     "text": [
      "C:\\Users\\Hp\\anaconda3\\envs\\fdgf\\lib\\site-packages\\sklearn\\linear_model\\_coordinate_descent.py:531: ConvergenceWarning: Objective did not converge. You might want to increase the number of iterations. Duality gap: 445260109413.3401, tolerance: 1605914768.0799258\n",
      "  positive)\n"
     ]
    },
    {
     "name": "stdout",
     "output_type": "stream",
     "text": [
      "[CV] ............................ alpha=0.1, l1_ratio=1, total=   0.8s\n",
      "[CV] alpha=0.1, l1_ratio=1 ...........................................\n"
     ]
    },
    {
     "name": "stderr",
     "output_type": "stream",
     "text": [
      "C:\\Users\\Hp\\anaconda3\\envs\\fdgf\\lib\\site-packages\\sklearn\\linear_model\\_coordinate_descent.py:531: ConvergenceWarning: Objective did not converge. You might want to increase the number of iterations. Duality gap: 416231542787.3803, tolerance: 1515807608.6357646\n",
      "  positive)\n"
     ]
    },
    {
     "name": "stdout",
     "output_type": "stream",
     "text": [
      "[CV] ............................ alpha=0.1, l1_ratio=1, total=   0.7s\n",
      "[CV] alpha=0.1, l1_ratio=1 ...........................................\n"
     ]
    },
    {
     "name": "stderr",
     "output_type": "stream",
     "text": [
      "C:\\Users\\Hp\\anaconda3\\envs\\fdgf\\lib\\site-packages\\sklearn\\linear_model\\_coordinate_descent.py:531: ConvergenceWarning: Objective did not converge. You might want to increase the number of iterations. Duality gap: 440522245749.24304, tolerance: 1545968373.693442\n",
      "  positive)\n"
     ]
    },
    {
     "name": "stdout",
     "output_type": "stream",
     "text": [
      "[CV] ............................ alpha=0.1, l1_ratio=1, total=   0.7s\n",
      "[CV] alpha=1, l1_ratio=0.1 ...........................................\n",
      "[CV] ............................ alpha=1, l1_ratio=0.1, total=   0.1s\n",
      "[CV] alpha=1, l1_ratio=0.1 ...........................................\n",
      "[CV] ............................ alpha=1, l1_ratio=0.1, total=   0.1s\n",
      "[CV] alpha=1, l1_ratio=0.1 ...........................................\n",
      "[CV] ............................ alpha=1, l1_ratio=0.1, total=   0.1s\n",
      "[CV] alpha=1, l1_ratio=0.1 ...........................................\n",
      "[CV] ............................ alpha=1, l1_ratio=0.1, total=   0.1s\n",
      "[CV] alpha=1, l1_ratio=0.1 ...........................................\n",
      "[CV] ............................ alpha=1, l1_ratio=0.1, total=   0.1s\n",
      "[CV] alpha=1, l1_ratio=0.1 ...........................................\n",
      "[CV] ............................ alpha=1, l1_ratio=0.1, total=   0.1s\n",
      "[CV] alpha=1, l1_ratio=0.1 ...........................................\n",
      "[CV] ............................ alpha=1, l1_ratio=0.1, total=   0.1s\n",
      "[CV] alpha=1, l1_ratio=0.1 ...........................................\n",
      "[CV] ............................ alpha=1, l1_ratio=0.1, total=   0.1s\n",
      "[CV] alpha=1, l1_ratio=0.1 ...........................................\n",
      "[CV] ............................ alpha=1, l1_ratio=0.1, total=   0.1s\n",
      "[CV] alpha=1, l1_ratio=0.1 ...........................................\n",
      "[CV] ............................ alpha=1, l1_ratio=0.1, total=   0.1s\n",
      "[CV] alpha=1, l1_ratio=0.25 ..........................................\n",
      "[CV] ........................... alpha=1, l1_ratio=0.25, total=   0.1s\n",
      "[CV] alpha=1, l1_ratio=0.25 ..........................................\n",
      "[CV] ........................... alpha=1, l1_ratio=0.25, total=   0.1s\n",
      "[CV] alpha=1, l1_ratio=0.25 ..........................................\n",
      "[CV] ........................... alpha=1, l1_ratio=0.25, total=   0.1s\n",
      "[CV] alpha=1, l1_ratio=0.25 ..........................................\n",
      "[CV] ........................... alpha=1, l1_ratio=0.25, total=   0.1s\n",
      "[CV] alpha=1, l1_ratio=0.25 ..........................................\n",
      "[CV] ........................... alpha=1, l1_ratio=0.25, total=   0.1s\n",
      "[CV] alpha=1, l1_ratio=0.25 ..........................................\n",
      "[CV] ........................... alpha=1, l1_ratio=0.25, total=   0.1s\n",
      "[CV] alpha=1, l1_ratio=0.25 ..........................................\n",
      "[CV] ........................... alpha=1, l1_ratio=0.25, total=   0.1s\n",
      "[CV] alpha=1, l1_ratio=0.25 ..........................................\n",
      "[CV] ........................... alpha=1, l1_ratio=0.25, total=   0.1s\n",
      "[CV] alpha=1, l1_ratio=0.25 ..........................................\n",
      "[CV] ........................... alpha=1, l1_ratio=0.25, total=   0.1s\n",
      "[CV] alpha=1, l1_ratio=0.25 ..........................................\n",
      "[CV] ........................... alpha=1, l1_ratio=0.25, total=   0.1s\n",
      "[CV] alpha=1, l1_ratio=0.5 ...........................................\n",
      "[CV] ............................ alpha=1, l1_ratio=0.5, total=   0.1s\n",
      "[CV] alpha=1, l1_ratio=0.5 ...........................................\n",
      "[CV] ............................ alpha=1, l1_ratio=0.5, total=   0.1s\n",
      "[CV] alpha=1, l1_ratio=0.5 ...........................................\n",
      "[CV] ............................ alpha=1, l1_ratio=0.5, total=   0.1s\n",
      "[CV] alpha=1, l1_ratio=0.5 ...........................................\n",
      "[CV] ............................ alpha=1, l1_ratio=0.5, total=   0.1s\n",
      "[CV] alpha=1, l1_ratio=0.5 ...........................................\n",
      "[CV] ............................ alpha=1, l1_ratio=0.5, total=   0.1s\n",
      "[CV] alpha=1, l1_ratio=0.5 ...........................................\n",
      "[CV] ............................ alpha=1, l1_ratio=0.5, total=   0.1s\n",
      "[CV] alpha=1, l1_ratio=0.5 ...........................................\n",
      "[CV] ............................ alpha=1, l1_ratio=0.5, total=   0.1s\n",
      "[CV] alpha=1, l1_ratio=0.5 ...........................................\n",
      "[CV] ............................ alpha=1, l1_ratio=0.5, total=   0.1s\n",
      "[CV] alpha=1, l1_ratio=0.5 ...........................................\n",
      "[CV] ............................ alpha=1, l1_ratio=0.5, total=   0.1s\n",
      "[CV] alpha=1, l1_ratio=0.5 ...........................................\n",
      "[CV] ............................ alpha=1, l1_ratio=0.5, total=   0.1s\n",
      "[CV] alpha=1, l1_ratio=0.7 ...........................................\n",
      "[CV] ............................ alpha=1, l1_ratio=0.7, total=   0.1s\n",
      "[CV] alpha=1, l1_ratio=0.7 ...........................................\n",
      "[CV] ............................ alpha=1, l1_ratio=0.7, total=   0.1s\n",
      "[CV] alpha=1, l1_ratio=0.7 ...........................................\n",
      "[CV] ............................ alpha=1, l1_ratio=0.7, total=   0.1s\n",
      "[CV] alpha=1, l1_ratio=0.7 ...........................................\n",
      "[CV] ............................ alpha=1, l1_ratio=0.7, total=   0.1s\n",
      "[CV] alpha=1, l1_ratio=0.7 ...........................................\n",
      "[CV] ............................ alpha=1, l1_ratio=0.7, total=   0.1s\n",
      "[CV] alpha=1, l1_ratio=0.7 ...........................................\n",
      "[CV] ............................ alpha=1, l1_ratio=0.7, total=   0.1s\n",
      "[CV] alpha=1, l1_ratio=0.7 ...........................................\n",
      "[CV] ............................ alpha=1, l1_ratio=0.7, total=   0.1s\n",
      "[CV] alpha=1, l1_ratio=0.7 ...........................................\n",
      "[CV] ............................ alpha=1, l1_ratio=0.7, total=   0.1s\n",
      "[CV] alpha=1, l1_ratio=0.7 ...........................................\n",
      "[CV] ............................ alpha=1, l1_ratio=0.7, total=   0.1s\n",
      "[CV] alpha=1, l1_ratio=0.7 ...........................................\n",
      "[CV] ............................ alpha=1, l1_ratio=0.7, total=   0.1s\n",
      "[CV] alpha=1, l1_ratio=0.75 ..........................................\n",
      "[CV] ........................... alpha=1, l1_ratio=0.75, total=   0.2s\n",
      "[CV] alpha=1, l1_ratio=0.75 ..........................................\n",
      "[CV] ........................... alpha=1, l1_ratio=0.75, total=   0.1s\n",
      "[CV] alpha=1, l1_ratio=0.75 ..........................................\n",
      "[CV] ........................... alpha=1, l1_ratio=0.75, total=   0.1s\n",
      "[CV] alpha=1, l1_ratio=0.75 ..........................................\n",
      "[CV] ........................... alpha=1, l1_ratio=0.75, total=   0.1s\n",
      "[CV] alpha=1, l1_ratio=0.75 ..........................................\n",
      "[CV] ........................... alpha=1, l1_ratio=0.75, total=   0.1s\n",
      "[CV] alpha=1, l1_ratio=0.75 ..........................................\n",
      "[CV] ........................... alpha=1, l1_ratio=0.75, total=   0.1s\n",
      "[CV] alpha=1, l1_ratio=0.75 ..........................................\n",
      "[CV] ........................... alpha=1, l1_ratio=0.75, total=   0.1s\n",
      "[CV] alpha=1, l1_ratio=0.75 ..........................................\n",
      "[CV] ........................... alpha=1, l1_ratio=0.75, total=   0.1s\n",
      "[CV] alpha=1, l1_ratio=0.75 ..........................................\n",
      "[CV] ........................... alpha=1, l1_ratio=0.75, total=   0.1s\n",
      "[CV] alpha=1, l1_ratio=0.75 ..........................................\n",
      "[CV] ........................... alpha=1, l1_ratio=0.75, total=   0.1s\n",
      "[CV] alpha=1, l1_ratio=0.9 ...........................................\n",
      "[CV] ............................ alpha=1, l1_ratio=0.9, total=   0.1s\n",
      "[CV] alpha=1, l1_ratio=0.9 ...........................................\n",
      "[CV] ............................ alpha=1, l1_ratio=0.9, total=   0.2s\n",
      "[CV] alpha=1, l1_ratio=0.9 ...........................................\n",
      "[CV] ............................ alpha=1, l1_ratio=0.9, total=   0.2s\n",
      "[CV] alpha=1, l1_ratio=0.9 ...........................................\n",
      "[CV] ............................ alpha=1, l1_ratio=0.9, total=   0.2s\n",
      "[CV] alpha=1, l1_ratio=0.9 ...........................................\n",
      "[CV] ............................ alpha=1, l1_ratio=0.9, total=   0.2s\n",
      "[CV] alpha=1, l1_ratio=0.9 ...........................................\n",
      "[CV] ............................ alpha=1, l1_ratio=0.9, total=   0.2s\n",
      "[CV] alpha=1, l1_ratio=0.9 ...........................................\n",
      "[CV] ............................ alpha=1, l1_ratio=0.9, total=   0.2s\n",
      "[CV] alpha=1, l1_ratio=0.9 ...........................................\n"
     ]
    },
    {
     "name": "stdout",
     "output_type": "stream",
     "text": [
      "[CV] ............................ alpha=1, l1_ratio=0.9, total=   0.2s\n",
      "[CV] alpha=1, l1_ratio=0.9 ...........................................\n",
      "[CV] ............................ alpha=1, l1_ratio=0.9, total=   0.2s\n",
      "[CV] alpha=1, l1_ratio=0.9 ...........................................\n",
      "[CV] ............................ alpha=1, l1_ratio=0.9, total=   0.2s\n",
      "[CV] alpha=1, l1_ratio=0.95 ..........................................\n",
      "[CV] ........................... alpha=1, l1_ratio=0.95, total=   0.3s\n",
      "[CV] alpha=1, l1_ratio=0.95 ..........................................\n",
      "[CV] ........................... alpha=1, l1_ratio=0.95, total=   0.2s\n",
      "[CV] alpha=1, l1_ratio=0.95 ..........................................\n",
      "[CV] ........................... alpha=1, l1_ratio=0.95, total=   0.3s\n",
      "[CV] alpha=1, l1_ratio=0.95 ..........................................\n",
      "[CV] ........................... alpha=1, l1_ratio=0.95, total=   0.3s\n",
      "[CV] alpha=1, l1_ratio=0.95 ..........................................\n",
      "[CV] ........................... alpha=1, l1_ratio=0.95, total=   0.2s\n",
      "[CV] alpha=1, l1_ratio=0.95 ..........................................\n",
      "[CV] ........................... alpha=1, l1_ratio=0.95, total=   0.3s\n",
      "[CV] alpha=1, l1_ratio=0.95 ..........................................\n",
      "[CV] ........................... alpha=1, l1_ratio=0.95, total=   0.3s\n",
      "[CV] alpha=1, l1_ratio=0.95 ..........................................\n",
      "[CV] ........................... alpha=1, l1_ratio=0.95, total=   0.2s\n",
      "[CV] alpha=1, l1_ratio=0.95 ..........................................\n",
      "[CV] ........................... alpha=1, l1_ratio=0.95, total=   0.3s\n",
      "[CV] alpha=1, l1_ratio=0.95 ..........................................\n",
      "[CV] ........................... alpha=1, l1_ratio=0.95, total=   0.3s\n",
      "[CV] alpha=1, l1_ratio=0.99 ..........................................\n",
      "[CV] ........................... alpha=1, l1_ratio=0.99, total=   0.7s\n",
      "[CV] alpha=1, l1_ratio=0.99 ..........................................\n",
      "[CV] ........................... alpha=1, l1_ratio=0.99, total=   0.6s\n",
      "[CV] alpha=1, l1_ratio=0.99 ..........................................\n",
      "[CV] ........................... alpha=1, l1_ratio=0.99, total=   0.7s\n",
      "[CV] alpha=1, l1_ratio=0.99 ..........................................\n",
      "[CV] ........................... alpha=1, l1_ratio=0.99, total=   0.6s\n",
      "[CV] alpha=1, l1_ratio=0.99 ..........................................\n",
      "[CV] ........................... alpha=1, l1_ratio=0.99, total=   0.7s\n",
      "[CV] alpha=1, l1_ratio=0.99 ..........................................\n",
      "[CV] ........................... alpha=1, l1_ratio=0.99, total=   0.8s\n",
      "[CV] alpha=1, l1_ratio=0.99 ..........................................\n",
      "[CV] ........................... alpha=1, l1_ratio=0.99, total=   0.6s\n",
      "[CV] alpha=1, l1_ratio=0.99 ..........................................\n",
      "[CV] ........................... alpha=1, l1_ratio=0.99, total=   0.7s\n",
      "[CV] alpha=1, l1_ratio=0.99 ..........................................\n",
      "[CV] ........................... alpha=1, l1_ratio=0.99, total=   0.6s\n",
      "[CV] alpha=1, l1_ratio=0.99 ..........................................\n",
      "[CV] ........................... alpha=1, l1_ratio=0.99, total=   0.6s\n",
      "[CV] alpha=1, l1_ratio=1 .............................................\n"
     ]
    },
    {
     "name": "stderr",
     "output_type": "stream",
     "text": [
      "C:\\Users\\Hp\\anaconda3\\envs\\fdgf\\lib\\site-packages\\sklearn\\linear_model\\_coordinate_descent.py:531: ConvergenceWarning: Objective did not converge. You might want to increase the number of iterations. Duality gap: 336622039098.4667, tolerance: 1536859599.6164982\n",
      "  positive)\n"
     ]
    },
    {
     "name": "stdout",
     "output_type": "stream",
     "text": [
      "[CV] .............................. alpha=1, l1_ratio=1, total=   0.7s\n",
      "[CV] alpha=1, l1_ratio=1 .............................................\n"
     ]
    },
    {
     "name": "stderr",
     "output_type": "stream",
     "text": [
      "C:\\Users\\Hp\\anaconda3\\envs\\fdgf\\lib\\site-packages\\sklearn\\linear_model\\_coordinate_descent.py:531: ConvergenceWarning: Objective did not converge. You might want to increase the number of iterations. Duality gap: 357200489291.49774, tolerance: 1533543348.4009626\n",
      "  positive)\n"
     ]
    },
    {
     "name": "stdout",
     "output_type": "stream",
     "text": [
      "[CV] .............................. alpha=1, l1_ratio=1, total=   0.7s\n",
      "[CV] alpha=1, l1_ratio=1 .............................................\n"
     ]
    },
    {
     "name": "stderr",
     "output_type": "stream",
     "text": [
      "C:\\Users\\Hp\\anaconda3\\envs\\fdgf\\lib\\site-packages\\sklearn\\linear_model\\_coordinate_descent.py:531: ConvergenceWarning: Objective did not converge. You might want to increase the number of iterations. Duality gap: 375780696346.18524, tolerance: 1569498936.193926\n",
      "  positive)\n"
     ]
    },
    {
     "name": "stdout",
     "output_type": "stream",
     "text": [
      "[CV] .............................. alpha=1, l1_ratio=1, total=   0.7s\n",
      "[CV] alpha=1, l1_ratio=1 .............................................\n"
     ]
    },
    {
     "name": "stderr",
     "output_type": "stream",
     "text": [
      "C:\\Users\\Hp\\anaconda3\\envs\\fdgf\\lib\\site-packages\\sklearn\\linear_model\\_coordinate_descent.py:531: ConvergenceWarning: Objective did not converge. You might want to increase the number of iterations. Duality gap: 352614361071.6271, tolerance: 1454832032.4183369\n",
      "  positive)\n"
     ]
    },
    {
     "name": "stdout",
     "output_type": "stream",
     "text": [
      "[CV] .............................. alpha=1, l1_ratio=1, total=   0.7s\n",
      "[CV] alpha=1, l1_ratio=1 .............................................\n"
     ]
    },
    {
     "name": "stderr",
     "output_type": "stream",
     "text": [
      "C:\\Users\\Hp\\anaconda3\\envs\\fdgf\\lib\\site-packages\\sklearn\\linear_model\\_coordinate_descent.py:531: ConvergenceWarning: Objective did not converge. You might want to increase the number of iterations. Duality gap: 385484472771.5528, tolerance: 1567300499.9324098\n",
      "  positive)\n"
     ]
    },
    {
     "name": "stdout",
     "output_type": "stream",
     "text": [
      "[CV] .............................. alpha=1, l1_ratio=1, total=   0.7s\n",
      "[CV] alpha=1, l1_ratio=1 .............................................\n"
     ]
    },
    {
     "name": "stderr",
     "output_type": "stream",
     "text": [
      "C:\\Users\\Hp\\anaconda3\\envs\\fdgf\\lib\\site-packages\\sklearn\\linear_model\\_coordinate_descent.py:531: ConvergenceWarning: Objective did not converge. You might want to increase the number of iterations. Duality gap: 371667754364.95605, tolerance: 1563613929.1629386\n",
      "  positive)\n"
     ]
    },
    {
     "name": "stdout",
     "output_type": "stream",
     "text": [
      "[CV] .............................. alpha=1, l1_ratio=1, total=   0.7s\n",
      "[CV] alpha=1, l1_ratio=1 .............................................\n"
     ]
    },
    {
     "name": "stderr",
     "output_type": "stream",
     "text": [
      "C:\\Users\\Hp\\anaconda3\\envs\\fdgf\\lib\\site-packages\\sklearn\\linear_model\\_coordinate_descent.py:531: ConvergenceWarning: Objective did not converge. You might want to increase the number of iterations. Duality gap: 391283473242.7317, tolerance: 1548294253.8260388\n",
      "  positive)\n"
     ]
    },
    {
     "name": "stdout",
     "output_type": "stream",
     "text": [
      "[CV] .............................. alpha=1, l1_ratio=1, total=   0.7s\n",
      "[CV] alpha=1, l1_ratio=1 .............................................\n"
     ]
    },
    {
     "name": "stderr",
     "output_type": "stream",
     "text": [
      "C:\\Users\\Hp\\anaconda3\\envs\\fdgf\\lib\\site-packages\\sklearn\\linear_model\\_coordinate_descent.py:531: ConvergenceWarning: Objective did not converge. You might want to increase the number of iterations. Duality gap: 367234910817.2877, tolerance: 1605914768.0799258\n",
      "  positive)\n"
     ]
    },
    {
     "name": "stdout",
     "output_type": "stream",
     "text": [
      "[CV] .............................. alpha=1, l1_ratio=1, total=   0.7s\n",
      "[CV] alpha=1, l1_ratio=1 .............................................\n"
     ]
    },
    {
     "name": "stderr",
     "output_type": "stream",
     "text": [
      "C:\\Users\\Hp\\anaconda3\\envs\\fdgf\\lib\\site-packages\\sklearn\\linear_model\\_coordinate_descent.py:531: ConvergenceWarning: Objective did not converge. You might want to increase the number of iterations. Duality gap: 309138890465.0779, tolerance: 1515807608.6357646\n",
      "  positive)\n"
     ]
    },
    {
     "name": "stdout",
     "output_type": "stream",
     "text": [
      "[CV] .............................. alpha=1, l1_ratio=1, total=   0.7s\n",
      "[CV] alpha=1, l1_ratio=1 .............................................\n"
     ]
    },
    {
     "name": "stderr",
     "output_type": "stream",
     "text": [
      "C:\\Users\\Hp\\anaconda3\\envs\\fdgf\\lib\\site-packages\\sklearn\\linear_model\\_coordinate_descent.py:531: ConvergenceWarning: Objective did not converge. You might want to increase the number of iterations. Duality gap: 372017055534.2083, tolerance: 1545968373.693442\n",
      "  positive)\n"
     ]
    },
    {
     "name": "stdout",
     "output_type": "stream",
     "text": [
      "[CV] .............................. alpha=1, l1_ratio=1, total=   0.7s\n",
      "[CV] alpha=5, l1_ratio=0.1 ...........................................\n",
      "[CV] ............................ alpha=5, l1_ratio=0.1, total=   0.0s\n",
      "[CV] alpha=5, l1_ratio=0.1 ...........................................\n",
      "[CV] ............................ alpha=5, l1_ratio=0.1, total=   0.0s\n",
      "[CV] alpha=5, l1_ratio=0.1 ...........................................\n",
      "[CV] ............................ alpha=5, l1_ratio=0.1, total=   0.0s\n",
      "[CV] alpha=5, l1_ratio=0.1 ...........................................\n",
      "[CV] ............................ alpha=5, l1_ratio=0.1, total=   0.0s\n",
      "[CV] alpha=5, l1_ratio=0.1 ...........................................\n",
      "[CV] ............................ alpha=5, l1_ratio=0.1, total=   0.0s\n",
      "[CV] alpha=5, l1_ratio=0.1 ...........................................\n",
      "[CV] ............................ alpha=5, l1_ratio=0.1, total=   0.0s\n",
      "[CV] alpha=5, l1_ratio=0.1 ...........................................\n",
      "[CV] ............................ alpha=5, l1_ratio=0.1, total=   0.0s\n",
      "[CV] alpha=5, l1_ratio=0.1 ...........................................\n",
      "[CV] ............................ alpha=5, l1_ratio=0.1, total=   0.0s\n",
      "[CV] alpha=5, l1_ratio=0.1 ...........................................\n",
      "[CV] ............................ alpha=5, l1_ratio=0.1, total=   0.0s\n",
      "[CV] alpha=5, l1_ratio=0.1 ...........................................\n",
      "[CV] ............................ alpha=5, l1_ratio=0.1, total=   0.0s\n",
      "[CV] alpha=5, l1_ratio=0.25 ..........................................\n",
      "[CV] ........................... alpha=5, l1_ratio=0.25, total=   0.0s\n",
      "[CV] alpha=5, l1_ratio=0.25 ..........................................\n",
      "[CV] ........................... alpha=5, l1_ratio=0.25, total=   0.0s\n",
      "[CV] alpha=5, l1_ratio=0.25 ..........................................\n",
      "[CV] ........................... alpha=5, l1_ratio=0.25, total=   0.0s\n",
      "[CV] alpha=5, l1_ratio=0.25 ..........................................\n",
      "[CV] ........................... alpha=5, l1_ratio=0.25, total=   0.0s\n",
      "[CV] alpha=5, l1_ratio=0.25 ..........................................\n",
      "[CV] ........................... alpha=5, l1_ratio=0.25, total=   0.0s\n",
      "[CV] alpha=5, l1_ratio=0.25 ..........................................\n",
      "[CV] ........................... alpha=5, l1_ratio=0.25, total=   0.0s\n",
      "[CV] alpha=5, l1_ratio=0.25 ..........................................\n",
      "[CV] ........................... alpha=5, l1_ratio=0.25, total=   0.0s\n",
      "[CV] alpha=5, l1_ratio=0.25 ..........................................\n",
      "[CV] ........................... alpha=5, l1_ratio=0.25, total=   0.0s\n",
      "[CV] alpha=5, l1_ratio=0.25 ..........................................\n",
      "[CV] ........................... alpha=5, l1_ratio=0.25, total=   0.0s\n",
      "[CV] alpha=5, l1_ratio=0.25 ..........................................\n",
      "[CV] ........................... alpha=5, l1_ratio=0.25, total=   0.0s\n",
      "[CV] alpha=5, l1_ratio=0.5 ...........................................\n",
      "[CV] ............................ alpha=5, l1_ratio=0.5, total=   0.0s\n",
      "[CV] alpha=5, l1_ratio=0.5 ...........................................\n",
      "[CV] ............................ alpha=5, l1_ratio=0.5, total=   0.0s\n",
      "[CV] alpha=5, l1_ratio=0.5 ...........................................\n",
      "[CV] ............................ alpha=5, l1_ratio=0.5, total=   0.0s\n",
      "[CV] alpha=5, l1_ratio=0.5 ...........................................\n",
      "[CV] ............................ alpha=5, l1_ratio=0.5, total=   0.0s\n",
      "[CV] alpha=5, l1_ratio=0.5 ...........................................\n",
      "[CV] ............................ alpha=5, l1_ratio=0.5, total=   0.0s\n",
      "[CV] alpha=5, l1_ratio=0.5 ...........................................\n",
      "[CV] ............................ alpha=5, l1_ratio=0.5, total=   0.0s\n",
      "[CV] alpha=5, l1_ratio=0.5 ...........................................\n",
      "[CV] ............................ alpha=5, l1_ratio=0.5, total=   0.0s\n",
      "[CV] alpha=5, l1_ratio=0.5 ...........................................\n",
      "[CV] ............................ alpha=5, l1_ratio=0.5, total=   0.0s\n",
      "[CV] alpha=5, l1_ratio=0.5 ...........................................\n",
      "[CV] ............................ alpha=5, l1_ratio=0.5, total=   0.0s\n",
      "[CV] alpha=5, l1_ratio=0.5 ...........................................\n",
      "[CV] ............................ alpha=5, l1_ratio=0.5, total=   0.0s\n",
      "[CV] alpha=5, l1_ratio=0.7 ...........................................\n",
      "[CV] ............................ alpha=5, l1_ratio=0.7, total=   0.1s\n",
      "[CV] alpha=5, l1_ratio=0.7 ...........................................\n",
      "[CV] ............................ alpha=5, l1_ratio=0.7, total=   0.1s\n",
      "[CV] alpha=5, l1_ratio=0.7 ...........................................\n",
      "[CV] ............................ alpha=5, l1_ratio=0.7, total=   0.1s\n",
      "[CV] alpha=5, l1_ratio=0.7 ...........................................\n",
      "[CV] ............................ alpha=5, l1_ratio=0.7, total=   0.1s\n",
      "[CV] alpha=5, l1_ratio=0.7 ...........................................\n",
      "[CV] ............................ alpha=5, l1_ratio=0.7, total=   0.1s\n",
      "[CV] alpha=5, l1_ratio=0.7 ...........................................\n",
      "[CV] ............................ alpha=5, l1_ratio=0.7, total=   0.1s\n",
      "[CV] alpha=5, l1_ratio=0.7 ...........................................\n",
      "[CV] ............................ alpha=5, l1_ratio=0.7, total=   0.1s\n",
      "[CV] alpha=5, l1_ratio=0.7 ...........................................\n",
      "[CV] ............................ alpha=5, l1_ratio=0.7, total=   0.0s\n",
      "[CV] alpha=5, l1_ratio=0.7 ...........................................\n",
      "[CV] ............................ alpha=5, l1_ratio=0.7, total=   0.1s\n",
      "[CV] alpha=5, l1_ratio=0.7 ...........................................\n",
      "[CV] ............................ alpha=5, l1_ratio=0.7, total=   0.0s\n",
      "[CV] alpha=5, l1_ratio=0.75 ..........................................\n",
      "[CV] ........................... alpha=5, l1_ratio=0.75, total=   0.1s\n",
      "[CV] alpha=5, l1_ratio=0.75 ..........................................\n",
      "[CV] ........................... alpha=5, l1_ratio=0.75, total=   0.1s\n",
      "[CV] alpha=5, l1_ratio=0.75 ..........................................\n",
      "[CV] ........................... alpha=5, l1_ratio=0.75, total=   0.1s\n",
      "[CV] alpha=5, l1_ratio=0.75 ..........................................\n",
      "[CV] ........................... alpha=5, l1_ratio=0.75, total=   0.1s\n",
      "[CV] alpha=5, l1_ratio=0.75 ..........................................\n",
      "[CV] ........................... alpha=5, l1_ratio=0.75, total=   0.1s\n",
      "[CV] alpha=5, l1_ratio=0.75 ..........................................\n",
      "[CV] ........................... alpha=5, l1_ratio=0.75, total=   0.1s\n",
      "[CV] alpha=5, l1_ratio=0.75 ..........................................\n",
      "[CV] ........................... alpha=5, l1_ratio=0.75, total=   0.1s\n",
      "[CV] alpha=5, l1_ratio=0.75 ..........................................\n",
      "[CV] ........................... alpha=5, l1_ratio=0.75, total=   0.1s\n",
      "[CV] alpha=5, l1_ratio=0.75 ..........................................\n",
      "[CV] ........................... alpha=5, l1_ratio=0.75, total=   0.1s\n",
      "[CV] alpha=5, l1_ratio=0.75 ..........................................\n",
      "[CV] ........................... alpha=5, l1_ratio=0.75, total=   0.1s\n",
      "[CV] alpha=5, l1_ratio=0.9 ...........................................\n",
      "[CV] ............................ alpha=5, l1_ratio=0.9, total=   0.1s\n",
      "[CV] alpha=5, l1_ratio=0.9 ...........................................\n",
      "[CV] ............................ alpha=5, l1_ratio=0.9, total=   0.1s\n",
      "[CV] alpha=5, l1_ratio=0.9 ...........................................\n",
      "[CV] ............................ alpha=5, l1_ratio=0.9, total=   0.1s\n",
      "[CV] alpha=5, l1_ratio=0.9 ...........................................\n",
      "[CV] ............................ alpha=5, l1_ratio=0.9, total=   0.1s\n",
      "[CV] alpha=5, l1_ratio=0.9 ...........................................\n",
      "[CV] ............................ alpha=5, l1_ratio=0.9, total=   0.1s\n",
      "[CV] alpha=5, l1_ratio=0.9 ...........................................\n",
      "[CV] ............................ alpha=5, l1_ratio=0.9, total=   0.1s\n",
      "[CV] alpha=5, l1_ratio=0.9 ...........................................\n",
      "[CV] ............................ alpha=5, l1_ratio=0.9, total=   0.1s\n",
      "[CV] alpha=5, l1_ratio=0.9 ...........................................\n",
      "[CV] ............................ alpha=5, l1_ratio=0.9, total=   0.1s\n",
      "[CV] alpha=5, l1_ratio=0.9 ...........................................\n",
      "[CV] ............................ alpha=5, l1_ratio=0.9, total=   0.1s\n",
      "[CV] alpha=5, l1_ratio=0.9 ...........................................\n"
     ]
    },
    {
     "name": "stdout",
     "output_type": "stream",
     "text": [
      "[CV] ............................ alpha=5, l1_ratio=0.9, total=   0.1s\n",
      "[CV] alpha=5, l1_ratio=0.95 ..........................................\n",
      "[CV] ........................... alpha=5, l1_ratio=0.95, total=   0.1s\n",
      "[CV] alpha=5, l1_ratio=0.95 ..........................................\n",
      "[CV] ........................... alpha=5, l1_ratio=0.95, total=   0.1s\n",
      "[CV] alpha=5, l1_ratio=0.95 ..........................................\n",
      "[CV] ........................... alpha=5, l1_ratio=0.95, total=   0.1s\n",
      "[CV] alpha=5, l1_ratio=0.95 ..........................................\n",
      "[CV] ........................... alpha=5, l1_ratio=0.95, total=   0.1s\n",
      "[CV] alpha=5, l1_ratio=0.95 ..........................................\n",
      "[CV] ........................... alpha=5, l1_ratio=0.95, total=   0.1s\n",
      "[CV] alpha=5, l1_ratio=0.95 ..........................................\n",
      "[CV] ........................... alpha=5, l1_ratio=0.95, total=   0.1s\n",
      "[CV] alpha=5, l1_ratio=0.95 ..........................................\n",
      "[CV] ........................... alpha=5, l1_ratio=0.95, total=   0.1s\n",
      "[CV] alpha=5, l1_ratio=0.95 ..........................................\n",
      "[CV] ........................... alpha=5, l1_ratio=0.95, total=   0.1s\n",
      "[CV] alpha=5, l1_ratio=0.95 ..........................................\n",
      "[CV] ........................... alpha=5, l1_ratio=0.95, total=   0.1s\n",
      "[CV] alpha=5, l1_ratio=0.95 ..........................................\n",
      "[CV] ........................... alpha=5, l1_ratio=0.95, total=   0.1s\n",
      "[CV] alpha=5, l1_ratio=0.99 ..........................................\n",
      "[CV] ........................... alpha=5, l1_ratio=0.99, total=   0.2s\n",
      "[CV] alpha=5, l1_ratio=0.99 ..........................................\n",
      "[CV] ........................... alpha=5, l1_ratio=0.99, total=   0.2s\n",
      "[CV] alpha=5, l1_ratio=0.99 ..........................................\n",
      "[CV] ........................... alpha=5, l1_ratio=0.99, total=   0.2s\n",
      "[CV] alpha=5, l1_ratio=0.99 ..........................................\n",
      "[CV] ........................... alpha=5, l1_ratio=0.99, total=   0.3s\n",
      "[CV] alpha=5, l1_ratio=0.99 ..........................................\n",
      "[CV] ........................... alpha=5, l1_ratio=0.99, total=   0.3s\n",
      "[CV] alpha=5, l1_ratio=0.99 ..........................................\n",
      "[CV] ........................... alpha=5, l1_ratio=0.99, total=   0.2s\n",
      "[CV] alpha=5, l1_ratio=0.99 ..........................................\n",
      "[CV] ........................... alpha=5, l1_ratio=0.99, total=   0.3s\n",
      "[CV] alpha=5, l1_ratio=0.99 ..........................................\n",
      "[CV] ........................... alpha=5, l1_ratio=0.99, total=   0.3s\n",
      "[CV] alpha=5, l1_ratio=0.99 ..........................................\n",
      "[CV] ........................... alpha=5, l1_ratio=0.99, total=   0.2s\n",
      "[CV] alpha=5, l1_ratio=0.99 ..........................................\n",
      "[CV] ........................... alpha=5, l1_ratio=0.99, total=   0.2s\n",
      "[CV] alpha=5, l1_ratio=1 .............................................\n"
     ]
    },
    {
     "name": "stderr",
     "output_type": "stream",
     "text": [
      "C:\\Users\\Hp\\anaconda3\\envs\\fdgf\\lib\\site-packages\\sklearn\\linear_model\\_coordinate_descent.py:531: ConvergenceWarning: Objective did not converge. You might want to increase the number of iterations. Duality gap: 161935798487.8938, tolerance: 1536859599.6164982\n",
      "  positive)\n"
     ]
    },
    {
     "name": "stdout",
     "output_type": "stream",
     "text": [
      "[CV] .............................. alpha=5, l1_ratio=1, total=   0.7s\n",
      "[CV] alpha=5, l1_ratio=1 .............................................\n"
     ]
    },
    {
     "name": "stderr",
     "output_type": "stream",
     "text": [
      "C:\\Users\\Hp\\anaconda3\\envs\\fdgf\\lib\\site-packages\\sklearn\\linear_model\\_coordinate_descent.py:531: ConvergenceWarning: Objective did not converge. You might want to increase the number of iterations. Duality gap: 197563191008.77585, tolerance: 1533543348.4009626\n",
      "  positive)\n"
     ]
    },
    {
     "name": "stdout",
     "output_type": "stream",
     "text": [
      "[CV] .............................. alpha=5, l1_ratio=1, total=   0.7s\n",
      "[CV] alpha=5, l1_ratio=1 .............................................\n"
     ]
    },
    {
     "name": "stderr",
     "output_type": "stream",
     "text": [
      "C:\\Users\\Hp\\anaconda3\\envs\\fdgf\\lib\\site-packages\\sklearn\\linear_model\\_coordinate_descent.py:531: ConvergenceWarning: Objective did not converge. You might want to increase the number of iterations. Duality gap: 215306725171.9839, tolerance: 1569498936.193926\n",
      "  positive)\n"
     ]
    },
    {
     "name": "stdout",
     "output_type": "stream",
     "text": [
      "[CV] .............................. alpha=5, l1_ratio=1, total=   0.7s\n",
      "[CV] alpha=5, l1_ratio=1 .............................................\n"
     ]
    },
    {
     "name": "stderr",
     "output_type": "stream",
     "text": [
      "C:\\Users\\Hp\\anaconda3\\envs\\fdgf\\lib\\site-packages\\sklearn\\linear_model\\_coordinate_descent.py:531: ConvergenceWarning: Objective did not converge. You might want to increase the number of iterations. Duality gap: 203927599659.5967, tolerance: 1454832032.4183369\n",
      "  positive)\n"
     ]
    },
    {
     "name": "stdout",
     "output_type": "stream",
     "text": [
      "[CV] .............................. alpha=5, l1_ratio=1, total=   0.7s\n",
      "[CV] alpha=5, l1_ratio=1 .............................................\n"
     ]
    },
    {
     "name": "stderr",
     "output_type": "stream",
     "text": [
      "C:\\Users\\Hp\\anaconda3\\envs\\fdgf\\lib\\site-packages\\sklearn\\linear_model\\_coordinate_descent.py:531: ConvergenceWarning: Objective did not converge. You might want to increase the number of iterations. Duality gap: 225238220449.88153, tolerance: 1567300499.9324098\n",
      "  positive)\n"
     ]
    },
    {
     "name": "stdout",
     "output_type": "stream",
     "text": [
      "[CV] .............................. alpha=5, l1_ratio=1, total=   0.7s\n",
      "[CV] alpha=5, l1_ratio=1 .............................................\n"
     ]
    },
    {
     "name": "stderr",
     "output_type": "stream",
     "text": [
      "C:\\Users\\Hp\\anaconda3\\envs\\fdgf\\lib\\site-packages\\sklearn\\linear_model\\_coordinate_descent.py:531: ConvergenceWarning: Objective did not converge. You might want to increase the number of iterations. Duality gap: 191435360640.93994, tolerance: 1563613929.1629386\n",
      "  positive)\n"
     ]
    },
    {
     "name": "stdout",
     "output_type": "stream",
     "text": [
      "[CV] .............................. alpha=5, l1_ratio=1, total=   0.7s\n",
      "[CV] alpha=5, l1_ratio=1 .............................................\n"
     ]
    },
    {
     "name": "stderr",
     "output_type": "stream",
     "text": [
      "C:\\Users\\Hp\\anaconda3\\envs\\fdgf\\lib\\site-packages\\sklearn\\linear_model\\_coordinate_descent.py:531: ConvergenceWarning: Objective did not converge. You might want to increase the number of iterations. Duality gap: 242480330009.68982, tolerance: 1548294253.8260388\n",
      "  positive)\n"
     ]
    },
    {
     "name": "stdout",
     "output_type": "stream",
     "text": [
      "[CV] .............................. alpha=5, l1_ratio=1, total=   0.7s\n",
      "[CV] alpha=5, l1_ratio=1 .............................................\n"
     ]
    },
    {
     "name": "stderr",
     "output_type": "stream",
     "text": [
      "C:\\Users\\Hp\\anaconda3\\envs\\fdgf\\lib\\site-packages\\sklearn\\linear_model\\_coordinate_descent.py:531: ConvergenceWarning: Objective did not converge. You might want to increase the number of iterations. Duality gap: 186286715627.2151, tolerance: 1605914768.0799258\n",
      "  positive)\n"
     ]
    },
    {
     "name": "stdout",
     "output_type": "stream",
     "text": [
      "[CV] .............................. alpha=5, l1_ratio=1, total=   0.7s\n",
      "[CV] alpha=5, l1_ratio=1 .............................................\n"
     ]
    },
    {
     "name": "stderr",
     "output_type": "stream",
     "text": [
      "C:\\Users\\Hp\\anaconda3\\envs\\fdgf\\lib\\site-packages\\sklearn\\linear_model\\_coordinate_descent.py:531: ConvergenceWarning: Objective did not converge. You might want to increase the number of iterations. Duality gap: 9532241328.293457, tolerance: 1515807608.6357646\n",
      "  positive)\n"
     ]
    },
    {
     "name": "stdout",
     "output_type": "stream",
     "text": [
      "[CV] .............................. alpha=5, l1_ratio=1, total=   0.7s\n",
      "[CV] alpha=5, l1_ratio=1 .............................................\n"
     ]
    },
    {
     "name": "stderr",
     "output_type": "stream",
     "text": [
      "C:\\Users\\Hp\\anaconda3\\envs\\fdgf\\lib\\site-packages\\sklearn\\linear_model\\_coordinate_descent.py:531: ConvergenceWarning: Objective did not converge. You might want to increase the number of iterations. Duality gap: 127395919920.7475, tolerance: 1545968373.693442\n",
      "  positive)\n"
     ]
    },
    {
     "name": "stdout",
     "output_type": "stream",
     "text": [
      "[CV] .............................. alpha=5, l1_ratio=1, total=   0.7s\n",
      "[CV] alpha=10, l1_ratio=0.1 ..........................................\n",
      "[CV] ........................... alpha=10, l1_ratio=0.1, total=   0.0s\n",
      "[CV] alpha=10, l1_ratio=0.1 ..........................................\n",
      "[CV] ........................... alpha=10, l1_ratio=0.1, total=   0.0s\n",
      "[CV] alpha=10, l1_ratio=0.1 ..........................................\n",
      "[CV] ........................... alpha=10, l1_ratio=0.1, total=   0.0s\n",
      "[CV] alpha=10, l1_ratio=0.1 ..........................................\n",
      "[CV] ........................... alpha=10, l1_ratio=0.1, total=   0.0s\n",
      "[CV] alpha=10, l1_ratio=0.1 ..........................................\n",
      "[CV] ........................... alpha=10, l1_ratio=0.1, total=   0.0s\n",
      "[CV] alpha=10, l1_ratio=0.1 ..........................................\n",
      "[CV] ........................... alpha=10, l1_ratio=0.1, total=   0.0s\n",
      "[CV] alpha=10, l1_ratio=0.1 ..........................................\n",
      "[CV] ........................... alpha=10, l1_ratio=0.1, total=   0.0s\n",
      "[CV] alpha=10, l1_ratio=0.1 ..........................................\n",
      "[CV] ........................... alpha=10, l1_ratio=0.1, total=   0.0s\n",
      "[CV] alpha=10, l1_ratio=0.1 ..........................................\n",
      "[CV] ........................... alpha=10, l1_ratio=0.1, total=   0.0s\n",
      "[CV] alpha=10, l1_ratio=0.1 ..........................................\n",
      "[CV] ........................... alpha=10, l1_ratio=0.1, total=   0.0s\n",
      "[CV] alpha=10, l1_ratio=0.25 .........................................\n",
      "[CV] .......................... alpha=10, l1_ratio=0.25, total=   0.0s\n",
      "[CV] alpha=10, l1_ratio=0.25 .........................................\n",
      "[CV] .......................... alpha=10, l1_ratio=0.25, total=   0.0s\n",
      "[CV] alpha=10, l1_ratio=0.25 .........................................\n",
      "[CV] .......................... alpha=10, l1_ratio=0.25, total=   0.0s\n",
      "[CV] alpha=10, l1_ratio=0.25 .........................................\n",
      "[CV] .......................... alpha=10, l1_ratio=0.25, total=   0.0s\n",
      "[CV] alpha=10, l1_ratio=0.25 .........................................\n",
      "[CV] .......................... alpha=10, l1_ratio=0.25, total=   0.0s\n",
      "[CV] alpha=10, l1_ratio=0.25 .........................................\n",
      "[CV] .......................... alpha=10, l1_ratio=0.25, total=   0.0s\n",
      "[CV] alpha=10, l1_ratio=0.25 .........................................\n",
      "[CV] .......................... alpha=10, l1_ratio=0.25, total=   0.0s\n",
      "[CV] alpha=10, l1_ratio=0.25 .........................................\n",
      "[CV] .......................... alpha=10, l1_ratio=0.25, total=   0.0s\n",
      "[CV] alpha=10, l1_ratio=0.25 .........................................\n",
      "[CV] .......................... alpha=10, l1_ratio=0.25, total=   0.0s\n",
      "[CV] alpha=10, l1_ratio=0.25 .........................................\n",
      "[CV] .......................... alpha=10, l1_ratio=0.25, total=   0.0s\n",
      "[CV] alpha=10, l1_ratio=0.5 ..........................................\n",
      "[CV] ........................... alpha=10, l1_ratio=0.5, total=   0.0s\n",
      "[CV] alpha=10, l1_ratio=0.5 ..........................................\n",
      "[CV] ........................... alpha=10, l1_ratio=0.5, total=   0.0s\n",
      "[CV] alpha=10, l1_ratio=0.5 ..........................................\n",
      "[CV] ........................... alpha=10, l1_ratio=0.5, total=   0.0s\n",
      "[CV] alpha=10, l1_ratio=0.5 ..........................................\n",
      "[CV] ........................... alpha=10, l1_ratio=0.5, total=   0.0s\n",
      "[CV] alpha=10, l1_ratio=0.5 ..........................................\n",
      "[CV] ........................... alpha=10, l1_ratio=0.5, total=   0.0s\n",
      "[CV] alpha=10, l1_ratio=0.5 ..........................................\n",
      "[CV] ........................... alpha=10, l1_ratio=0.5, total=   0.0s\n",
      "[CV] alpha=10, l1_ratio=0.5 ..........................................\n",
      "[CV] ........................... alpha=10, l1_ratio=0.5, total=   0.0s\n",
      "[CV] alpha=10, l1_ratio=0.5 ..........................................\n",
      "[CV] ........................... alpha=10, l1_ratio=0.5, total=   0.0s\n",
      "[CV] alpha=10, l1_ratio=0.5 ..........................................\n",
      "[CV] ........................... alpha=10, l1_ratio=0.5, total=   0.0s\n",
      "[CV] alpha=10, l1_ratio=0.5 ..........................................\n",
      "[CV] ........................... alpha=10, l1_ratio=0.5, total=   0.0s\n",
      "[CV] alpha=10, l1_ratio=0.7 ..........................................\n",
      "[CV] ........................... alpha=10, l1_ratio=0.7, total=   0.0s\n",
      "[CV] alpha=10, l1_ratio=0.7 ..........................................\n",
      "[CV] ........................... alpha=10, l1_ratio=0.7, total=   0.0s\n",
      "[CV] alpha=10, l1_ratio=0.7 ..........................................\n",
      "[CV] ........................... alpha=10, l1_ratio=0.7, total=   0.0s\n",
      "[CV] alpha=10, l1_ratio=0.7 ..........................................\n",
      "[CV] ........................... alpha=10, l1_ratio=0.7, total=   0.0s\n",
      "[CV] alpha=10, l1_ratio=0.7 ..........................................\n",
      "[CV] ........................... alpha=10, l1_ratio=0.7, total=   0.0s\n",
      "[CV] alpha=10, l1_ratio=0.7 ..........................................\n",
      "[CV] ........................... alpha=10, l1_ratio=0.7, total=   0.0s\n",
      "[CV] alpha=10, l1_ratio=0.7 ..........................................\n",
      "[CV] ........................... alpha=10, l1_ratio=0.7, total=   0.0s\n",
      "[CV] alpha=10, l1_ratio=0.7 ..........................................\n",
      "[CV] ........................... alpha=10, l1_ratio=0.7, total=   0.0s\n",
      "[CV] alpha=10, l1_ratio=0.7 ..........................................\n",
      "[CV] ........................... alpha=10, l1_ratio=0.7, total=   0.0s\n",
      "[CV] alpha=10, l1_ratio=0.7 ..........................................\n",
      "[CV] ........................... alpha=10, l1_ratio=0.7, total=   0.0s\n",
      "[CV] alpha=10, l1_ratio=0.75 .........................................\n",
      "[CV] .......................... alpha=10, l1_ratio=0.75, total=   0.0s\n",
      "[CV] alpha=10, l1_ratio=0.75 .........................................\n",
      "[CV] .......................... alpha=10, l1_ratio=0.75, total=   0.0s\n",
      "[CV] alpha=10, l1_ratio=0.75 .........................................\n",
      "[CV] .......................... alpha=10, l1_ratio=0.75, total=   0.0s\n",
      "[CV] alpha=10, l1_ratio=0.75 .........................................\n",
      "[CV] .......................... alpha=10, l1_ratio=0.75, total=   0.0s\n",
      "[CV] alpha=10, l1_ratio=0.75 .........................................\n",
      "[CV] .......................... alpha=10, l1_ratio=0.75, total=   0.0s\n",
      "[CV] alpha=10, l1_ratio=0.75 .........................................\n",
      "[CV] .......................... alpha=10, l1_ratio=0.75, total=   0.0s\n",
      "[CV] alpha=10, l1_ratio=0.75 .........................................\n",
      "[CV] .......................... alpha=10, l1_ratio=0.75, total=   0.0s\n",
      "[CV] alpha=10, l1_ratio=0.75 .........................................\n",
      "[CV] .......................... alpha=10, l1_ratio=0.75, total=   0.0s\n",
      "[CV] alpha=10, l1_ratio=0.75 .........................................\n",
      "[CV] .......................... alpha=10, l1_ratio=0.75, total=   0.0s\n",
      "[CV] alpha=10, l1_ratio=0.75 .........................................\n",
      "[CV] .......................... alpha=10, l1_ratio=0.75, total=   0.0s\n",
      "[CV] alpha=10, l1_ratio=0.9 ..........................................\n",
      "[CV] ........................... alpha=10, l1_ratio=0.9, total=   0.0s\n",
      "[CV] alpha=10, l1_ratio=0.9 ..........................................\n",
      "[CV] ........................... alpha=10, l1_ratio=0.9, total=   0.1s\n",
      "[CV] alpha=10, l1_ratio=0.9 ..........................................\n",
      "[CV] ........................... alpha=10, l1_ratio=0.9, total=   0.1s\n",
      "[CV] alpha=10, l1_ratio=0.9 ..........................................\n",
      "[CV] ........................... alpha=10, l1_ratio=0.9, total=   0.1s\n",
      "[CV] alpha=10, l1_ratio=0.9 ..........................................\n",
      "[CV] ........................... alpha=10, l1_ratio=0.9, total=   0.1s\n",
      "[CV] alpha=10, l1_ratio=0.9 ..........................................\n",
      "[CV] ........................... alpha=10, l1_ratio=0.9, total=   0.1s\n",
      "[CV] alpha=10, l1_ratio=0.9 ..........................................\n",
      "[CV] ........................... alpha=10, l1_ratio=0.9, total=   0.1s\n",
      "[CV] alpha=10, l1_ratio=0.9 ..........................................\n",
      "[CV] ........................... alpha=10, l1_ratio=0.9, total=   0.1s\n",
      "[CV] alpha=10, l1_ratio=0.9 ..........................................\n"
     ]
    },
    {
     "name": "stdout",
     "output_type": "stream",
     "text": [
      "[CV] ........................... alpha=10, l1_ratio=0.9, total=   0.1s\n",
      "[CV] alpha=10, l1_ratio=0.9 ..........................................\n",
      "[CV] ........................... alpha=10, l1_ratio=0.9, total=   0.1s\n",
      "[CV] alpha=10, l1_ratio=0.95 .........................................\n",
      "[CV] .......................... alpha=10, l1_ratio=0.95, total=   0.1s\n",
      "[CV] alpha=10, l1_ratio=0.95 .........................................\n",
      "[CV] .......................... alpha=10, l1_ratio=0.95, total=   0.1s\n",
      "[CV] alpha=10, l1_ratio=0.95 .........................................\n",
      "[CV] .......................... alpha=10, l1_ratio=0.95, total=   0.1s\n",
      "[CV] alpha=10, l1_ratio=0.95 .........................................\n",
      "[CV] .......................... alpha=10, l1_ratio=0.95, total=   0.1s\n",
      "[CV] alpha=10, l1_ratio=0.95 .........................................\n",
      "[CV] .......................... alpha=10, l1_ratio=0.95, total=   0.1s\n",
      "[CV] alpha=10, l1_ratio=0.95 .........................................\n",
      "[CV] .......................... alpha=10, l1_ratio=0.95, total=   0.1s\n",
      "[CV] alpha=10, l1_ratio=0.95 .........................................\n",
      "[CV] .......................... alpha=10, l1_ratio=0.95, total=   0.1s\n",
      "[CV] alpha=10, l1_ratio=0.95 .........................................\n",
      "[CV] .......................... alpha=10, l1_ratio=0.95, total=   0.1s\n",
      "[CV] alpha=10, l1_ratio=0.95 .........................................\n",
      "[CV] .......................... alpha=10, l1_ratio=0.95, total=   0.1s\n",
      "[CV] alpha=10, l1_ratio=0.95 .........................................\n",
      "[CV] .......................... alpha=10, l1_ratio=0.95, total=   0.1s\n",
      "[CV] alpha=10, l1_ratio=0.99 .........................................\n",
      "[CV] .......................... alpha=10, l1_ratio=0.99, total=   0.1s\n",
      "[CV] alpha=10, l1_ratio=0.99 .........................................\n",
      "[CV] .......................... alpha=10, l1_ratio=0.99, total=   0.1s\n",
      "[CV] alpha=10, l1_ratio=0.99 .........................................\n",
      "[CV] .......................... alpha=10, l1_ratio=0.99, total=   0.1s\n",
      "[CV] alpha=10, l1_ratio=0.99 .........................................\n",
      "[CV] .......................... alpha=10, l1_ratio=0.99, total=   0.1s\n",
      "[CV] alpha=10, l1_ratio=0.99 .........................................\n",
      "[CV] .......................... alpha=10, l1_ratio=0.99, total=   0.1s\n",
      "[CV] alpha=10, l1_ratio=0.99 .........................................\n",
      "[CV] .......................... alpha=10, l1_ratio=0.99, total=   0.1s\n",
      "[CV] alpha=10, l1_ratio=0.99 .........................................\n",
      "[CV] .......................... alpha=10, l1_ratio=0.99, total=   0.1s\n",
      "[CV] alpha=10, l1_ratio=0.99 .........................................\n",
      "[CV] .......................... alpha=10, l1_ratio=0.99, total=   0.1s\n",
      "[CV] alpha=10, l1_ratio=0.99 .........................................\n",
      "[CV] .......................... alpha=10, l1_ratio=0.99, total=   0.1s\n",
      "[CV] alpha=10, l1_ratio=0.99 .........................................\n",
      "[CV] .......................... alpha=10, l1_ratio=0.99, total=   0.1s\n",
      "[CV] alpha=10, l1_ratio=1 ............................................\n",
      "[CV] ............................. alpha=10, l1_ratio=1, total=   0.7s\n",
      "[CV] alpha=10, l1_ratio=1 ............................................\n"
     ]
    },
    {
     "name": "stderr",
     "output_type": "stream",
     "text": [
      "C:\\Users\\Hp\\anaconda3\\envs\\fdgf\\lib\\site-packages\\sklearn\\linear_model\\_coordinate_descent.py:531: ConvergenceWarning: Objective did not converge. You might want to increase the number of iterations. Duality gap: 8327218998.295044, tolerance: 1533543348.4009626\n",
      "  positive)\n"
     ]
    },
    {
     "name": "stdout",
     "output_type": "stream",
     "text": [
      "[CV] ............................. alpha=10, l1_ratio=1, total=   0.7s\n",
      "[CV] alpha=10, l1_ratio=1 ............................................\n"
     ]
    },
    {
     "name": "stderr",
     "output_type": "stream",
     "text": [
      "C:\\Users\\Hp\\anaconda3\\envs\\fdgf\\lib\\site-packages\\sklearn\\linear_model\\_coordinate_descent.py:531: ConvergenceWarning: Objective did not converge. You might want to increase the number of iterations. Duality gap: 40232522525.31213, tolerance: 1569498936.193926\n",
      "  positive)\n"
     ]
    },
    {
     "name": "stdout",
     "output_type": "stream",
     "text": [
      "[CV] ............................. alpha=10, l1_ratio=1, total=   0.7s\n",
      "[CV] alpha=10, l1_ratio=1 ............................................\n"
     ]
    },
    {
     "name": "stderr",
     "output_type": "stream",
     "text": [
      "C:\\Users\\Hp\\anaconda3\\envs\\fdgf\\lib\\site-packages\\sklearn\\linear_model\\_coordinate_descent.py:531: ConvergenceWarning: Objective did not converge. You might want to increase the number of iterations. Duality gap: 16884598679.79309, tolerance: 1454832032.4183369\n",
      "  positive)\n"
     ]
    },
    {
     "name": "stdout",
     "output_type": "stream",
     "text": [
      "[CV] ............................. alpha=10, l1_ratio=1, total=   0.7s\n",
      "[CV] alpha=10, l1_ratio=1 ............................................\n"
     ]
    },
    {
     "name": "stderr",
     "output_type": "stream",
     "text": [
      "C:\\Users\\Hp\\anaconda3\\envs\\fdgf\\lib\\site-packages\\sklearn\\linear_model\\_coordinate_descent.py:531: ConvergenceWarning: Objective did not converge. You might want to increase the number of iterations. Duality gap: 39855871754.298706, tolerance: 1567300499.9324098\n",
      "  positive)\n"
     ]
    },
    {
     "name": "stdout",
     "output_type": "stream",
     "text": [
      "[CV] ............................. alpha=10, l1_ratio=1, total=   0.8s\n",
      "[CV] alpha=10, l1_ratio=1 ............................................\n"
     ]
    },
    {
     "name": "stderr",
     "output_type": "stream",
     "text": [
      "C:\\Users\\Hp\\anaconda3\\envs\\fdgf\\lib\\site-packages\\sklearn\\linear_model\\_coordinate_descent.py:531: ConvergenceWarning: Objective did not converge. You might want to increase the number of iterations. Duality gap: 35265015772.73926, tolerance: 1563613929.1629386\n",
      "  positive)\n"
     ]
    },
    {
     "name": "stdout",
     "output_type": "stream",
     "text": [
      "[CV] ............................. alpha=10, l1_ratio=1, total=   0.8s\n",
      "[CV] alpha=10, l1_ratio=1 ............................................\n"
     ]
    },
    {
     "name": "stderr",
     "output_type": "stream",
     "text": [
      "C:\\Users\\Hp\\anaconda3\\envs\\fdgf\\lib\\site-packages\\sklearn\\linear_model\\_coordinate_descent.py:531: ConvergenceWarning: Objective did not converge. You might want to increase the number of iterations. Duality gap: 13868694524.124023, tolerance: 1548294253.8260388\n",
      "  positive)\n"
     ]
    },
    {
     "name": "stdout",
     "output_type": "stream",
     "text": [
      "[CV] ............................. alpha=10, l1_ratio=1, total=   0.7s\n",
      "[CV] alpha=10, l1_ratio=1 ............................................\n"
     ]
    },
    {
     "name": "stderr",
     "output_type": "stream",
     "text": [
      "C:\\Users\\Hp\\anaconda3\\envs\\fdgf\\lib\\site-packages\\sklearn\\linear_model\\_coordinate_descent.py:531: ConvergenceWarning: Objective did not converge. You might want to increase the number of iterations. Duality gap: 14059305123.728516, tolerance: 1605914768.0799258\n",
      "  positive)\n"
     ]
    },
    {
     "name": "stdout",
     "output_type": "stream",
     "text": [
      "[CV] ............................. alpha=10, l1_ratio=1, total=   0.7s\n",
      "[CV] alpha=10, l1_ratio=1 ............................................\n"
     ]
    },
    {
     "name": "stderr",
     "output_type": "stream",
     "text": [
      "C:\\Users\\Hp\\anaconda3\\envs\\fdgf\\lib\\site-packages\\sklearn\\linear_model\\_coordinate_descent.py:531: ConvergenceWarning: Objective did not converge. You might want to increase the number of iterations. Duality gap: 3305373858.2198486, tolerance: 1515807608.6357646\n",
      "  positive)\n"
     ]
    },
    {
     "name": "stdout",
     "output_type": "stream",
     "text": [
      "[CV] ............................. alpha=10, l1_ratio=1, total=   0.7s\n",
      "[CV] alpha=10, l1_ratio=1 ............................................\n"
     ]
    },
    {
     "name": "stderr",
     "output_type": "stream",
     "text": [
      "C:\\Users\\Hp\\anaconda3\\envs\\fdgf\\lib\\site-packages\\sklearn\\linear_model\\_coordinate_descent.py:531: ConvergenceWarning: Objective did not converge. You might want to increase the number of iterations. Duality gap: 11643803891.638184, tolerance: 1545968373.693442\n",
      "  positive)\n"
     ]
    },
    {
     "name": "stdout",
     "output_type": "stream",
     "text": [
      "[CV] ............................. alpha=10, l1_ratio=1, total=   0.7s\n",
      "[CV] alpha=20, l1_ratio=0.1 ..........................................\n",
      "[CV] ........................... alpha=20, l1_ratio=0.1, total=   0.0s\n",
      "[CV] alpha=20, l1_ratio=0.1 ..........................................\n",
      "[CV] ........................... alpha=20, l1_ratio=0.1, total=   0.0s\n",
      "[CV] alpha=20, l1_ratio=0.1 ..........................................\n",
      "[CV] ........................... alpha=20, l1_ratio=0.1, total=   0.0s\n",
      "[CV] alpha=20, l1_ratio=0.1 ..........................................\n",
      "[CV] ........................... alpha=20, l1_ratio=0.1, total=   0.0s\n",
      "[CV] alpha=20, l1_ratio=0.1 ..........................................\n",
      "[CV] ........................... alpha=20, l1_ratio=0.1, total=   0.0s\n",
      "[CV] alpha=20, l1_ratio=0.1 ..........................................\n",
      "[CV] ........................... alpha=20, l1_ratio=0.1, total=   0.0s\n",
      "[CV] alpha=20, l1_ratio=0.1 ..........................................\n",
      "[CV] ........................... alpha=20, l1_ratio=0.1, total=   0.0s\n",
      "[CV] alpha=20, l1_ratio=0.1 ..........................................\n",
      "[CV] ........................... alpha=20, l1_ratio=0.1, total=   0.0s\n",
      "[CV] alpha=20, l1_ratio=0.1 ..........................................\n",
      "[CV] ........................... alpha=20, l1_ratio=0.1, total=   0.0s\n",
      "[CV] alpha=20, l1_ratio=0.1 ..........................................\n",
      "[CV] ........................... alpha=20, l1_ratio=0.1, total=   0.0s\n",
      "[CV] alpha=20, l1_ratio=0.25 .........................................\n",
      "[CV] .......................... alpha=20, l1_ratio=0.25, total=   0.0s\n",
      "[CV] alpha=20, l1_ratio=0.25 .........................................\n",
      "[CV] .......................... alpha=20, l1_ratio=0.25, total=   0.0s\n",
      "[CV] alpha=20, l1_ratio=0.25 .........................................\n",
      "[CV] .......................... alpha=20, l1_ratio=0.25, total=   0.0s\n",
      "[CV] alpha=20, l1_ratio=0.25 .........................................\n",
      "[CV] .......................... alpha=20, l1_ratio=0.25, total=   0.0s\n",
      "[CV] alpha=20, l1_ratio=0.25 .........................................\n",
      "[CV] .......................... alpha=20, l1_ratio=0.25, total=   0.0s\n",
      "[CV] alpha=20, l1_ratio=0.25 .........................................\n",
      "[CV] .......................... alpha=20, l1_ratio=0.25, total=   0.0s\n",
      "[CV] alpha=20, l1_ratio=0.25 .........................................\n",
      "[CV] .......................... alpha=20, l1_ratio=0.25, total=   0.0s\n",
      "[CV] alpha=20, l1_ratio=0.25 .........................................\n",
      "[CV] .......................... alpha=20, l1_ratio=0.25, total=   0.0s\n",
      "[CV] alpha=20, l1_ratio=0.25 .........................................\n",
      "[CV] .......................... alpha=20, l1_ratio=0.25, total=   0.0s\n",
      "[CV] alpha=20, l1_ratio=0.25 .........................................\n",
      "[CV] .......................... alpha=20, l1_ratio=0.25, total=   0.0s\n",
      "[CV] alpha=20, l1_ratio=0.5 ..........................................\n",
      "[CV] ........................... alpha=20, l1_ratio=0.5, total=   0.0s\n",
      "[CV] alpha=20, l1_ratio=0.5 ..........................................\n",
      "[CV] ........................... alpha=20, l1_ratio=0.5, total=   0.0s\n",
      "[CV] alpha=20, l1_ratio=0.5 ..........................................\n",
      "[CV] ........................... alpha=20, l1_ratio=0.5, total=   0.0s\n",
      "[CV] alpha=20, l1_ratio=0.5 ..........................................\n",
      "[CV] ........................... alpha=20, l1_ratio=0.5, total=   0.0s\n",
      "[CV] alpha=20, l1_ratio=0.5 ..........................................\n",
      "[CV] ........................... alpha=20, l1_ratio=0.5, total=   0.0s\n",
      "[CV] alpha=20, l1_ratio=0.5 ..........................................\n",
      "[CV] ........................... alpha=20, l1_ratio=0.5, total=   0.0s\n",
      "[CV] alpha=20, l1_ratio=0.5 ..........................................\n",
      "[CV] ........................... alpha=20, l1_ratio=0.5, total=   0.0s\n",
      "[CV] alpha=20, l1_ratio=0.5 ..........................................\n",
      "[CV] ........................... alpha=20, l1_ratio=0.5, total=   0.0s\n",
      "[CV] alpha=20, l1_ratio=0.5 ..........................................\n",
      "[CV] ........................... alpha=20, l1_ratio=0.5, total=   0.0s\n",
      "[CV] alpha=20, l1_ratio=0.5 ..........................................\n",
      "[CV] ........................... alpha=20, l1_ratio=0.5, total=   0.0s\n",
      "[CV] alpha=20, l1_ratio=0.7 ..........................................\n",
      "[CV] ........................... alpha=20, l1_ratio=0.7, total=   0.0s\n",
      "[CV] alpha=20, l1_ratio=0.7 ..........................................\n",
      "[CV] ........................... alpha=20, l1_ratio=0.7, total=   0.0s\n",
      "[CV] alpha=20, l1_ratio=0.7 ..........................................\n",
      "[CV] ........................... alpha=20, l1_ratio=0.7, total=   0.0s\n",
      "[CV] alpha=20, l1_ratio=0.7 ..........................................\n",
      "[CV] ........................... alpha=20, l1_ratio=0.7, total=   0.0s\n",
      "[CV] alpha=20, l1_ratio=0.7 ..........................................\n",
      "[CV] ........................... alpha=20, l1_ratio=0.7, total=   0.0s\n",
      "[CV] alpha=20, l1_ratio=0.7 ..........................................\n",
      "[CV] ........................... alpha=20, l1_ratio=0.7, total=   0.0s\n",
      "[CV] alpha=20, l1_ratio=0.7 ..........................................\n",
      "[CV] ........................... alpha=20, l1_ratio=0.7, total=   0.0s\n",
      "[CV] alpha=20, l1_ratio=0.7 ..........................................\n",
      "[CV] ........................... alpha=20, l1_ratio=0.7, total=   0.0s\n",
      "[CV] alpha=20, l1_ratio=0.7 ..........................................\n",
      "[CV] ........................... alpha=20, l1_ratio=0.7, total=   0.0s\n",
      "[CV] alpha=20, l1_ratio=0.7 ..........................................\n",
      "[CV] ........................... alpha=20, l1_ratio=0.7, total=   0.0s\n",
      "[CV] alpha=20, l1_ratio=0.75 .........................................\n",
      "[CV] .......................... alpha=20, l1_ratio=0.75, total=   0.0s\n",
      "[CV] alpha=20, l1_ratio=0.75 .........................................\n",
      "[CV] .......................... alpha=20, l1_ratio=0.75, total=   0.0s\n",
      "[CV] alpha=20, l1_ratio=0.75 .........................................\n",
      "[CV] .......................... alpha=20, l1_ratio=0.75, total=   0.0s\n",
      "[CV] alpha=20, l1_ratio=0.75 .........................................\n",
      "[CV] .......................... alpha=20, l1_ratio=0.75, total=   0.0s\n",
      "[CV] alpha=20, l1_ratio=0.75 .........................................\n",
      "[CV] .......................... alpha=20, l1_ratio=0.75, total=   0.0s\n",
      "[CV] alpha=20, l1_ratio=0.75 .........................................\n",
      "[CV] .......................... alpha=20, l1_ratio=0.75, total=   0.0s\n",
      "[CV] alpha=20, l1_ratio=0.75 .........................................\n",
      "[CV] .......................... alpha=20, l1_ratio=0.75, total=   0.0s\n",
      "[CV] alpha=20, l1_ratio=0.75 .........................................\n",
      "[CV] .......................... alpha=20, l1_ratio=0.75, total=   0.0s\n",
      "[CV] alpha=20, l1_ratio=0.75 .........................................\n",
      "[CV] .......................... alpha=20, l1_ratio=0.75, total=   0.0s\n",
      "[CV] alpha=20, l1_ratio=0.75 .........................................\n",
      "[CV] .......................... alpha=20, l1_ratio=0.75, total=   0.0s\n",
      "[CV] alpha=20, l1_ratio=0.9 ..........................................\n",
      "[CV] ........................... alpha=20, l1_ratio=0.9, total=   0.0s\n",
      "[CV] alpha=20, l1_ratio=0.9 ..........................................\n",
      "[CV] ........................... alpha=20, l1_ratio=0.9, total=   0.0s\n",
      "[CV] alpha=20, l1_ratio=0.9 ..........................................\n",
      "[CV] ........................... alpha=20, l1_ratio=0.9, total=   0.0s\n",
      "[CV] alpha=20, l1_ratio=0.9 ..........................................\n",
      "[CV] ........................... alpha=20, l1_ratio=0.9, total=   0.0s\n",
      "[CV] alpha=20, l1_ratio=0.9 ..........................................\n",
      "[CV] ........................... alpha=20, l1_ratio=0.9, total=   0.0s\n",
      "[CV] alpha=20, l1_ratio=0.9 ..........................................\n",
      "[CV] ........................... alpha=20, l1_ratio=0.9, total=   0.0s\n",
      "[CV] alpha=20, l1_ratio=0.9 ..........................................\n",
      "[CV] ........................... alpha=20, l1_ratio=0.9, total=   0.0s\n",
      "[CV] alpha=20, l1_ratio=0.9 ..........................................\n"
     ]
    },
    {
     "name": "stdout",
     "output_type": "stream",
     "text": [
      "[CV] ........................... alpha=20, l1_ratio=0.9, total=   0.0s\n",
      "[CV] alpha=20, l1_ratio=0.9 ..........................................\n",
      "[CV] ........................... alpha=20, l1_ratio=0.9, total=   0.0s\n",
      "[CV] alpha=20, l1_ratio=0.9 ..........................................\n",
      "[CV] ........................... alpha=20, l1_ratio=0.9, total=   0.0s\n",
      "[CV] alpha=20, l1_ratio=0.95 .........................................\n",
      "[CV] .......................... alpha=20, l1_ratio=0.95, total=   0.1s\n",
      "[CV] alpha=20, l1_ratio=0.95 .........................................\n",
      "[CV] .......................... alpha=20, l1_ratio=0.95, total=   0.1s\n",
      "[CV] alpha=20, l1_ratio=0.95 .........................................\n",
      "[CV] .......................... alpha=20, l1_ratio=0.95, total=   0.1s\n",
      "[CV] alpha=20, l1_ratio=0.95 .........................................\n",
      "[CV] .......................... alpha=20, l1_ratio=0.95, total=   0.1s\n",
      "[CV] alpha=20, l1_ratio=0.95 .........................................\n",
      "[CV] .......................... alpha=20, l1_ratio=0.95, total=   0.1s\n",
      "[CV] alpha=20, l1_ratio=0.95 .........................................\n",
      "[CV] .......................... alpha=20, l1_ratio=0.95, total=   0.1s\n",
      "[CV] alpha=20, l1_ratio=0.95 .........................................\n",
      "[CV] .......................... alpha=20, l1_ratio=0.95, total=   0.1s\n",
      "[CV] alpha=20, l1_ratio=0.95 .........................................\n",
      "[CV] .......................... alpha=20, l1_ratio=0.95, total=   0.1s\n",
      "[CV] alpha=20, l1_ratio=0.95 .........................................\n",
      "[CV] .......................... alpha=20, l1_ratio=0.95, total=   0.1s\n",
      "[CV] alpha=20, l1_ratio=0.95 .........................................\n",
      "[CV] .......................... alpha=20, l1_ratio=0.95, total=   0.1s\n",
      "[CV] alpha=20, l1_ratio=0.99 .........................................\n",
      "[CV] .......................... alpha=20, l1_ratio=0.99, total=   0.1s\n",
      "[CV] alpha=20, l1_ratio=0.99 .........................................\n",
      "[CV] .......................... alpha=20, l1_ratio=0.99, total=   0.1s\n",
      "[CV] alpha=20, l1_ratio=0.99 .........................................\n",
      "[CV] .......................... alpha=20, l1_ratio=0.99, total=   0.1s\n",
      "[CV] alpha=20, l1_ratio=0.99 .........................................\n",
      "[CV] .......................... alpha=20, l1_ratio=0.99, total=   0.1s\n",
      "[CV] alpha=20, l1_ratio=0.99 .........................................\n",
      "[CV] .......................... alpha=20, l1_ratio=0.99, total=   0.1s\n",
      "[CV] alpha=20, l1_ratio=0.99 .........................................\n",
      "[CV] .......................... alpha=20, l1_ratio=0.99, total=   0.1s\n",
      "[CV] alpha=20, l1_ratio=0.99 .........................................\n",
      "[CV] .......................... alpha=20, l1_ratio=0.99, total=   0.1s\n",
      "[CV] alpha=20, l1_ratio=0.99 .........................................\n",
      "[CV] .......................... alpha=20, l1_ratio=0.99, total=   0.1s\n",
      "[CV] alpha=20, l1_ratio=0.99 .........................................\n",
      "[CV] .......................... alpha=20, l1_ratio=0.99, total=   0.1s\n",
      "[CV] alpha=20, l1_ratio=0.99 .........................................\n",
      "[CV] .......................... alpha=20, l1_ratio=0.99, total=   0.1s\n",
      "[CV] alpha=20, l1_ratio=1 ............................................\n",
      "[CV] ............................. alpha=20, l1_ratio=1, total=   0.7s\n",
      "[CV] alpha=20, l1_ratio=1 ............................................\n",
      "[CV] ............................. alpha=20, l1_ratio=1, total=   0.7s\n",
      "[CV] alpha=20, l1_ratio=1 ............................................\n",
      "[CV] ............................. alpha=20, l1_ratio=1, total=   0.7s\n",
      "[CV] alpha=20, l1_ratio=1 ............................................\n",
      "[CV] ............................. alpha=20, l1_ratio=1, total=   0.7s\n",
      "[CV] alpha=20, l1_ratio=1 ............................................\n",
      "[CV] ............................. alpha=20, l1_ratio=1, total=   0.7s\n",
      "[CV] alpha=20, l1_ratio=1 ............................................\n",
      "[CV] ............................. alpha=20, l1_ratio=1, total=   0.7s\n",
      "[CV] alpha=20, l1_ratio=1 ............................................\n",
      "[CV] ............................. alpha=20, l1_ratio=1, total=   0.7s\n",
      "[CV] alpha=20, l1_ratio=1 ............................................\n",
      "[CV] ............................. alpha=20, l1_ratio=1, total=   0.7s\n",
      "[CV] alpha=20, l1_ratio=1 ............................................\n",
      "[CV] ............................. alpha=20, l1_ratio=1, total=   0.7s\n",
      "[CV] alpha=20, l1_ratio=1 ............................................\n",
      "[CV] ............................. alpha=20, l1_ratio=1, total=   0.7s\n",
      "[CV] alpha=30, l1_ratio=0.1 ..........................................\n",
      "[CV] ........................... alpha=30, l1_ratio=0.1, total=   0.0s\n",
      "[CV] alpha=30, l1_ratio=0.1 ..........................................\n",
      "[CV] ........................... alpha=30, l1_ratio=0.1, total=   0.0s\n",
      "[CV] alpha=30, l1_ratio=0.1 ..........................................\n",
      "[CV] ........................... alpha=30, l1_ratio=0.1, total=   0.0s\n",
      "[CV] alpha=30, l1_ratio=0.1 ..........................................\n",
      "[CV] ........................... alpha=30, l1_ratio=0.1, total=   0.0s\n",
      "[CV] alpha=30, l1_ratio=0.1 ..........................................\n",
      "[CV] ........................... alpha=30, l1_ratio=0.1, total=   0.0s\n",
      "[CV] alpha=30, l1_ratio=0.1 ..........................................\n",
      "[CV] ........................... alpha=30, l1_ratio=0.1, total=   0.0s\n",
      "[CV] alpha=30, l1_ratio=0.1 ..........................................\n",
      "[CV] ........................... alpha=30, l1_ratio=0.1, total=   0.0s\n",
      "[CV] alpha=30, l1_ratio=0.1 ..........................................\n",
      "[CV] ........................... alpha=30, l1_ratio=0.1, total=   0.0s\n",
      "[CV] alpha=30, l1_ratio=0.1 ..........................................\n",
      "[CV] ........................... alpha=30, l1_ratio=0.1, total=   0.0s\n",
      "[CV] alpha=30, l1_ratio=0.1 ..........................................\n",
      "[CV] ........................... alpha=30, l1_ratio=0.1, total=   0.0s\n",
      "[CV] alpha=30, l1_ratio=0.25 .........................................\n",
      "[CV] .......................... alpha=30, l1_ratio=0.25, total=   0.0s\n",
      "[CV] alpha=30, l1_ratio=0.25 .........................................\n",
      "[CV] .......................... alpha=30, l1_ratio=0.25, total=   0.0s\n",
      "[CV] alpha=30, l1_ratio=0.25 .........................................\n",
      "[CV] .......................... alpha=30, l1_ratio=0.25, total=   0.0s\n",
      "[CV] alpha=30, l1_ratio=0.25 .........................................\n",
      "[CV] .......................... alpha=30, l1_ratio=0.25, total=   0.0s\n",
      "[CV] alpha=30, l1_ratio=0.25 .........................................\n",
      "[CV] .......................... alpha=30, l1_ratio=0.25, total=   0.0s\n",
      "[CV] alpha=30, l1_ratio=0.25 .........................................\n",
      "[CV] .......................... alpha=30, l1_ratio=0.25, total=   0.0s\n",
      "[CV] alpha=30, l1_ratio=0.25 .........................................\n",
      "[CV] .......................... alpha=30, l1_ratio=0.25, total=   0.0s\n",
      "[CV] alpha=30, l1_ratio=0.25 .........................................\n",
      "[CV] .......................... alpha=30, l1_ratio=0.25, total=   0.0s\n",
      "[CV] alpha=30, l1_ratio=0.25 .........................................\n",
      "[CV] .......................... alpha=30, l1_ratio=0.25, total=   0.0s\n",
      "[CV] alpha=30, l1_ratio=0.25 .........................................\n",
      "[CV] .......................... alpha=30, l1_ratio=0.25, total=   0.0s\n",
      "[CV] alpha=30, l1_ratio=0.5 ..........................................\n",
      "[CV] ........................... alpha=30, l1_ratio=0.5, total=   0.0s\n",
      "[CV] alpha=30, l1_ratio=0.5 ..........................................\n",
      "[CV] ........................... alpha=30, l1_ratio=0.5, total=   0.0s\n",
      "[CV] alpha=30, l1_ratio=0.5 ..........................................\n",
      "[CV] ........................... alpha=30, l1_ratio=0.5, total=   0.0s\n",
      "[CV] alpha=30, l1_ratio=0.5 ..........................................\n",
      "[CV] ........................... alpha=30, l1_ratio=0.5, total=   0.0s\n",
      "[CV] alpha=30, l1_ratio=0.5 ..........................................\n",
      "[CV] ........................... alpha=30, l1_ratio=0.5, total=   0.0s\n",
      "[CV] alpha=30, l1_ratio=0.5 ..........................................\n",
      "[CV] ........................... alpha=30, l1_ratio=0.5, total=   0.0s\n",
      "[CV] alpha=30, l1_ratio=0.5 ..........................................\n"
     ]
    },
    {
     "name": "stdout",
     "output_type": "stream",
     "text": [
      "[CV] ........................... alpha=30, l1_ratio=0.5, total=   0.0s\n",
      "[CV] alpha=30, l1_ratio=0.5 ..........................................\n",
      "[CV] ........................... alpha=30, l1_ratio=0.5, total=   0.0s\n",
      "[CV] alpha=30, l1_ratio=0.5 ..........................................\n",
      "[CV] ........................... alpha=30, l1_ratio=0.5, total=   0.0s\n",
      "[CV] alpha=30, l1_ratio=0.5 ..........................................\n",
      "[CV] ........................... alpha=30, l1_ratio=0.5, total=   0.0s\n",
      "[CV] alpha=30, l1_ratio=0.7 ..........................................\n",
      "[CV] ........................... alpha=30, l1_ratio=0.7, total=   0.0s\n",
      "[CV] alpha=30, l1_ratio=0.7 ..........................................\n",
      "[CV] ........................... alpha=30, l1_ratio=0.7, total=   0.0s\n",
      "[CV] alpha=30, l1_ratio=0.7 ..........................................\n",
      "[CV] ........................... alpha=30, l1_ratio=0.7, total=   0.0s\n",
      "[CV] alpha=30, l1_ratio=0.7 ..........................................\n",
      "[CV] ........................... alpha=30, l1_ratio=0.7, total=   0.0s\n",
      "[CV] alpha=30, l1_ratio=0.7 ..........................................\n",
      "[CV] ........................... alpha=30, l1_ratio=0.7, total=   0.0s\n",
      "[CV] alpha=30, l1_ratio=0.7 ..........................................\n",
      "[CV] ........................... alpha=30, l1_ratio=0.7, total=   0.0s\n",
      "[CV] alpha=30, l1_ratio=0.7 ..........................................\n",
      "[CV] ........................... alpha=30, l1_ratio=0.7, total=   0.0s\n",
      "[CV] alpha=30, l1_ratio=0.7 ..........................................\n",
      "[CV] ........................... alpha=30, l1_ratio=0.7, total=   0.0s\n",
      "[CV] alpha=30, l1_ratio=0.7 ..........................................\n",
      "[CV] ........................... alpha=30, l1_ratio=0.7, total=   0.0s\n",
      "[CV] alpha=30, l1_ratio=0.7 ..........................................\n",
      "[CV] ........................... alpha=30, l1_ratio=0.7, total=   0.0s\n",
      "[CV] alpha=30, l1_ratio=0.75 .........................................\n",
      "[CV] .......................... alpha=30, l1_ratio=0.75, total=   0.0s\n",
      "[CV] alpha=30, l1_ratio=0.75 .........................................\n",
      "[CV] .......................... alpha=30, l1_ratio=0.75, total=   0.0s\n",
      "[CV] alpha=30, l1_ratio=0.75 .........................................\n",
      "[CV] .......................... alpha=30, l1_ratio=0.75, total=   0.0s\n",
      "[CV] alpha=30, l1_ratio=0.75 .........................................\n",
      "[CV] .......................... alpha=30, l1_ratio=0.75, total=   0.0s\n",
      "[CV] alpha=30, l1_ratio=0.75 .........................................\n",
      "[CV] .......................... alpha=30, l1_ratio=0.75, total=   0.0s\n",
      "[CV] alpha=30, l1_ratio=0.75 .........................................\n",
      "[CV] .......................... alpha=30, l1_ratio=0.75, total=   0.0s\n",
      "[CV] alpha=30, l1_ratio=0.75 .........................................\n",
      "[CV] .......................... alpha=30, l1_ratio=0.75, total=   0.0s\n",
      "[CV] alpha=30, l1_ratio=0.75 .........................................\n",
      "[CV] .......................... alpha=30, l1_ratio=0.75, total=   0.0s\n",
      "[CV] alpha=30, l1_ratio=0.75 .........................................\n",
      "[CV] .......................... alpha=30, l1_ratio=0.75, total=   0.0s\n",
      "[CV] alpha=30, l1_ratio=0.75 .........................................\n",
      "[CV] .......................... alpha=30, l1_ratio=0.75, total=   0.0s\n",
      "[CV] alpha=30, l1_ratio=0.9 ..........................................\n",
      "[CV] ........................... alpha=30, l1_ratio=0.9, total=   0.0s\n",
      "[CV] alpha=30, l1_ratio=0.9 ..........................................\n",
      "[CV] ........................... alpha=30, l1_ratio=0.9, total=   0.0s\n",
      "[CV] alpha=30, l1_ratio=0.9 ..........................................\n",
      "[CV] ........................... alpha=30, l1_ratio=0.9, total=   0.0s\n",
      "[CV] alpha=30, l1_ratio=0.9 ..........................................\n",
      "[CV] ........................... alpha=30, l1_ratio=0.9, total=   0.0s\n",
      "[CV] alpha=30, l1_ratio=0.9 ..........................................\n",
      "[CV] ........................... alpha=30, l1_ratio=0.9, total=   0.0s\n",
      "[CV] alpha=30, l1_ratio=0.9 ..........................................\n",
      "[CV] ........................... alpha=30, l1_ratio=0.9, total=   0.0s\n",
      "[CV] alpha=30, l1_ratio=0.9 ..........................................\n",
      "[CV] ........................... alpha=30, l1_ratio=0.9, total=   0.0s\n",
      "[CV] alpha=30, l1_ratio=0.9 ..........................................\n",
      "[CV] ........................... alpha=30, l1_ratio=0.9, total=   0.0s\n",
      "[CV] alpha=30, l1_ratio=0.9 ..........................................\n",
      "[CV] ........................... alpha=30, l1_ratio=0.9, total=   0.0s\n",
      "[CV] alpha=30, l1_ratio=0.9 ..........................................\n",
      "[CV] ........................... alpha=30, l1_ratio=0.9, total=   0.0s\n",
      "[CV] alpha=30, l1_ratio=0.95 .........................................\n",
      "[CV] .......................... alpha=30, l1_ratio=0.95, total=   0.1s\n",
      "[CV] alpha=30, l1_ratio=0.95 .........................................\n",
      "[CV] .......................... alpha=30, l1_ratio=0.95, total=   0.1s\n",
      "[CV] alpha=30, l1_ratio=0.95 .........................................\n",
      "[CV] .......................... alpha=30, l1_ratio=0.95, total=   0.1s\n",
      "[CV] alpha=30, l1_ratio=0.95 .........................................\n",
      "[CV] .......................... alpha=30, l1_ratio=0.95, total=   0.1s\n",
      "[CV] alpha=30, l1_ratio=0.95 .........................................\n",
      "[CV] .......................... alpha=30, l1_ratio=0.95, total=   0.1s\n",
      "[CV] alpha=30, l1_ratio=0.95 .........................................\n",
      "[CV] .......................... alpha=30, l1_ratio=0.95, total=   0.1s\n",
      "[CV] alpha=30, l1_ratio=0.95 .........................................\n",
      "[CV] .......................... alpha=30, l1_ratio=0.95, total=   0.1s\n",
      "[CV] alpha=30, l1_ratio=0.95 .........................................\n",
      "[CV] .......................... alpha=30, l1_ratio=0.95, total=   0.1s\n",
      "[CV] alpha=30, l1_ratio=0.95 .........................................\n",
      "[CV] .......................... alpha=30, l1_ratio=0.95, total=   0.1s\n",
      "[CV] alpha=30, l1_ratio=0.95 .........................................\n",
      "[CV] .......................... alpha=30, l1_ratio=0.95, total=   0.1s\n",
      "[CV] alpha=30, l1_ratio=0.99 .........................................\n",
      "[CV] .......................... alpha=30, l1_ratio=0.99, total=   0.1s\n",
      "[CV] alpha=30, l1_ratio=0.99 .........................................\n",
      "[CV] .......................... alpha=30, l1_ratio=0.99, total=   0.1s\n",
      "[CV] alpha=30, l1_ratio=0.99 .........................................\n",
      "[CV] .......................... alpha=30, l1_ratio=0.99, total=   0.1s\n",
      "[CV] alpha=30, l1_ratio=0.99 .........................................\n",
      "[CV] .......................... alpha=30, l1_ratio=0.99, total=   0.1s\n",
      "[CV] alpha=30, l1_ratio=0.99 .........................................\n",
      "[CV] .......................... alpha=30, l1_ratio=0.99, total=   0.1s\n",
      "[CV] alpha=30, l1_ratio=0.99 .........................................\n",
      "[CV] .......................... alpha=30, l1_ratio=0.99, total=   0.1s\n",
      "[CV] alpha=30, l1_ratio=0.99 .........................................\n",
      "[CV] .......................... alpha=30, l1_ratio=0.99, total=   0.1s\n",
      "[CV] alpha=30, l1_ratio=0.99 .........................................\n",
      "[CV] .......................... alpha=30, l1_ratio=0.99, total=   0.1s\n",
      "[CV] alpha=30, l1_ratio=0.99 .........................................\n",
      "[CV] .......................... alpha=30, l1_ratio=0.99, total=   0.1s\n",
      "[CV] alpha=30, l1_ratio=0.99 .........................................\n",
      "[CV] .......................... alpha=30, l1_ratio=0.99, total=   0.1s\n",
      "[CV] alpha=30, l1_ratio=1 ............................................\n"
     ]
    },
    {
     "name": "stderr",
     "output_type": "stream",
     "text": [
      "C:\\Users\\Hp\\anaconda3\\envs\\fdgf\\lib\\site-packages\\sklearn\\linear_model\\_coordinate_descent.py:531: ConvergenceWarning: Objective did not converge. You might want to increase the number of iterations. Duality gap: 2327855263.1359863, tolerance: 1536859599.6164982\n",
      "  positive)\n"
     ]
    },
    {
     "name": "stdout",
     "output_type": "stream",
     "text": [
      "[CV] ............................. alpha=30, l1_ratio=1, total=   0.7s\n",
      "[CV] alpha=30, l1_ratio=1 ............................................\n",
      "[CV] ............................. alpha=30, l1_ratio=1, total=   0.7s\n",
      "[CV] alpha=30, l1_ratio=1 ............................................\n"
     ]
    },
    {
     "name": "stderr",
     "output_type": "stream",
     "text": [
      "C:\\Users\\Hp\\anaconda3\\envs\\fdgf\\lib\\site-packages\\sklearn\\linear_model\\_coordinate_descent.py:531: ConvergenceWarning: Objective did not converge. You might want to increase the number of iterations. Duality gap: 2550732596.529541, tolerance: 1569498936.193926\n",
      "  positive)\n"
     ]
    },
    {
     "name": "stdout",
     "output_type": "stream",
     "text": [
      "[CV] ............................. alpha=30, l1_ratio=1, total=   0.7s\n",
      "[CV] alpha=30, l1_ratio=1 ............................................\n"
     ]
    },
    {
     "name": "stderr",
     "output_type": "stream",
     "text": [
      "C:\\Users\\Hp\\anaconda3\\envs\\fdgf\\lib\\site-packages\\sklearn\\linear_model\\_coordinate_descent.py:531: ConvergenceWarning: Objective did not converge. You might want to increase the number of iterations. Duality gap: 2930452151.1279297, tolerance: 1454832032.4183369\n",
      "  positive)\n"
     ]
    },
    {
     "name": "stdout",
     "output_type": "stream",
     "text": [
      "[CV] ............................. alpha=30, l1_ratio=1, total=   0.7s\n",
      "[CV] alpha=30, l1_ratio=1 ............................................\n"
     ]
    },
    {
     "name": "stderr",
     "output_type": "stream",
     "text": [
      "C:\\Users\\Hp\\anaconda3\\envs\\fdgf\\lib\\site-packages\\sklearn\\linear_model\\_coordinate_descent.py:531: ConvergenceWarning: Objective did not converge. You might want to increase the number of iterations. Duality gap: 2924614763.114868, tolerance: 1567300499.9324098\n",
      "  positive)\n"
     ]
    },
    {
     "name": "stdout",
     "output_type": "stream",
     "text": [
      "[CV] ............................. alpha=30, l1_ratio=1, total=   0.7s\n",
      "[CV] alpha=30, l1_ratio=1 ............................................\n"
     ]
    },
    {
     "name": "stderr",
     "output_type": "stream",
     "text": [
      "C:\\Users\\Hp\\anaconda3\\envs\\fdgf\\lib\\site-packages\\sklearn\\linear_model\\_coordinate_descent.py:531: ConvergenceWarning: Objective did not converge. You might want to increase the number of iterations. Duality gap: 2920988509.260498, tolerance: 1563613929.1629386\n",
      "  positive)\n"
     ]
    },
    {
     "name": "stdout",
     "output_type": "stream",
     "text": [
      "[CV] ............................. alpha=30, l1_ratio=1, total=   0.7s\n",
      "[CV] alpha=30, l1_ratio=1 ............................................\n"
     ]
    },
    {
     "name": "stderr",
     "output_type": "stream",
     "text": [
      "C:\\Users\\Hp\\anaconda3\\envs\\fdgf\\lib\\site-packages\\sklearn\\linear_model\\_coordinate_descent.py:531: ConvergenceWarning: Objective did not converge. You might want to increase the number of iterations. Duality gap: 2776942252.762085, tolerance: 1548294253.8260388\n",
      "  positive)\n"
     ]
    },
    {
     "name": "stdout",
     "output_type": "stream",
     "text": [
      "[CV] ............................. alpha=30, l1_ratio=1, total=   0.7s\n",
      "[CV] alpha=30, l1_ratio=1 ............................................\n"
     ]
    },
    {
     "name": "stderr",
     "output_type": "stream",
     "text": [
      "C:\\Users\\Hp\\anaconda3\\envs\\fdgf\\lib\\site-packages\\sklearn\\linear_model\\_coordinate_descent.py:531: ConvergenceWarning: Objective did not converge. You might want to increase the number of iterations. Duality gap: 2632320058.489502, tolerance: 1605914768.0799258\n",
      "  positive)\n"
     ]
    },
    {
     "name": "stdout",
     "output_type": "stream",
     "text": [
      "[CV] ............................. alpha=30, l1_ratio=1, total=   0.7s\n",
      "[CV] alpha=30, l1_ratio=1 ............................................\n"
     ]
    },
    {
     "name": "stderr",
     "output_type": "stream",
     "text": [
      "C:\\Users\\Hp\\anaconda3\\envs\\fdgf\\lib\\site-packages\\sklearn\\linear_model\\_coordinate_descent.py:531: ConvergenceWarning: Objective did not converge. You might want to increase the number of iterations. Duality gap: 2207501374.516968, tolerance: 1515807608.6357646\n",
      "  positive)\n"
     ]
    },
    {
     "name": "stdout",
     "output_type": "stream",
     "text": [
      "[CV] ............................. alpha=30, l1_ratio=1, total=   0.7s\n",
      "[CV] alpha=30, l1_ratio=1 ............................................\n"
     ]
    },
    {
     "name": "stderr",
     "output_type": "stream",
     "text": [
      "C:\\Users\\Hp\\anaconda3\\envs\\fdgf\\lib\\site-packages\\sklearn\\linear_model\\_coordinate_descent.py:531: ConvergenceWarning: Objective did not converge. You might want to increase the number of iterations. Duality gap: 2610402164.069092, tolerance: 1545968373.693442\n",
      "  positive)\n"
     ]
    },
    {
     "name": "stdout",
     "output_type": "stream",
     "text": [
      "[CV] ............................. alpha=30, l1_ratio=1, total=   0.7s\n",
      "[CV] alpha=40, l1_ratio=0.1 ..........................................\n",
      "[CV] ........................... alpha=40, l1_ratio=0.1, total=   0.0s\n",
      "[CV] alpha=40, l1_ratio=0.1 ..........................................\n",
      "[CV] ........................... alpha=40, l1_ratio=0.1, total=   0.0s\n",
      "[CV] alpha=40, l1_ratio=0.1 ..........................................\n",
      "[CV] ........................... alpha=40, l1_ratio=0.1, total=   0.0s\n",
      "[CV] alpha=40, l1_ratio=0.1 ..........................................\n",
      "[CV] ........................... alpha=40, l1_ratio=0.1, total=   0.0s\n",
      "[CV] alpha=40, l1_ratio=0.1 ..........................................\n",
      "[CV] ........................... alpha=40, l1_ratio=0.1, total=   0.0s\n",
      "[CV] alpha=40, l1_ratio=0.1 ..........................................\n",
      "[CV] ........................... alpha=40, l1_ratio=0.1, total=   0.0s\n",
      "[CV] alpha=40, l1_ratio=0.1 ..........................................\n",
      "[CV] ........................... alpha=40, l1_ratio=0.1, total=   0.0s\n",
      "[CV] alpha=40, l1_ratio=0.1 ..........................................\n",
      "[CV] ........................... alpha=40, l1_ratio=0.1, total=   0.0s\n",
      "[CV] alpha=40, l1_ratio=0.1 ..........................................\n",
      "[CV] ........................... alpha=40, l1_ratio=0.1, total=   0.0s\n",
      "[CV] alpha=40, l1_ratio=0.1 ..........................................\n",
      "[CV] ........................... alpha=40, l1_ratio=0.1, total=   0.0s\n",
      "[CV] alpha=40, l1_ratio=0.25 .........................................\n",
      "[CV] .......................... alpha=40, l1_ratio=0.25, total=   0.0s\n",
      "[CV] alpha=40, l1_ratio=0.25 .........................................\n",
      "[CV] .......................... alpha=40, l1_ratio=0.25, total=   0.0s\n",
      "[CV] alpha=40, l1_ratio=0.25 .........................................\n",
      "[CV] .......................... alpha=40, l1_ratio=0.25, total=   0.0s\n",
      "[CV] alpha=40, l1_ratio=0.25 .........................................\n",
      "[CV] .......................... alpha=40, l1_ratio=0.25, total=   0.0s\n",
      "[CV] alpha=40, l1_ratio=0.25 .........................................\n",
      "[CV] .......................... alpha=40, l1_ratio=0.25, total=   0.0s\n",
      "[CV] alpha=40, l1_ratio=0.25 .........................................\n",
      "[CV] .......................... alpha=40, l1_ratio=0.25, total=   0.0s\n",
      "[CV] alpha=40, l1_ratio=0.25 .........................................\n",
      "[CV] .......................... alpha=40, l1_ratio=0.25, total=   0.0s\n",
      "[CV] alpha=40, l1_ratio=0.25 .........................................\n",
      "[CV] .......................... alpha=40, l1_ratio=0.25, total=   0.0s\n",
      "[CV] alpha=40, l1_ratio=0.25 .........................................\n",
      "[CV] .......................... alpha=40, l1_ratio=0.25, total=   0.0s\n",
      "[CV] alpha=40, l1_ratio=0.25 .........................................\n",
      "[CV] .......................... alpha=40, l1_ratio=0.25, total=   0.0s\n",
      "[CV] alpha=40, l1_ratio=0.5 ..........................................\n",
      "[CV] ........................... alpha=40, l1_ratio=0.5, total=   0.0s\n",
      "[CV] alpha=40, l1_ratio=0.5 ..........................................\n",
      "[CV] ........................... alpha=40, l1_ratio=0.5, total=   0.0s\n",
      "[CV] alpha=40, l1_ratio=0.5 ..........................................\n",
      "[CV] ........................... alpha=40, l1_ratio=0.5, total=   0.0s\n",
      "[CV] alpha=40, l1_ratio=0.5 ..........................................\n",
      "[CV] ........................... alpha=40, l1_ratio=0.5, total=   0.0s\n",
      "[CV] alpha=40, l1_ratio=0.5 ..........................................\n",
      "[CV] ........................... alpha=40, l1_ratio=0.5, total=   0.0s\n",
      "[CV] alpha=40, l1_ratio=0.5 ..........................................\n",
      "[CV] ........................... alpha=40, l1_ratio=0.5, total=   0.0s\n",
      "[CV] alpha=40, l1_ratio=0.5 ..........................................\n",
      "[CV] ........................... alpha=40, l1_ratio=0.5, total=   0.0s\n",
      "[CV] alpha=40, l1_ratio=0.5 ..........................................\n",
      "[CV] ........................... alpha=40, l1_ratio=0.5, total=   0.0s\n",
      "[CV] alpha=40, l1_ratio=0.5 ..........................................\n",
      "[CV] ........................... alpha=40, l1_ratio=0.5, total=   0.0s\n",
      "[CV] alpha=40, l1_ratio=0.5 ..........................................\n",
      "[CV] ........................... alpha=40, l1_ratio=0.5, total=   0.0s\n",
      "[CV] alpha=40, l1_ratio=0.7 ..........................................\n",
      "[CV] ........................... alpha=40, l1_ratio=0.7, total=   0.0s\n",
      "[CV] alpha=40, l1_ratio=0.7 ..........................................\n",
      "[CV] ........................... alpha=40, l1_ratio=0.7, total=   0.0s\n",
      "[CV] alpha=40, l1_ratio=0.7 ..........................................\n",
      "[CV] ........................... alpha=40, l1_ratio=0.7, total=   0.0s\n",
      "[CV] alpha=40, l1_ratio=0.7 ..........................................\n",
      "[CV] ........................... alpha=40, l1_ratio=0.7, total=   0.0s\n",
      "[CV] alpha=40, l1_ratio=0.7 ..........................................\n",
      "[CV] ........................... alpha=40, l1_ratio=0.7, total=   0.0s\n",
      "[CV] alpha=40, l1_ratio=0.7 ..........................................\n",
      "[CV] ........................... alpha=40, l1_ratio=0.7, total=   0.0s\n",
      "[CV] alpha=40, l1_ratio=0.7 ..........................................\n",
      "[CV] ........................... alpha=40, l1_ratio=0.7, total=   0.0s\n",
      "[CV] alpha=40, l1_ratio=0.7 ..........................................\n",
      "[CV] ........................... alpha=40, l1_ratio=0.7, total=   0.0s\n",
      "[CV] alpha=40, l1_ratio=0.7 ..........................................\n",
      "[CV] ........................... alpha=40, l1_ratio=0.7, total=   0.0s\n",
      "[CV] alpha=40, l1_ratio=0.7 ..........................................\n",
      "[CV] ........................... alpha=40, l1_ratio=0.7, total=   0.0s\n",
      "[CV] alpha=40, l1_ratio=0.75 .........................................\n",
      "[CV] .......................... alpha=40, l1_ratio=0.75, total=   0.0s\n",
      "[CV] alpha=40, l1_ratio=0.75 .........................................\n",
      "[CV] .......................... alpha=40, l1_ratio=0.75, total=   0.0s\n",
      "[CV] alpha=40, l1_ratio=0.75 .........................................\n",
      "[CV] .......................... alpha=40, l1_ratio=0.75, total=   0.0s\n",
      "[CV] alpha=40, l1_ratio=0.75 .........................................\n",
      "[CV] .......................... alpha=40, l1_ratio=0.75, total=   0.0s\n",
      "[CV] alpha=40, l1_ratio=0.75 .........................................\n",
      "[CV] .......................... alpha=40, l1_ratio=0.75, total=   0.0s\n",
      "[CV] alpha=40, l1_ratio=0.75 .........................................\n",
      "[CV] .......................... alpha=40, l1_ratio=0.75, total=   0.0s\n",
      "[CV] alpha=40, l1_ratio=0.75 .........................................\n",
      "[CV] .......................... alpha=40, l1_ratio=0.75, total=   0.0s\n",
      "[CV] alpha=40, l1_ratio=0.75 .........................................\n",
      "[CV] .......................... alpha=40, l1_ratio=0.75, total=   0.0s\n",
      "[CV] alpha=40, l1_ratio=0.75 .........................................\n",
      "[CV] .......................... alpha=40, l1_ratio=0.75, total=   0.0s\n",
      "[CV] alpha=40, l1_ratio=0.75 .........................................\n",
      "[CV] .......................... alpha=40, l1_ratio=0.75, total=   0.0s\n",
      "[CV] alpha=40, l1_ratio=0.9 ..........................................\n",
      "[CV] ........................... alpha=40, l1_ratio=0.9, total=   0.0s\n",
      "[CV] alpha=40, l1_ratio=0.9 ..........................................\n",
      "[CV] ........................... alpha=40, l1_ratio=0.9, total=   0.0s\n",
      "[CV] alpha=40, l1_ratio=0.9 ..........................................\n",
      "[CV] ........................... alpha=40, l1_ratio=0.9, total=   0.0s\n",
      "[CV] alpha=40, l1_ratio=0.9 ..........................................\n",
      "[CV] ........................... alpha=40, l1_ratio=0.9, total=   0.0s\n",
      "[CV] alpha=40, l1_ratio=0.9 ..........................................\n",
      "[CV] ........................... alpha=40, l1_ratio=0.9, total=   0.0s\n",
      "[CV] alpha=40, l1_ratio=0.9 ..........................................\n",
      "[CV] ........................... alpha=40, l1_ratio=0.9, total=   0.0s\n",
      "[CV] alpha=40, l1_ratio=0.9 ..........................................\n",
      "[CV] ........................... alpha=40, l1_ratio=0.9, total=   0.0s\n",
      "[CV] alpha=40, l1_ratio=0.9 ..........................................\n",
      "[CV] ........................... alpha=40, l1_ratio=0.9, total=   0.0s\n",
      "[CV] alpha=40, l1_ratio=0.9 ..........................................\n",
      "[CV] ........................... alpha=40, l1_ratio=0.9, total=   0.0s\n",
      "[CV] alpha=40, l1_ratio=0.9 ..........................................\n"
     ]
    },
    {
     "name": "stdout",
     "output_type": "stream",
     "text": [
      "[CV] ........................... alpha=40, l1_ratio=0.9, total=   0.0s\n",
      "[CV] alpha=40, l1_ratio=0.95 .........................................\n",
      "[CV] .......................... alpha=40, l1_ratio=0.95, total=   0.0s\n",
      "[CV] alpha=40, l1_ratio=0.95 .........................................\n",
      "[CV] .......................... alpha=40, l1_ratio=0.95, total=   0.0s\n",
      "[CV] alpha=40, l1_ratio=0.95 .........................................\n",
      "[CV] .......................... alpha=40, l1_ratio=0.95, total=   0.0s\n",
      "[CV] alpha=40, l1_ratio=0.95 .........................................\n",
      "[CV] .......................... alpha=40, l1_ratio=0.95, total=   0.0s\n",
      "[CV] alpha=40, l1_ratio=0.95 .........................................\n",
      "[CV] .......................... alpha=40, l1_ratio=0.95, total=   0.0s\n",
      "[CV] alpha=40, l1_ratio=0.95 .........................................\n",
      "[CV] .......................... alpha=40, l1_ratio=0.95, total=   0.0s\n",
      "[CV] alpha=40, l1_ratio=0.95 .........................................\n",
      "[CV] .......................... alpha=40, l1_ratio=0.95, total=   0.0s\n",
      "[CV] alpha=40, l1_ratio=0.95 .........................................\n",
      "[CV] .......................... alpha=40, l1_ratio=0.95, total=   0.0s\n",
      "[CV] alpha=40, l1_ratio=0.95 .........................................\n",
      "[CV] .......................... alpha=40, l1_ratio=0.95, total=   0.0s\n",
      "[CV] alpha=40, l1_ratio=0.95 .........................................\n",
      "[CV] .......................... alpha=40, l1_ratio=0.95, total=   0.0s\n",
      "[CV] alpha=40, l1_ratio=0.99 .........................................\n",
      "[CV] .......................... alpha=40, l1_ratio=0.99, total=   0.1s\n",
      "[CV] alpha=40, l1_ratio=0.99 .........................................\n",
      "[CV] .......................... alpha=40, l1_ratio=0.99, total=   0.1s\n",
      "[CV] alpha=40, l1_ratio=0.99 .........................................\n",
      "[CV] .......................... alpha=40, l1_ratio=0.99, total=   0.1s\n",
      "[CV] alpha=40, l1_ratio=0.99 .........................................\n",
      "[CV] .......................... alpha=40, l1_ratio=0.99, total=   0.1s\n",
      "[CV] alpha=40, l1_ratio=0.99 .........................................\n",
      "[CV] .......................... alpha=40, l1_ratio=0.99, total=   0.1s\n",
      "[CV] alpha=40, l1_ratio=0.99 .........................................\n",
      "[CV] .......................... alpha=40, l1_ratio=0.99, total=   0.1s\n",
      "[CV] alpha=40, l1_ratio=0.99 .........................................\n",
      "[CV] .......................... alpha=40, l1_ratio=0.99, total=   0.1s\n",
      "[CV] alpha=40, l1_ratio=0.99 .........................................\n",
      "[CV] .......................... alpha=40, l1_ratio=0.99, total=   0.1s\n",
      "[CV] alpha=40, l1_ratio=0.99 .........................................\n",
      "[CV] .......................... alpha=40, l1_ratio=0.99, total=   0.1s\n",
      "[CV] alpha=40, l1_ratio=0.99 .........................................\n",
      "[CV] .......................... alpha=40, l1_ratio=0.99, total=   0.1s\n",
      "[CV] alpha=40, l1_ratio=1 ............................................\n"
     ]
    },
    {
     "name": "stderr",
     "output_type": "stream",
     "text": [
      "C:\\Users\\Hp\\anaconda3\\envs\\fdgf\\lib\\site-packages\\sklearn\\linear_model\\_coordinate_descent.py:531: ConvergenceWarning: Objective did not converge. You might want to increase the number of iterations. Duality gap: 2534189543.4694824, tolerance: 1536859599.6164982\n",
      "  positive)\n"
     ]
    },
    {
     "name": "stdout",
     "output_type": "stream",
     "text": [
      "[CV] ............................. alpha=40, l1_ratio=1, total=   0.7s\n",
      "[CV] alpha=40, l1_ratio=1 ............................................\n",
      "[CV] ............................. alpha=40, l1_ratio=1, total=   0.6s\n",
      "[CV] alpha=40, l1_ratio=1 ............................................\n"
     ]
    },
    {
     "name": "stderr",
     "output_type": "stream",
     "text": [
      "C:\\Users\\Hp\\anaconda3\\envs\\fdgf\\lib\\site-packages\\sklearn\\linear_model\\_coordinate_descent.py:531: ConvergenceWarning: Objective did not converge. You might want to increase the number of iterations. Duality gap: 2802139217.2211914, tolerance: 1569498936.193926\n",
      "  positive)\n"
     ]
    },
    {
     "name": "stdout",
     "output_type": "stream",
     "text": [
      "[CV] ............................. alpha=40, l1_ratio=1, total=   0.7s\n",
      "[CV] alpha=40, l1_ratio=1 ............................................\n"
     ]
    },
    {
     "name": "stderr",
     "output_type": "stream",
     "text": [
      "C:\\Users\\Hp\\anaconda3\\envs\\fdgf\\lib\\site-packages\\sklearn\\linear_model\\_coordinate_descent.py:531: ConvergenceWarning: Objective did not converge. You might want to increase the number of iterations. Duality gap: 3133726096.139282, tolerance: 1454832032.4183369\n",
      "  positive)\n"
     ]
    },
    {
     "name": "stdout",
     "output_type": "stream",
     "text": [
      "[CV] ............................. alpha=40, l1_ratio=1, total=   0.7s\n",
      "[CV] alpha=40, l1_ratio=1 ............................................\n"
     ]
    },
    {
     "name": "stderr",
     "output_type": "stream",
     "text": [
      "C:\\Users\\Hp\\anaconda3\\envs\\fdgf\\lib\\site-packages\\sklearn\\linear_model\\_coordinate_descent.py:531: ConvergenceWarning: Objective did not converge. You might want to increase the number of iterations. Duality gap: 3215892084.5023193, tolerance: 1567300499.9324098\n",
      "  positive)\n"
     ]
    },
    {
     "name": "stdout",
     "output_type": "stream",
     "text": [
      "[CV] ............................. alpha=40, l1_ratio=1, total=   0.7s\n",
      "[CV] alpha=40, l1_ratio=1 ............................................\n"
     ]
    },
    {
     "name": "stderr",
     "output_type": "stream",
     "text": [
      "C:\\Users\\Hp\\anaconda3\\envs\\fdgf\\lib\\site-packages\\sklearn\\linear_model\\_coordinate_descent.py:531: ConvergenceWarning: Objective did not converge. You might want to increase the number of iterations. Duality gap: 3184008021.003418, tolerance: 1563613929.1629386\n",
      "  positive)\n"
     ]
    },
    {
     "name": "stdout",
     "output_type": "stream",
     "text": [
      "[CV] ............................. alpha=40, l1_ratio=1, total=   0.7s\n",
      "[CV] alpha=40, l1_ratio=1 ............................................\n"
     ]
    },
    {
     "name": "stderr",
     "output_type": "stream",
     "text": [
      "C:\\Users\\Hp\\anaconda3\\envs\\fdgf\\lib\\site-packages\\sklearn\\linear_model\\_coordinate_descent.py:531: ConvergenceWarning: Objective did not converge. You might want to increase the number of iterations. Duality gap: 3019912818.303955, tolerance: 1548294253.8260388\n",
      "  positive)\n"
     ]
    },
    {
     "name": "stdout",
     "output_type": "stream",
     "text": [
      "[CV] ............................. alpha=40, l1_ratio=1, total=   0.7s\n",
      "[CV] alpha=40, l1_ratio=1 ............................................\n"
     ]
    },
    {
     "name": "stderr",
     "output_type": "stream",
     "text": [
      "C:\\Users\\Hp\\anaconda3\\envs\\fdgf\\lib\\site-packages\\sklearn\\linear_model\\_coordinate_descent.py:531: ConvergenceWarning: Objective did not converge. You might want to increase the number of iterations. Duality gap: 2868785800.9161377, tolerance: 1605914768.0799258\n",
      "  positive)\n"
     ]
    },
    {
     "name": "stdout",
     "output_type": "stream",
     "text": [
      "[CV] ............................. alpha=40, l1_ratio=1, total=   0.8s\n",
      "[CV] alpha=40, l1_ratio=1 ............................................\n"
     ]
    },
    {
     "name": "stderr",
     "output_type": "stream",
     "text": [
      "C:\\Users\\Hp\\anaconda3\\envs\\fdgf\\lib\\site-packages\\sklearn\\linear_model\\_coordinate_descent.py:531: ConvergenceWarning: Objective did not converge. You might want to increase the number of iterations. Duality gap: 2411535748.3444824, tolerance: 1515807608.6357646\n",
      "  positive)\n"
     ]
    },
    {
     "name": "stdout",
     "output_type": "stream",
     "text": [
      "[CV] ............................. alpha=40, l1_ratio=1, total=   0.7s\n",
      "[CV] alpha=40, l1_ratio=1 ............................................\n"
     ]
    },
    {
     "name": "stderr",
     "output_type": "stream",
     "text": [
      "C:\\Users\\Hp\\anaconda3\\envs\\fdgf\\lib\\site-packages\\sklearn\\linear_model\\_coordinate_descent.py:531: ConvergenceWarning: Objective did not converge. You might want to increase the number of iterations. Duality gap: 2870299156.488159, tolerance: 1545968373.693442\n",
      "  positive)\n"
     ]
    },
    {
     "name": "stdout",
     "output_type": "stream",
     "text": [
      "[CV] ............................. alpha=40, l1_ratio=1, total=   0.7s\n",
      "[CV] alpha=50, l1_ratio=0.1 ..........................................\n",
      "[CV] ........................... alpha=50, l1_ratio=0.1, total=   0.0s\n",
      "[CV] alpha=50, l1_ratio=0.1 ..........................................\n",
      "[CV] ........................... alpha=50, l1_ratio=0.1, total=   0.0s\n",
      "[CV] alpha=50, l1_ratio=0.1 ..........................................\n",
      "[CV] ........................... alpha=50, l1_ratio=0.1, total=   0.0s\n",
      "[CV] alpha=50, l1_ratio=0.1 ..........................................\n",
      "[CV] ........................... alpha=50, l1_ratio=0.1, total=   0.0s\n",
      "[CV] alpha=50, l1_ratio=0.1 ..........................................\n",
      "[CV] ........................... alpha=50, l1_ratio=0.1, total=   0.0s\n",
      "[CV] alpha=50, l1_ratio=0.1 ..........................................\n",
      "[CV] ........................... alpha=50, l1_ratio=0.1, total=   0.0s\n",
      "[CV] alpha=50, l1_ratio=0.1 ..........................................\n",
      "[CV] ........................... alpha=50, l1_ratio=0.1, total=   0.0s\n",
      "[CV] alpha=50, l1_ratio=0.1 ..........................................\n",
      "[CV] ........................... alpha=50, l1_ratio=0.1, total=   0.0s\n",
      "[CV] alpha=50, l1_ratio=0.1 ..........................................\n",
      "[CV] ........................... alpha=50, l1_ratio=0.1, total=   0.0s\n",
      "[CV] alpha=50, l1_ratio=0.1 ..........................................\n",
      "[CV] ........................... alpha=50, l1_ratio=0.1, total=   0.0s\n",
      "[CV] alpha=50, l1_ratio=0.25 .........................................\n",
      "[CV] .......................... alpha=50, l1_ratio=0.25, total=   0.0s\n",
      "[CV] alpha=50, l1_ratio=0.25 .........................................\n",
      "[CV] .......................... alpha=50, l1_ratio=0.25, total=   0.0s\n",
      "[CV] alpha=50, l1_ratio=0.25 .........................................\n",
      "[CV] .......................... alpha=50, l1_ratio=0.25, total=   0.0s\n",
      "[CV] alpha=50, l1_ratio=0.25 .........................................\n",
      "[CV] .......................... alpha=50, l1_ratio=0.25, total=   0.0s\n",
      "[CV] alpha=50, l1_ratio=0.25 .........................................\n",
      "[CV] .......................... alpha=50, l1_ratio=0.25, total=   0.0s\n",
      "[CV] alpha=50, l1_ratio=0.25 .........................................\n",
      "[CV] .......................... alpha=50, l1_ratio=0.25, total=   0.0s\n",
      "[CV] alpha=50, l1_ratio=0.25 .........................................\n",
      "[CV] .......................... alpha=50, l1_ratio=0.25, total=   0.0s\n",
      "[CV] alpha=50, l1_ratio=0.25 .........................................\n",
      "[CV] .......................... alpha=50, l1_ratio=0.25, total=   0.0s\n",
      "[CV] alpha=50, l1_ratio=0.25 .........................................\n",
      "[CV] .......................... alpha=50, l1_ratio=0.25, total=   0.0s\n",
      "[CV] alpha=50, l1_ratio=0.25 .........................................\n",
      "[CV] .......................... alpha=50, l1_ratio=0.25, total=   0.0s\n",
      "[CV] alpha=50, l1_ratio=0.5 ..........................................\n",
      "[CV] ........................... alpha=50, l1_ratio=0.5, total=   0.0s\n",
      "[CV] alpha=50, l1_ratio=0.5 ..........................................\n",
      "[CV] ........................... alpha=50, l1_ratio=0.5, total=   0.0s\n",
      "[CV] alpha=50, l1_ratio=0.5 ..........................................\n",
      "[CV] ........................... alpha=50, l1_ratio=0.5, total=   0.0s\n",
      "[CV] alpha=50, l1_ratio=0.5 ..........................................\n",
      "[CV] ........................... alpha=50, l1_ratio=0.5, total=   0.0s\n",
      "[CV] alpha=50, l1_ratio=0.5 ..........................................\n",
      "[CV] ........................... alpha=50, l1_ratio=0.5, total=   0.0s\n",
      "[CV] alpha=50, l1_ratio=0.5 ..........................................\n",
      "[CV] ........................... alpha=50, l1_ratio=0.5, total=   0.0s\n",
      "[CV] alpha=50, l1_ratio=0.5 ..........................................\n",
      "[CV] ........................... alpha=50, l1_ratio=0.5, total=   0.0s\n",
      "[CV] alpha=50, l1_ratio=0.5 ..........................................\n",
      "[CV] ........................... alpha=50, l1_ratio=0.5, total=   0.0s\n",
      "[CV] alpha=50, l1_ratio=0.5 ..........................................\n",
      "[CV] ........................... alpha=50, l1_ratio=0.5, total=   0.0s\n",
      "[CV] alpha=50, l1_ratio=0.5 ..........................................\n",
      "[CV] ........................... alpha=50, l1_ratio=0.5, total=   0.0s\n",
      "[CV] alpha=50, l1_ratio=0.7 ..........................................\n",
      "[CV] ........................... alpha=50, l1_ratio=0.7, total=   0.0s\n",
      "[CV] alpha=50, l1_ratio=0.7 ..........................................\n",
      "[CV] ........................... alpha=50, l1_ratio=0.7, total=   0.0s\n",
      "[CV] alpha=50, l1_ratio=0.7 ..........................................\n",
      "[CV] ........................... alpha=50, l1_ratio=0.7, total=   0.0s\n",
      "[CV] alpha=50, l1_ratio=0.7 ..........................................\n",
      "[CV] ........................... alpha=50, l1_ratio=0.7, total=   0.0s\n",
      "[CV] alpha=50, l1_ratio=0.7 ..........................................\n",
      "[CV] ........................... alpha=50, l1_ratio=0.7, total=   0.0s\n",
      "[CV] alpha=50, l1_ratio=0.7 ..........................................\n",
      "[CV] ........................... alpha=50, l1_ratio=0.7, total=   0.0s\n",
      "[CV] alpha=50, l1_ratio=0.7 ..........................................\n",
      "[CV] ........................... alpha=50, l1_ratio=0.7, total=   0.0s\n",
      "[CV] alpha=50, l1_ratio=0.7 ..........................................\n",
      "[CV] ........................... alpha=50, l1_ratio=0.7, total=   0.0s\n",
      "[CV] alpha=50, l1_ratio=0.7 ..........................................\n",
      "[CV] ........................... alpha=50, l1_ratio=0.7, total=   0.0s\n",
      "[CV] alpha=50, l1_ratio=0.7 ..........................................\n",
      "[CV] ........................... alpha=50, l1_ratio=0.7, total=   0.0s\n",
      "[CV] alpha=50, l1_ratio=0.75 .........................................\n",
      "[CV] .......................... alpha=50, l1_ratio=0.75, total=   0.0s\n",
      "[CV] alpha=50, l1_ratio=0.75 .........................................\n",
      "[CV] .......................... alpha=50, l1_ratio=0.75, total=   0.0s\n",
      "[CV] alpha=50, l1_ratio=0.75 .........................................\n",
      "[CV] .......................... alpha=50, l1_ratio=0.75, total=   0.0s\n",
      "[CV] alpha=50, l1_ratio=0.75 .........................................\n",
      "[CV] .......................... alpha=50, l1_ratio=0.75, total=   0.0s\n",
      "[CV] alpha=50, l1_ratio=0.75 .........................................\n",
      "[CV] .......................... alpha=50, l1_ratio=0.75, total=   0.0s\n",
      "[CV] alpha=50, l1_ratio=0.75 .........................................\n",
      "[CV] .......................... alpha=50, l1_ratio=0.75, total=   0.0s\n",
      "[CV] alpha=50, l1_ratio=0.75 .........................................\n",
      "[CV] .......................... alpha=50, l1_ratio=0.75, total=   0.0s\n",
      "[CV] alpha=50, l1_ratio=0.75 .........................................\n",
      "[CV] .......................... alpha=50, l1_ratio=0.75, total=   0.0s\n",
      "[CV] alpha=50, l1_ratio=0.75 .........................................\n",
      "[CV] .......................... alpha=50, l1_ratio=0.75, total=   0.0s\n",
      "[CV] alpha=50, l1_ratio=0.75 .........................................\n",
      "[CV] .......................... alpha=50, l1_ratio=0.75, total=   0.0s\n",
      "[CV] alpha=50, l1_ratio=0.9 ..........................................\n",
      "[CV] ........................... alpha=50, l1_ratio=0.9, total=   0.0s\n",
      "[CV] alpha=50, l1_ratio=0.9 ..........................................\n",
      "[CV] ........................... alpha=50, l1_ratio=0.9, total=   0.0s\n",
      "[CV] alpha=50, l1_ratio=0.9 ..........................................\n",
      "[CV] ........................... alpha=50, l1_ratio=0.9, total=   0.0s\n",
      "[CV] alpha=50, l1_ratio=0.9 ..........................................\n",
      "[CV] ........................... alpha=50, l1_ratio=0.9, total=   0.0s\n",
      "[CV] alpha=50, l1_ratio=0.9 ..........................................\n",
      "[CV] ........................... alpha=50, l1_ratio=0.9, total=   0.0s\n",
      "[CV] alpha=50, l1_ratio=0.9 ..........................................\n",
      "[CV] ........................... alpha=50, l1_ratio=0.9, total=   0.0s\n",
      "[CV] alpha=50, l1_ratio=0.9 ..........................................\n",
      "[CV] ........................... alpha=50, l1_ratio=0.9, total=   0.0s\n",
      "[CV] alpha=50, l1_ratio=0.9 ..........................................\n",
      "[CV] ........................... alpha=50, l1_ratio=0.9, total=   0.0s\n",
      "[CV] alpha=50, l1_ratio=0.9 ..........................................\n",
      "[CV] ........................... alpha=50, l1_ratio=0.9, total=   0.0s\n",
      "[CV] alpha=50, l1_ratio=0.9 ..........................................\n",
      "[CV] ........................... alpha=50, l1_ratio=0.9, total=   0.0s\n",
      "[CV] alpha=50, l1_ratio=0.95 .........................................\n"
     ]
    },
    {
     "name": "stdout",
     "output_type": "stream",
     "text": [
      "[CV] .......................... alpha=50, l1_ratio=0.95, total=   0.0s\n",
      "[CV] alpha=50, l1_ratio=0.95 .........................................\n",
      "[CV] .......................... alpha=50, l1_ratio=0.95, total=   0.0s\n",
      "[CV] alpha=50, l1_ratio=0.95 .........................................\n",
      "[CV] .......................... alpha=50, l1_ratio=0.95, total=   0.0s\n",
      "[CV] alpha=50, l1_ratio=0.95 .........................................\n",
      "[CV] .......................... alpha=50, l1_ratio=0.95, total=   0.0s\n",
      "[CV] alpha=50, l1_ratio=0.95 .........................................\n",
      "[CV] .......................... alpha=50, l1_ratio=0.95, total=   0.0s\n",
      "[CV] alpha=50, l1_ratio=0.95 .........................................\n",
      "[CV] .......................... alpha=50, l1_ratio=0.95, total=   0.0s\n",
      "[CV] alpha=50, l1_ratio=0.95 .........................................\n",
      "[CV] .......................... alpha=50, l1_ratio=0.95, total=   0.0s\n",
      "[CV] alpha=50, l1_ratio=0.95 .........................................\n",
      "[CV] .......................... alpha=50, l1_ratio=0.95, total=   0.0s\n",
      "[CV] alpha=50, l1_ratio=0.95 .........................................\n",
      "[CV] .......................... alpha=50, l1_ratio=0.95, total=   0.0s\n",
      "[CV] alpha=50, l1_ratio=0.95 .........................................\n",
      "[CV] .......................... alpha=50, l1_ratio=0.95, total=   0.0s\n",
      "[CV] alpha=50, l1_ratio=0.99 .........................................\n",
      "[CV] .......................... alpha=50, l1_ratio=0.99, total=   0.1s\n",
      "[CV] alpha=50, l1_ratio=0.99 .........................................\n",
      "[CV] .......................... alpha=50, l1_ratio=0.99, total=   0.1s\n",
      "[CV] alpha=50, l1_ratio=0.99 .........................................\n",
      "[CV] .......................... alpha=50, l1_ratio=0.99, total=   0.1s\n",
      "[CV] alpha=50, l1_ratio=0.99 .........................................\n",
      "[CV] .......................... alpha=50, l1_ratio=0.99, total=   0.1s\n",
      "[CV] alpha=50, l1_ratio=0.99 .........................................\n",
      "[CV] .......................... alpha=50, l1_ratio=0.99, total=   0.1s\n",
      "[CV] alpha=50, l1_ratio=0.99 .........................................\n",
      "[CV] .......................... alpha=50, l1_ratio=0.99, total=   0.1s\n",
      "[CV] alpha=50, l1_ratio=0.99 .........................................\n",
      "[CV] .......................... alpha=50, l1_ratio=0.99, total=   0.1s\n",
      "[CV] alpha=50, l1_ratio=0.99 .........................................\n",
      "[CV] .......................... alpha=50, l1_ratio=0.99, total=   0.1s\n",
      "[CV] alpha=50, l1_ratio=0.99 .........................................\n",
      "[CV] .......................... alpha=50, l1_ratio=0.99, total=   0.1s\n",
      "[CV] alpha=50, l1_ratio=0.99 .........................................\n",
      "[CV] .......................... alpha=50, l1_ratio=0.99, total=   0.1s\n",
      "[CV] alpha=50, l1_ratio=1 ............................................\n",
      "[CV] ............................. alpha=50, l1_ratio=1, total=   0.6s\n",
      "[CV] alpha=50, l1_ratio=1 ............................................\n",
      "[CV] ............................. alpha=50, l1_ratio=1, total=   0.5s\n",
      "[CV] alpha=50, l1_ratio=1 ............................................\n",
      "[CV] ............................. alpha=50, l1_ratio=1, total=   0.6s\n",
      "[CV] alpha=50, l1_ratio=1 ............................................\n",
      "[CV] ............................. alpha=50, l1_ratio=1, total=   0.6s\n",
      "[CV] alpha=50, l1_ratio=1 ............................................\n",
      "[CV] ............................. alpha=50, l1_ratio=1, total=   0.6s\n",
      "[CV] alpha=50, l1_ratio=1 ............................................\n",
      "[CV] ............................. alpha=50, l1_ratio=1, total=   0.6s\n",
      "[CV] alpha=50, l1_ratio=1 ............................................\n",
      "[CV] ............................. alpha=50, l1_ratio=1, total=   0.6s\n",
      "[CV] alpha=50, l1_ratio=1 ............................................\n",
      "[CV] ............................. alpha=50, l1_ratio=1, total=   0.6s\n",
      "[CV] alpha=50, l1_ratio=1 ............................................\n",
      "[CV] ............................. alpha=50, l1_ratio=1, total=   0.6s\n",
      "[CV] alpha=50, l1_ratio=1 ............................................\n",
      "[CV] ............................. alpha=50, l1_ratio=1, total=   0.6s\n",
      "[CV] alpha=60, l1_ratio=0.1 ..........................................\n",
      "[CV] ........................... alpha=60, l1_ratio=0.1, total=   0.0s\n",
      "[CV] alpha=60, l1_ratio=0.1 ..........................................\n",
      "[CV] ........................... alpha=60, l1_ratio=0.1, total=   0.0s\n",
      "[CV] alpha=60, l1_ratio=0.1 ..........................................\n",
      "[CV] ........................... alpha=60, l1_ratio=0.1, total=   0.0s\n",
      "[CV] alpha=60, l1_ratio=0.1 ..........................................\n",
      "[CV] ........................... alpha=60, l1_ratio=0.1, total=   0.0s\n",
      "[CV] alpha=60, l1_ratio=0.1 ..........................................\n",
      "[CV] ........................... alpha=60, l1_ratio=0.1, total=   0.0s\n",
      "[CV] alpha=60, l1_ratio=0.1 ..........................................\n",
      "[CV] ........................... alpha=60, l1_ratio=0.1, total=   0.0s\n",
      "[CV] alpha=60, l1_ratio=0.1 ..........................................\n",
      "[CV] ........................... alpha=60, l1_ratio=0.1, total=   0.0s\n",
      "[CV] alpha=60, l1_ratio=0.1 ..........................................\n",
      "[CV] ........................... alpha=60, l1_ratio=0.1, total=   0.0s\n",
      "[CV] alpha=60, l1_ratio=0.1 ..........................................\n",
      "[CV] ........................... alpha=60, l1_ratio=0.1, total=   0.0s\n",
      "[CV] alpha=60, l1_ratio=0.1 ..........................................\n",
      "[CV] ........................... alpha=60, l1_ratio=0.1, total=   0.0s\n",
      "[CV] alpha=60, l1_ratio=0.25 .........................................\n",
      "[CV] .......................... alpha=60, l1_ratio=0.25, total=   0.0s\n",
      "[CV] alpha=60, l1_ratio=0.25 .........................................\n",
      "[CV] .......................... alpha=60, l1_ratio=0.25, total=   0.0s\n",
      "[CV] alpha=60, l1_ratio=0.25 .........................................\n",
      "[CV] .......................... alpha=60, l1_ratio=0.25, total=   0.0s\n",
      "[CV] alpha=60, l1_ratio=0.25 .........................................\n",
      "[CV] .......................... alpha=60, l1_ratio=0.25, total=   0.0s\n",
      "[CV] alpha=60, l1_ratio=0.25 .........................................\n",
      "[CV] .......................... alpha=60, l1_ratio=0.25, total=   0.0s\n",
      "[CV] alpha=60, l1_ratio=0.25 .........................................\n",
      "[CV] .......................... alpha=60, l1_ratio=0.25, total=   0.0s\n",
      "[CV] alpha=60, l1_ratio=0.25 .........................................\n",
      "[CV] .......................... alpha=60, l1_ratio=0.25, total=   0.0s\n",
      "[CV] alpha=60, l1_ratio=0.25 .........................................\n",
      "[CV] .......................... alpha=60, l1_ratio=0.25, total=   0.0s\n",
      "[CV] alpha=60, l1_ratio=0.25 .........................................\n",
      "[CV] .......................... alpha=60, l1_ratio=0.25, total=   0.0s\n",
      "[CV] alpha=60, l1_ratio=0.25 .........................................\n",
      "[CV] .......................... alpha=60, l1_ratio=0.25, total=   0.0s\n",
      "[CV] alpha=60, l1_ratio=0.5 ..........................................\n",
      "[CV] ........................... alpha=60, l1_ratio=0.5, total=   0.0s\n",
      "[CV] alpha=60, l1_ratio=0.5 ..........................................\n",
      "[CV] ........................... alpha=60, l1_ratio=0.5, total=   0.0s\n",
      "[CV] alpha=60, l1_ratio=0.5 ..........................................\n",
      "[CV] ........................... alpha=60, l1_ratio=0.5, total=   0.0s\n",
      "[CV] alpha=60, l1_ratio=0.5 ..........................................\n",
      "[CV] ........................... alpha=60, l1_ratio=0.5, total=   0.0s\n",
      "[CV] alpha=60, l1_ratio=0.5 ..........................................\n",
      "[CV] ........................... alpha=60, l1_ratio=0.5, total=   0.0s\n",
      "[CV] alpha=60, l1_ratio=0.5 ..........................................\n",
      "[CV] ........................... alpha=60, l1_ratio=0.5, total=   0.0s\n",
      "[CV] alpha=60, l1_ratio=0.5 ..........................................\n",
      "[CV] ........................... alpha=60, l1_ratio=0.5, total=   0.0s\n",
      "[CV] alpha=60, l1_ratio=0.5 ..........................................\n",
      "[CV] ........................... alpha=60, l1_ratio=0.5, total=   0.0s\n",
      "[CV] alpha=60, l1_ratio=0.5 ..........................................\n"
     ]
    },
    {
     "name": "stdout",
     "output_type": "stream",
     "text": [
      "[CV] ........................... alpha=60, l1_ratio=0.5, total=   0.0s\n",
      "[CV] alpha=60, l1_ratio=0.5 ..........................................\n",
      "[CV] ........................... alpha=60, l1_ratio=0.5, total=   0.0s\n",
      "[CV] alpha=60, l1_ratio=0.7 ..........................................\n",
      "[CV] ........................... alpha=60, l1_ratio=0.7, total=   0.0s\n",
      "[CV] alpha=60, l1_ratio=0.7 ..........................................\n",
      "[CV] ........................... alpha=60, l1_ratio=0.7, total=   0.0s\n",
      "[CV] alpha=60, l1_ratio=0.7 ..........................................\n",
      "[CV] ........................... alpha=60, l1_ratio=0.7, total=   0.0s\n",
      "[CV] alpha=60, l1_ratio=0.7 ..........................................\n",
      "[CV] ........................... alpha=60, l1_ratio=0.7, total=   0.0s\n",
      "[CV] alpha=60, l1_ratio=0.7 ..........................................\n",
      "[CV] ........................... alpha=60, l1_ratio=0.7, total=   0.0s\n",
      "[CV] alpha=60, l1_ratio=0.7 ..........................................\n",
      "[CV] ........................... alpha=60, l1_ratio=0.7, total=   0.0s\n",
      "[CV] alpha=60, l1_ratio=0.7 ..........................................\n",
      "[CV] ........................... alpha=60, l1_ratio=0.7, total=   0.0s\n",
      "[CV] alpha=60, l1_ratio=0.7 ..........................................\n",
      "[CV] ........................... alpha=60, l1_ratio=0.7, total=   0.0s\n",
      "[CV] alpha=60, l1_ratio=0.7 ..........................................\n",
      "[CV] ........................... alpha=60, l1_ratio=0.7, total=   0.0s\n",
      "[CV] alpha=60, l1_ratio=0.7 ..........................................\n",
      "[CV] ........................... alpha=60, l1_ratio=0.7, total=   0.0s\n",
      "[CV] alpha=60, l1_ratio=0.75 .........................................\n",
      "[CV] .......................... alpha=60, l1_ratio=0.75, total=   0.0s\n",
      "[CV] alpha=60, l1_ratio=0.75 .........................................\n",
      "[CV] .......................... alpha=60, l1_ratio=0.75, total=   0.0s\n",
      "[CV] alpha=60, l1_ratio=0.75 .........................................\n",
      "[CV] .......................... alpha=60, l1_ratio=0.75, total=   0.0s\n",
      "[CV] alpha=60, l1_ratio=0.75 .........................................\n",
      "[CV] .......................... alpha=60, l1_ratio=0.75, total=   0.0s\n",
      "[CV] alpha=60, l1_ratio=0.75 .........................................\n",
      "[CV] .......................... alpha=60, l1_ratio=0.75, total=   0.0s\n",
      "[CV] alpha=60, l1_ratio=0.75 .........................................\n",
      "[CV] .......................... alpha=60, l1_ratio=0.75, total=   0.0s\n",
      "[CV] alpha=60, l1_ratio=0.75 .........................................\n",
      "[CV] .......................... alpha=60, l1_ratio=0.75, total=   0.0s\n",
      "[CV] alpha=60, l1_ratio=0.75 .........................................\n",
      "[CV] .......................... alpha=60, l1_ratio=0.75, total=   0.0s\n",
      "[CV] alpha=60, l1_ratio=0.75 .........................................\n",
      "[CV] .......................... alpha=60, l1_ratio=0.75, total=   0.0s\n",
      "[CV] alpha=60, l1_ratio=0.75 .........................................\n",
      "[CV] .......................... alpha=60, l1_ratio=0.75, total=   0.0s\n",
      "[CV] alpha=60, l1_ratio=0.9 ..........................................\n",
      "[CV] ........................... alpha=60, l1_ratio=0.9, total=   0.0s\n",
      "[CV] alpha=60, l1_ratio=0.9 ..........................................\n",
      "[CV] ........................... alpha=60, l1_ratio=0.9, total=   0.0s\n",
      "[CV] alpha=60, l1_ratio=0.9 ..........................................\n",
      "[CV] ........................... alpha=60, l1_ratio=0.9, total=   0.0s\n",
      "[CV] alpha=60, l1_ratio=0.9 ..........................................\n",
      "[CV] ........................... alpha=60, l1_ratio=0.9, total=   0.0s\n",
      "[CV] alpha=60, l1_ratio=0.9 ..........................................\n",
      "[CV] ........................... alpha=60, l1_ratio=0.9, total=   0.0s\n",
      "[CV] alpha=60, l1_ratio=0.9 ..........................................\n",
      "[CV] ........................... alpha=60, l1_ratio=0.9, total=   0.0s\n",
      "[CV] alpha=60, l1_ratio=0.9 ..........................................\n",
      "[CV] ........................... alpha=60, l1_ratio=0.9, total=   0.0s\n",
      "[CV] alpha=60, l1_ratio=0.9 ..........................................\n",
      "[CV] ........................... alpha=60, l1_ratio=0.9, total=   0.0s\n",
      "[CV] alpha=60, l1_ratio=0.9 ..........................................\n",
      "[CV] ........................... alpha=60, l1_ratio=0.9, total=   0.0s\n",
      "[CV] alpha=60, l1_ratio=0.9 ..........................................\n",
      "[CV] ........................... alpha=60, l1_ratio=0.9, total=   0.0s\n",
      "[CV] alpha=60, l1_ratio=0.95 .........................................\n",
      "[CV] .......................... alpha=60, l1_ratio=0.95, total=   0.0s\n",
      "[CV] alpha=60, l1_ratio=0.95 .........................................\n",
      "[CV] .......................... alpha=60, l1_ratio=0.95, total=   0.0s\n",
      "[CV] alpha=60, l1_ratio=0.95 .........................................\n",
      "[CV] .......................... alpha=60, l1_ratio=0.95, total=   0.0s\n",
      "[CV] alpha=60, l1_ratio=0.95 .........................................\n",
      "[CV] .......................... alpha=60, l1_ratio=0.95, total=   0.0s\n",
      "[CV] alpha=60, l1_ratio=0.95 .........................................\n",
      "[CV] .......................... alpha=60, l1_ratio=0.95, total=   0.0s\n",
      "[CV] alpha=60, l1_ratio=0.95 .........................................\n",
      "[CV] .......................... alpha=60, l1_ratio=0.95, total=   0.0s\n",
      "[CV] alpha=60, l1_ratio=0.95 .........................................\n",
      "[CV] .......................... alpha=60, l1_ratio=0.95, total=   0.0s\n",
      "[CV] alpha=60, l1_ratio=0.95 .........................................\n",
      "[CV] .......................... alpha=60, l1_ratio=0.95, total=   0.0s\n",
      "[CV] alpha=60, l1_ratio=0.95 .........................................\n",
      "[CV] .......................... alpha=60, l1_ratio=0.95, total=   0.0s\n",
      "[CV] alpha=60, l1_ratio=0.95 .........................................\n",
      "[CV] .......................... alpha=60, l1_ratio=0.95, total=   0.0s\n",
      "[CV] alpha=60, l1_ratio=0.99 .........................................\n",
      "[CV] .......................... alpha=60, l1_ratio=0.99, total=   0.1s\n",
      "[CV] alpha=60, l1_ratio=0.99 .........................................\n",
      "[CV] .......................... alpha=60, l1_ratio=0.99, total=   0.1s\n",
      "[CV] alpha=60, l1_ratio=0.99 .........................................\n",
      "[CV] .......................... alpha=60, l1_ratio=0.99, total=   0.1s\n",
      "[CV] alpha=60, l1_ratio=0.99 .........................................\n",
      "[CV] .......................... alpha=60, l1_ratio=0.99, total=   0.1s\n",
      "[CV] alpha=60, l1_ratio=0.99 .........................................\n",
      "[CV] .......................... alpha=60, l1_ratio=0.99, total=   0.1s\n",
      "[CV] alpha=60, l1_ratio=0.99 .........................................\n",
      "[CV] .......................... alpha=60, l1_ratio=0.99, total=   0.1s\n",
      "[CV] alpha=60, l1_ratio=0.99 .........................................\n",
      "[CV] .......................... alpha=60, l1_ratio=0.99, total=   0.1s\n",
      "[CV] alpha=60, l1_ratio=0.99 .........................................\n",
      "[CV] .......................... alpha=60, l1_ratio=0.99, total=   0.1s\n",
      "[CV] alpha=60, l1_ratio=0.99 .........................................\n",
      "[CV] .......................... alpha=60, l1_ratio=0.99, total=   0.1s\n",
      "[CV] alpha=60, l1_ratio=0.99 .........................................\n",
      "[CV] .......................... alpha=60, l1_ratio=0.99, total=   0.1s\n",
      "[CV] alpha=60, l1_ratio=1 ............................................\n",
      "[CV] ............................. alpha=60, l1_ratio=1, total=   0.5s\n",
      "[CV] alpha=60, l1_ratio=1 ............................................\n",
      "[CV] ............................. alpha=60, l1_ratio=1, total=   0.5s\n",
      "[CV] alpha=60, l1_ratio=1 ............................................\n",
      "[CV] ............................. alpha=60, l1_ratio=1, total=   0.5s\n",
      "[CV] alpha=60, l1_ratio=1 ............................................\n",
      "[CV] ............................. alpha=60, l1_ratio=1, total=   0.5s\n",
      "[CV] alpha=60, l1_ratio=1 ............................................\n",
      "[CV] ............................. alpha=60, l1_ratio=1, total=   0.5s\n",
      "[CV] alpha=60, l1_ratio=1 ............................................\n",
      "[CV] ............................. alpha=60, l1_ratio=1, total=   0.6s\n",
      "[CV] alpha=60, l1_ratio=1 ............................................\n"
     ]
    },
    {
     "name": "stdout",
     "output_type": "stream",
     "text": [
      "[CV] ............................. alpha=60, l1_ratio=1, total=   0.6s\n",
      "[CV] alpha=60, l1_ratio=1 ............................................\n",
      "[CV] ............................. alpha=60, l1_ratio=1, total=   0.6s\n",
      "[CV] alpha=60, l1_ratio=1 ............................................\n",
      "[CV] ............................. alpha=60, l1_ratio=1, total=   0.5s\n",
      "[CV] alpha=60, l1_ratio=1 ............................................\n",
      "[CV] ............................. alpha=60, l1_ratio=1, total=   0.5s\n",
      "[CV] alpha=70, l1_ratio=0.1 ..........................................\n",
      "[CV] ........................... alpha=70, l1_ratio=0.1, total=   0.0s\n",
      "[CV] alpha=70, l1_ratio=0.1 ..........................................\n",
      "[CV] ........................... alpha=70, l1_ratio=0.1, total=   0.0s\n",
      "[CV] alpha=70, l1_ratio=0.1 ..........................................\n",
      "[CV] ........................... alpha=70, l1_ratio=0.1, total=   0.0s\n",
      "[CV] alpha=70, l1_ratio=0.1 ..........................................\n",
      "[CV] ........................... alpha=70, l1_ratio=0.1, total=   0.0s\n",
      "[CV] alpha=70, l1_ratio=0.1 ..........................................\n",
      "[CV] ........................... alpha=70, l1_ratio=0.1, total=   0.0s\n",
      "[CV] alpha=70, l1_ratio=0.1 ..........................................\n",
      "[CV] ........................... alpha=70, l1_ratio=0.1, total=   0.0s\n",
      "[CV] alpha=70, l1_ratio=0.1 ..........................................\n",
      "[CV] ........................... alpha=70, l1_ratio=0.1, total=   0.0s\n",
      "[CV] alpha=70, l1_ratio=0.1 ..........................................\n",
      "[CV] ........................... alpha=70, l1_ratio=0.1, total=   0.0s\n",
      "[CV] alpha=70, l1_ratio=0.1 ..........................................\n",
      "[CV] ........................... alpha=70, l1_ratio=0.1, total=   0.0s\n",
      "[CV] alpha=70, l1_ratio=0.1 ..........................................\n",
      "[CV] ........................... alpha=70, l1_ratio=0.1, total=   0.0s\n",
      "[CV] alpha=70, l1_ratio=0.25 .........................................\n",
      "[CV] .......................... alpha=70, l1_ratio=0.25, total=   0.0s\n",
      "[CV] alpha=70, l1_ratio=0.25 .........................................\n",
      "[CV] .......................... alpha=70, l1_ratio=0.25, total=   0.0s\n",
      "[CV] alpha=70, l1_ratio=0.25 .........................................\n",
      "[CV] .......................... alpha=70, l1_ratio=0.25, total=   0.0s\n",
      "[CV] alpha=70, l1_ratio=0.25 .........................................\n",
      "[CV] .......................... alpha=70, l1_ratio=0.25, total=   0.0s\n",
      "[CV] alpha=70, l1_ratio=0.25 .........................................\n",
      "[CV] .......................... alpha=70, l1_ratio=0.25, total=   0.0s\n",
      "[CV] alpha=70, l1_ratio=0.25 .........................................\n",
      "[CV] .......................... alpha=70, l1_ratio=0.25, total=   0.0s\n",
      "[CV] alpha=70, l1_ratio=0.25 .........................................\n",
      "[CV] .......................... alpha=70, l1_ratio=0.25, total=   0.0s\n",
      "[CV] alpha=70, l1_ratio=0.25 .........................................\n",
      "[CV] .......................... alpha=70, l1_ratio=0.25, total=   0.0s\n",
      "[CV] alpha=70, l1_ratio=0.25 .........................................\n",
      "[CV] .......................... alpha=70, l1_ratio=0.25, total=   0.0s\n",
      "[CV] alpha=70, l1_ratio=0.25 .........................................\n",
      "[CV] .......................... alpha=70, l1_ratio=0.25, total=   0.0s\n",
      "[CV] alpha=70, l1_ratio=0.5 ..........................................\n",
      "[CV] ........................... alpha=70, l1_ratio=0.5, total=   0.0s\n",
      "[CV] alpha=70, l1_ratio=0.5 ..........................................\n",
      "[CV] ........................... alpha=70, l1_ratio=0.5, total=   0.0s\n",
      "[CV] alpha=70, l1_ratio=0.5 ..........................................\n",
      "[CV] ........................... alpha=70, l1_ratio=0.5, total=   0.0s\n",
      "[CV] alpha=70, l1_ratio=0.5 ..........................................\n",
      "[CV] ........................... alpha=70, l1_ratio=0.5, total=   0.0s\n",
      "[CV] alpha=70, l1_ratio=0.5 ..........................................\n",
      "[CV] ........................... alpha=70, l1_ratio=0.5, total=   0.0s\n",
      "[CV] alpha=70, l1_ratio=0.5 ..........................................\n",
      "[CV] ........................... alpha=70, l1_ratio=0.5, total=   0.0s\n",
      "[CV] alpha=70, l1_ratio=0.5 ..........................................\n",
      "[CV] ........................... alpha=70, l1_ratio=0.5, total=   0.0s\n",
      "[CV] alpha=70, l1_ratio=0.5 ..........................................\n",
      "[CV] ........................... alpha=70, l1_ratio=0.5, total=   0.0s\n",
      "[CV] alpha=70, l1_ratio=0.5 ..........................................\n",
      "[CV] ........................... alpha=70, l1_ratio=0.5, total=   0.0s\n",
      "[CV] alpha=70, l1_ratio=0.5 ..........................................\n",
      "[CV] ........................... alpha=70, l1_ratio=0.5, total=   0.0s\n",
      "[CV] alpha=70, l1_ratio=0.7 ..........................................\n",
      "[CV] ........................... alpha=70, l1_ratio=0.7, total=   0.0s\n",
      "[CV] alpha=70, l1_ratio=0.7 ..........................................\n",
      "[CV] ........................... alpha=70, l1_ratio=0.7, total=   0.0s\n",
      "[CV] alpha=70, l1_ratio=0.7 ..........................................\n",
      "[CV] ........................... alpha=70, l1_ratio=0.7, total=   0.0s\n",
      "[CV] alpha=70, l1_ratio=0.7 ..........................................\n",
      "[CV] ........................... alpha=70, l1_ratio=0.7, total=   0.0s\n",
      "[CV] alpha=70, l1_ratio=0.7 ..........................................\n",
      "[CV] ........................... alpha=70, l1_ratio=0.7, total=   0.0s\n",
      "[CV] alpha=70, l1_ratio=0.7 ..........................................\n",
      "[CV] ........................... alpha=70, l1_ratio=0.7, total=   0.0s\n",
      "[CV] alpha=70, l1_ratio=0.7 ..........................................\n",
      "[CV] ........................... alpha=70, l1_ratio=0.7, total=   0.0s\n",
      "[CV] alpha=70, l1_ratio=0.7 ..........................................\n",
      "[CV] ........................... alpha=70, l1_ratio=0.7, total=   0.0s\n",
      "[CV] alpha=70, l1_ratio=0.7 ..........................................\n",
      "[CV] ........................... alpha=70, l1_ratio=0.7, total=   0.0s\n",
      "[CV] alpha=70, l1_ratio=0.7 ..........................................\n",
      "[CV] ........................... alpha=70, l1_ratio=0.7, total=   0.0s\n",
      "[CV] alpha=70, l1_ratio=0.75 .........................................\n",
      "[CV] .......................... alpha=70, l1_ratio=0.75, total=   0.0s\n",
      "[CV] alpha=70, l1_ratio=0.75 .........................................\n",
      "[CV] .......................... alpha=70, l1_ratio=0.75, total=   0.0s\n",
      "[CV] alpha=70, l1_ratio=0.75 .........................................\n",
      "[CV] .......................... alpha=70, l1_ratio=0.75, total=   0.0s\n",
      "[CV] alpha=70, l1_ratio=0.75 .........................................\n",
      "[CV] .......................... alpha=70, l1_ratio=0.75, total=   0.0s\n",
      "[CV] alpha=70, l1_ratio=0.75 .........................................\n",
      "[CV] .......................... alpha=70, l1_ratio=0.75, total=   0.0s\n",
      "[CV] alpha=70, l1_ratio=0.75 .........................................\n",
      "[CV] .......................... alpha=70, l1_ratio=0.75, total=   0.0s\n",
      "[CV] alpha=70, l1_ratio=0.75 .........................................\n",
      "[CV] .......................... alpha=70, l1_ratio=0.75, total=   0.0s\n",
      "[CV] alpha=70, l1_ratio=0.75 .........................................\n",
      "[CV] .......................... alpha=70, l1_ratio=0.75, total=   0.0s\n",
      "[CV] alpha=70, l1_ratio=0.75 .........................................\n",
      "[CV] .......................... alpha=70, l1_ratio=0.75, total=   0.0s\n",
      "[CV] alpha=70, l1_ratio=0.75 .........................................\n",
      "[CV] .......................... alpha=70, l1_ratio=0.75, total=   0.0s\n",
      "[CV] alpha=70, l1_ratio=0.9 ..........................................\n",
      "[CV] ........................... alpha=70, l1_ratio=0.9, total=   0.0s\n",
      "[CV] alpha=70, l1_ratio=0.9 ..........................................\n",
      "[CV] ........................... alpha=70, l1_ratio=0.9, total=   0.0s\n",
      "[CV] alpha=70, l1_ratio=0.9 ..........................................\n",
      "[CV] ........................... alpha=70, l1_ratio=0.9, total=   0.0s\n",
      "[CV] alpha=70, l1_ratio=0.9 ..........................................\n",
      "[CV] ........................... alpha=70, l1_ratio=0.9, total=   0.0s\n",
      "[CV] alpha=70, l1_ratio=0.9 ..........................................\n",
      "[CV] ........................... alpha=70, l1_ratio=0.9, total=   0.0s\n",
      "[CV] alpha=70, l1_ratio=0.9 ..........................................\n",
      "[CV] ........................... alpha=70, l1_ratio=0.9, total=   0.0s\n"
     ]
    },
    {
     "name": "stdout",
     "output_type": "stream",
     "text": [
      "[CV] alpha=70, l1_ratio=0.9 ..........................................\n",
      "[CV] ........................... alpha=70, l1_ratio=0.9, total=   0.0s\n",
      "[CV] alpha=70, l1_ratio=0.9 ..........................................\n",
      "[CV] ........................... alpha=70, l1_ratio=0.9, total=   0.0s\n",
      "[CV] alpha=70, l1_ratio=0.9 ..........................................\n",
      "[CV] ........................... alpha=70, l1_ratio=0.9, total=   0.0s\n",
      "[CV] alpha=70, l1_ratio=0.9 ..........................................\n",
      "[CV] ........................... alpha=70, l1_ratio=0.9, total=   0.0s\n",
      "[CV] alpha=70, l1_ratio=0.95 .........................................\n",
      "[CV] .......................... alpha=70, l1_ratio=0.95, total=   0.0s\n",
      "[CV] alpha=70, l1_ratio=0.95 .........................................\n",
      "[CV] .......................... alpha=70, l1_ratio=0.95, total=   0.0s\n",
      "[CV] alpha=70, l1_ratio=0.95 .........................................\n",
      "[CV] .......................... alpha=70, l1_ratio=0.95, total=   0.0s\n",
      "[CV] alpha=70, l1_ratio=0.95 .........................................\n",
      "[CV] .......................... alpha=70, l1_ratio=0.95, total=   0.0s\n",
      "[CV] alpha=70, l1_ratio=0.95 .........................................\n",
      "[CV] .......................... alpha=70, l1_ratio=0.95, total=   0.0s\n",
      "[CV] alpha=70, l1_ratio=0.95 .........................................\n",
      "[CV] .......................... alpha=70, l1_ratio=0.95, total=   0.0s\n",
      "[CV] alpha=70, l1_ratio=0.95 .........................................\n",
      "[CV] .......................... alpha=70, l1_ratio=0.95, total=   0.0s\n",
      "[CV] alpha=70, l1_ratio=0.95 .........................................\n",
      "[CV] .......................... alpha=70, l1_ratio=0.95, total=   0.0s\n",
      "[CV] alpha=70, l1_ratio=0.95 .........................................\n",
      "[CV] .......................... alpha=70, l1_ratio=0.95, total=   0.0s\n",
      "[CV] alpha=70, l1_ratio=0.95 .........................................\n",
      "[CV] .......................... alpha=70, l1_ratio=0.95, total=   0.0s\n",
      "[CV] alpha=70, l1_ratio=0.99 .........................................\n",
      "[CV] .......................... alpha=70, l1_ratio=0.99, total=   0.1s\n",
      "[CV] alpha=70, l1_ratio=0.99 .........................................\n",
      "[CV] .......................... alpha=70, l1_ratio=0.99, total=   0.1s\n",
      "[CV] alpha=70, l1_ratio=0.99 .........................................\n",
      "[CV] .......................... alpha=70, l1_ratio=0.99, total=   0.1s\n",
      "[CV] alpha=70, l1_ratio=0.99 .........................................\n",
      "[CV] .......................... alpha=70, l1_ratio=0.99, total=   0.1s\n",
      "[CV] alpha=70, l1_ratio=0.99 .........................................\n",
      "[CV] .......................... alpha=70, l1_ratio=0.99, total=   0.1s\n",
      "[CV] alpha=70, l1_ratio=0.99 .........................................\n",
      "[CV] .......................... alpha=70, l1_ratio=0.99, total=   0.1s\n",
      "[CV] alpha=70, l1_ratio=0.99 .........................................\n",
      "[CV] .......................... alpha=70, l1_ratio=0.99, total=   0.1s\n",
      "[CV] alpha=70, l1_ratio=0.99 .........................................\n",
      "[CV] .......................... alpha=70, l1_ratio=0.99, total=   0.1s\n",
      "[CV] alpha=70, l1_ratio=0.99 .........................................\n",
      "[CV] .......................... alpha=70, l1_ratio=0.99, total=   0.1s\n",
      "[CV] alpha=70, l1_ratio=0.99 .........................................\n",
      "[CV] .......................... alpha=70, l1_ratio=0.99, total=   0.1s\n",
      "[CV] alpha=70, l1_ratio=1 ............................................\n",
      "[CV] ............................. alpha=70, l1_ratio=1, total=   0.4s\n",
      "[CV] alpha=70, l1_ratio=1 ............................................\n",
      "[CV] ............................. alpha=70, l1_ratio=1, total=   0.4s\n",
      "[CV] alpha=70, l1_ratio=1 ............................................\n",
      "[CV] ............................. alpha=70, l1_ratio=1, total=   0.5s\n",
      "[CV] alpha=70, l1_ratio=1 ............................................\n",
      "[CV] ............................. alpha=70, l1_ratio=1, total=   0.4s\n",
      "[CV] alpha=70, l1_ratio=1 ............................................\n",
      "[CV] ............................. alpha=70, l1_ratio=1, total=   0.5s\n",
      "[CV] alpha=70, l1_ratio=1 ............................................\n",
      "[CV] ............................. alpha=70, l1_ratio=1, total=   0.5s\n",
      "[CV] alpha=70, l1_ratio=1 ............................................\n",
      "[CV] ............................. alpha=70, l1_ratio=1, total=   0.4s\n",
      "[CV] alpha=70, l1_ratio=1 ............................................\n",
      "[CV] ............................. alpha=70, l1_ratio=1, total=   0.4s\n",
      "[CV] alpha=70, l1_ratio=1 ............................................\n",
      "[CV] ............................. alpha=70, l1_ratio=1, total=   0.5s\n",
      "[CV] alpha=70, l1_ratio=1 ............................................\n",
      "[CV] ............................. alpha=70, l1_ratio=1, total=   0.5s\n",
      "[CV] alpha=80, l1_ratio=0.1 ..........................................\n",
      "[CV] ........................... alpha=80, l1_ratio=0.1, total=   0.0s\n",
      "[CV] alpha=80, l1_ratio=0.1 ..........................................\n",
      "[CV] ........................... alpha=80, l1_ratio=0.1, total=   0.0s\n",
      "[CV] alpha=80, l1_ratio=0.1 ..........................................\n",
      "[CV] ........................... alpha=80, l1_ratio=0.1, total=   0.0s\n",
      "[CV] alpha=80, l1_ratio=0.1 ..........................................\n",
      "[CV] ........................... alpha=80, l1_ratio=0.1, total=   0.0s\n",
      "[CV] alpha=80, l1_ratio=0.1 ..........................................\n",
      "[CV] ........................... alpha=80, l1_ratio=0.1, total=   0.0s\n",
      "[CV] alpha=80, l1_ratio=0.1 ..........................................\n",
      "[CV] ........................... alpha=80, l1_ratio=0.1, total=   0.0s\n",
      "[CV] alpha=80, l1_ratio=0.1 ..........................................\n",
      "[CV] ........................... alpha=80, l1_ratio=0.1, total=   0.0s\n",
      "[CV] alpha=80, l1_ratio=0.1 ..........................................\n",
      "[CV] ........................... alpha=80, l1_ratio=0.1, total=   0.0s\n",
      "[CV] alpha=80, l1_ratio=0.1 ..........................................\n",
      "[CV] ........................... alpha=80, l1_ratio=0.1, total=   0.0s\n",
      "[CV] alpha=80, l1_ratio=0.1 ..........................................\n",
      "[CV] ........................... alpha=80, l1_ratio=0.1, total=   0.0s\n",
      "[CV] alpha=80, l1_ratio=0.25 .........................................\n",
      "[CV] .......................... alpha=80, l1_ratio=0.25, total=   0.0s\n",
      "[CV] alpha=80, l1_ratio=0.25 .........................................\n",
      "[CV] .......................... alpha=80, l1_ratio=0.25, total=   0.0s\n",
      "[CV] alpha=80, l1_ratio=0.25 .........................................\n",
      "[CV] .......................... alpha=80, l1_ratio=0.25, total=   0.0s\n",
      "[CV] alpha=80, l1_ratio=0.25 .........................................\n",
      "[CV] .......................... alpha=80, l1_ratio=0.25, total=   0.0s\n",
      "[CV] alpha=80, l1_ratio=0.25 .........................................\n",
      "[CV] .......................... alpha=80, l1_ratio=0.25, total=   0.0s\n",
      "[CV] alpha=80, l1_ratio=0.25 .........................................\n",
      "[CV] .......................... alpha=80, l1_ratio=0.25, total=   0.0s\n",
      "[CV] alpha=80, l1_ratio=0.25 .........................................\n",
      "[CV] .......................... alpha=80, l1_ratio=0.25, total=   0.0s\n",
      "[CV] alpha=80, l1_ratio=0.25 .........................................\n",
      "[CV] .......................... alpha=80, l1_ratio=0.25, total=   0.0s\n",
      "[CV] alpha=80, l1_ratio=0.25 .........................................\n",
      "[CV] .......................... alpha=80, l1_ratio=0.25, total=   0.0s\n",
      "[CV] alpha=80, l1_ratio=0.25 .........................................\n",
      "[CV] .......................... alpha=80, l1_ratio=0.25, total=   0.0s\n",
      "[CV] alpha=80, l1_ratio=0.5 ..........................................\n",
      "[CV] ........................... alpha=80, l1_ratio=0.5, total=   0.0s\n",
      "[CV] alpha=80, l1_ratio=0.5 ..........................................\n",
      "[CV] ........................... alpha=80, l1_ratio=0.5, total=   0.0s\n",
      "[CV] alpha=80, l1_ratio=0.5 ..........................................\n",
      "[CV] ........................... alpha=80, l1_ratio=0.5, total=   0.0s\n",
      "[CV] alpha=80, l1_ratio=0.5 ..........................................\n",
      "[CV] ........................... alpha=80, l1_ratio=0.5, total=   0.0s\n",
      "[CV] alpha=80, l1_ratio=0.5 ..........................................\n",
      "[CV] ........................... alpha=80, l1_ratio=0.5, total=   0.0s\n",
      "[CV] alpha=80, l1_ratio=0.5 ..........................................\n",
      "[CV] ........................... alpha=80, l1_ratio=0.5, total=   0.0s\n"
     ]
    },
    {
     "name": "stdout",
     "output_type": "stream",
     "text": [
      "[CV] alpha=80, l1_ratio=0.5 ..........................................\n",
      "[CV] ........................... alpha=80, l1_ratio=0.5, total=   0.0s\n",
      "[CV] alpha=80, l1_ratio=0.5 ..........................................\n",
      "[CV] ........................... alpha=80, l1_ratio=0.5, total=   0.0s\n",
      "[CV] alpha=80, l1_ratio=0.5 ..........................................\n",
      "[CV] ........................... alpha=80, l1_ratio=0.5, total=   0.0s\n",
      "[CV] alpha=80, l1_ratio=0.5 ..........................................\n",
      "[CV] ........................... alpha=80, l1_ratio=0.5, total=   0.0s\n",
      "[CV] alpha=80, l1_ratio=0.7 ..........................................\n",
      "[CV] ........................... alpha=80, l1_ratio=0.7, total=   0.0s\n",
      "[CV] alpha=80, l1_ratio=0.7 ..........................................\n",
      "[CV] ........................... alpha=80, l1_ratio=0.7, total=   0.0s\n",
      "[CV] alpha=80, l1_ratio=0.7 ..........................................\n",
      "[CV] ........................... alpha=80, l1_ratio=0.7, total=   0.0s\n",
      "[CV] alpha=80, l1_ratio=0.7 ..........................................\n",
      "[CV] ........................... alpha=80, l1_ratio=0.7, total=   0.0s\n",
      "[CV] alpha=80, l1_ratio=0.7 ..........................................\n",
      "[CV] ........................... alpha=80, l1_ratio=0.7, total=   0.0s\n",
      "[CV] alpha=80, l1_ratio=0.7 ..........................................\n",
      "[CV] ........................... alpha=80, l1_ratio=0.7, total=   0.0s\n",
      "[CV] alpha=80, l1_ratio=0.7 ..........................................\n",
      "[CV] ........................... alpha=80, l1_ratio=0.7, total=   0.0s\n",
      "[CV] alpha=80, l1_ratio=0.7 ..........................................\n",
      "[CV] ........................... alpha=80, l1_ratio=0.7, total=   0.0s\n",
      "[CV] alpha=80, l1_ratio=0.7 ..........................................\n",
      "[CV] ........................... alpha=80, l1_ratio=0.7, total=   0.0s\n",
      "[CV] alpha=80, l1_ratio=0.7 ..........................................\n",
      "[CV] ........................... alpha=80, l1_ratio=0.7, total=   0.0s\n",
      "[CV] alpha=80, l1_ratio=0.75 .........................................\n",
      "[CV] .......................... alpha=80, l1_ratio=0.75, total=   0.0s\n",
      "[CV] alpha=80, l1_ratio=0.75 .........................................\n",
      "[CV] .......................... alpha=80, l1_ratio=0.75, total=   0.0s\n",
      "[CV] alpha=80, l1_ratio=0.75 .........................................\n",
      "[CV] .......................... alpha=80, l1_ratio=0.75, total=   0.0s\n",
      "[CV] alpha=80, l1_ratio=0.75 .........................................\n",
      "[CV] .......................... alpha=80, l1_ratio=0.75, total=   0.0s\n",
      "[CV] alpha=80, l1_ratio=0.75 .........................................\n",
      "[CV] .......................... alpha=80, l1_ratio=0.75, total=   0.0s\n",
      "[CV] alpha=80, l1_ratio=0.75 .........................................\n",
      "[CV] .......................... alpha=80, l1_ratio=0.75, total=   0.0s\n",
      "[CV] alpha=80, l1_ratio=0.75 .........................................\n",
      "[CV] .......................... alpha=80, l1_ratio=0.75, total=   0.0s\n",
      "[CV] alpha=80, l1_ratio=0.75 .........................................\n",
      "[CV] .......................... alpha=80, l1_ratio=0.75, total=   0.0s\n",
      "[CV] alpha=80, l1_ratio=0.75 .........................................\n",
      "[CV] .......................... alpha=80, l1_ratio=0.75, total=   0.0s\n",
      "[CV] alpha=80, l1_ratio=0.75 .........................................\n",
      "[CV] .......................... alpha=80, l1_ratio=0.75, total=   0.0s\n",
      "[CV] alpha=80, l1_ratio=0.9 ..........................................\n",
      "[CV] ........................... alpha=80, l1_ratio=0.9, total=   0.0s\n",
      "[CV] alpha=80, l1_ratio=0.9 ..........................................\n",
      "[CV] ........................... alpha=80, l1_ratio=0.9, total=   0.0s\n",
      "[CV] alpha=80, l1_ratio=0.9 ..........................................\n",
      "[CV] ........................... alpha=80, l1_ratio=0.9, total=   0.0s\n",
      "[CV] alpha=80, l1_ratio=0.9 ..........................................\n",
      "[CV] ........................... alpha=80, l1_ratio=0.9, total=   0.0s\n",
      "[CV] alpha=80, l1_ratio=0.9 ..........................................\n",
      "[CV] ........................... alpha=80, l1_ratio=0.9, total=   0.0s\n",
      "[CV] alpha=80, l1_ratio=0.9 ..........................................\n",
      "[CV] ........................... alpha=80, l1_ratio=0.9, total=   0.0s\n",
      "[CV] alpha=80, l1_ratio=0.9 ..........................................\n",
      "[CV] ........................... alpha=80, l1_ratio=0.9, total=   0.0s\n",
      "[CV] alpha=80, l1_ratio=0.9 ..........................................\n",
      "[CV] ........................... alpha=80, l1_ratio=0.9, total=   0.0s\n",
      "[CV] alpha=80, l1_ratio=0.9 ..........................................\n",
      "[CV] ........................... alpha=80, l1_ratio=0.9, total=   0.0s\n",
      "[CV] alpha=80, l1_ratio=0.9 ..........................................\n",
      "[CV] ........................... alpha=80, l1_ratio=0.9, total=   0.0s\n",
      "[CV] alpha=80, l1_ratio=0.95 .........................................\n",
      "[CV] .......................... alpha=80, l1_ratio=0.95, total=   0.0s\n",
      "[CV] alpha=80, l1_ratio=0.95 .........................................\n",
      "[CV] .......................... alpha=80, l1_ratio=0.95, total=   0.0s\n",
      "[CV] alpha=80, l1_ratio=0.95 .........................................\n",
      "[CV] .......................... alpha=80, l1_ratio=0.95, total=   0.0s\n",
      "[CV] alpha=80, l1_ratio=0.95 .........................................\n",
      "[CV] .......................... alpha=80, l1_ratio=0.95, total=   0.0s\n",
      "[CV] alpha=80, l1_ratio=0.95 .........................................\n",
      "[CV] .......................... alpha=80, l1_ratio=0.95, total=   0.0s\n",
      "[CV] alpha=80, l1_ratio=0.95 .........................................\n",
      "[CV] .......................... alpha=80, l1_ratio=0.95, total=   0.0s\n",
      "[CV] alpha=80, l1_ratio=0.95 .........................................\n",
      "[CV] .......................... alpha=80, l1_ratio=0.95, total=   0.0s\n",
      "[CV] alpha=80, l1_ratio=0.95 .........................................\n",
      "[CV] .......................... alpha=80, l1_ratio=0.95, total=   0.0s\n",
      "[CV] alpha=80, l1_ratio=0.95 .........................................\n",
      "[CV] .......................... alpha=80, l1_ratio=0.95, total=   0.0s\n",
      "[CV] alpha=80, l1_ratio=0.95 .........................................\n",
      "[CV] .......................... alpha=80, l1_ratio=0.95, total=   0.0s\n",
      "[CV] alpha=80, l1_ratio=0.99 .........................................\n",
      "[CV] .......................... alpha=80, l1_ratio=0.99, total=   0.1s\n",
      "[CV] alpha=80, l1_ratio=0.99 .........................................\n",
      "[CV] .......................... alpha=80, l1_ratio=0.99, total=   0.1s\n",
      "[CV] alpha=80, l1_ratio=0.99 .........................................\n",
      "[CV] .......................... alpha=80, l1_ratio=0.99, total=   0.0s\n",
      "[CV] alpha=80, l1_ratio=0.99 .........................................\n",
      "[CV] .......................... alpha=80, l1_ratio=0.99, total=   0.1s\n",
      "[CV] alpha=80, l1_ratio=0.99 .........................................\n",
      "[CV] .......................... alpha=80, l1_ratio=0.99, total=   0.1s\n",
      "[CV] alpha=80, l1_ratio=0.99 .........................................\n",
      "[CV] .......................... alpha=80, l1_ratio=0.99, total=   0.1s\n",
      "[CV] alpha=80, l1_ratio=0.99 .........................................\n",
      "[CV] .......................... alpha=80, l1_ratio=0.99, total=   0.1s\n",
      "[CV] alpha=80, l1_ratio=0.99 .........................................\n",
      "[CV] .......................... alpha=80, l1_ratio=0.99, total=   0.1s\n",
      "[CV] alpha=80, l1_ratio=0.99 .........................................\n",
      "[CV] .......................... alpha=80, l1_ratio=0.99, total=   0.0s\n",
      "[CV] alpha=80, l1_ratio=0.99 .........................................\n",
      "[CV] .......................... alpha=80, l1_ratio=0.99, total=   0.1s\n",
      "[CV] alpha=80, l1_ratio=1 ............................................\n",
      "[CV] ............................. alpha=80, l1_ratio=1, total=   0.4s\n",
      "[CV] alpha=80, l1_ratio=1 ............................................\n",
      "[CV] ............................. alpha=80, l1_ratio=1, total=   0.4s\n",
      "[CV] alpha=80, l1_ratio=1 ............................................\n",
      "[CV] ............................. alpha=80, l1_ratio=1, total=   0.4s\n",
      "[CV] alpha=80, l1_ratio=1 ............................................\n",
      "[CV] ............................. alpha=80, l1_ratio=1, total=   0.4s\n",
      "[CV] alpha=80, l1_ratio=1 ............................................\n"
     ]
    },
    {
     "name": "stdout",
     "output_type": "stream",
     "text": [
      "[CV] ............................. alpha=80, l1_ratio=1, total=   0.4s\n",
      "[CV] alpha=80, l1_ratio=1 ............................................\n",
      "[CV] ............................. alpha=80, l1_ratio=1, total=   0.4s\n",
      "[CV] alpha=80, l1_ratio=1 ............................................\n",
      "[CV] ............................. alpha=80, l1_ratio=1, total=   0.4s\n",
      "[CV] alpha=80, l1_ratio=1 ............................................\n",
      "[CV] ............................. alpha=80, l1_ratio=1, total=   0.4s\n",
      "[CV] alpha=80, l1_ratio=1 ............................................\n",
      "[CV] ............................. alpha=80, l1_ratio=1, total=   0.4s\n",
      "[CV] alpha=80, l1_ratio=1 ............................................\n",
      "[CV] ............................. alpha=80, l1_ratio=1, total=   0.4s\n",
      "[CV] alpha=90, l1_ratio=0.1 ..........................................\n",
      "[CV] ........................... alpha=90, l1_ratio=0.1, total=   0.0s\n",
      "[CV] alpha=90, l1_ratio=0.1 ..........................................\n",
      "[CV] ........................... alpha=90, l1_ratio=0.1, total=   0.0s\n",
      "[CV] alpha=90, l1_ratio=0.1 ..........................................\n",
      "[CV] ........................... alpha=90, l1_ratio=0.1, total=   0.0s\n",
      "[CV] alpha=90, l1_ratio=0.1 ..........................................\n",
      "[CV] ........................... alpha=90, l1_ratio=0.1, total=   0.0s\n",
      "[CV] alpha=90, l1_ratio=0.1 ..........................................\n",
      "[CV] ........................... alpha=90, l1_ratio=0.1, total=   0.0s\n",
      "[CV] alpha=90, l1_ratio=0.1 ..........................................\n",
      "[CV] ........................... alpha=90, l1_ratio=0.1, total=   0.0s\n",
      "[CV] alpha=90, l1_ratio=0.1 ..........................................\n",
      "[CV] ........................... alpha=90, l1_ratio=0.1, total=   0.0s\n",
      "[CV] alpha=90, l1_ratio=0.1 ..........................................\n",
      "[CV] ........................... alpha=90, l1_ratio=0.1, total=   0.0s\n",
      "[CV] alpha=90, l1_ratio=0.1 ..........................................\n",
      "[CV] ........................... alpha=90, l1_ratio=0.1, total=   0.0s\n",
      "[CV] alpha=90, l1_ratio=0.1 ..........................................\n",
      "[CV] ........................... alpha=90, l1_ratio=0.1, total=   0.0s\n",
      "[CV] alpha=90, l1_ratio=0.25 .........................................\n",
      "[CV] .......................... alpha=90, l1_ratio=0.25, total=   0.0s\n",
      "[CV] alpha=90, l1_ratio=0.25 .........................................\n",
      "[CV] .......................... alpha=90, l1_ratio=0.25, total=   0.0s\n",
      "[CV] alpha=90, l1_ratio=0.25 .........................................\n",
      "[CV] .......................... alpha=90, l1_ratio=0.25, total=   0.0s\n",
      "[CV] alpha=90, l1_ratio=0.25 .........................................\n",
      "[CV] .......................... alpha=90, l1_ratio=0.25, total=   0.0s\n",
      "[CV] alpha=90, l1_ratio=0.25 .........................................\n",
      "[CV] .......................... alpha=90, l1_ratio=0.25, total=   0.0s\n",
      "[CV] alpha=90, l1_ratio=0.25 .........................................\n",
      "[CV] .......................... alpha=90, l1_ratio=0.25, total=   0.0s\n",
      "[CV] alpha=90, l1_ratio=0.25 .........................................\n",
      "[CV] .......................... alpha=90, l1_ratio=0.25, total=   0.0s\n",
      "[CV] alpha=90, l1_ratio=0.25 .........................................\n",
      "[CV] .......................... alpha=90, l1_ratio=0.25, total=   0.0s\n",
      "[CV] alpha=90, l1_ratio=0.25 .........................................\n",
      "[CV] .......................... alpha=90, l1_ratio=0.25, total=   0.0s\n",
      "[CV] alpha=90, l1_ratio=0.25 .........................................\n",
      "[CV] .......................... alpha=90, l1_ratio=0.25, total=   0.0s\n",
      "[CV] alpha=90, l1_ratio=0.5 ..........................................\n",
      "[CV] ........................... alpha=90, l1_ratio=0.5, total=   0.0s\n",
      "[CV] alpha=90, l1_ratio=0.5 ..........................................\n",
      "[CV] ........................... alpha=90, l1_ratio=0.5, total=   0.0s\n",
      "[CV] alpha=90, l1_ratio=0.5 ..........................................\n",
      "[CV] ........................... alpha=90, l1_ratio=0.5, total=   0.0s\n",
      "[CV] alpha=90, l1_ratio=0.5 ..........................................\n",
      "[CV] ........................... alpha=90, l1_ratio=0.5, total=   0.0s\n",
      "[CV] alpha=90, l1_ratio=0.5 ..........................................\n",
      "[CV] ........................... alpha=90, l1_ratio=0.5, total=   0.0s\n",
      "[CV] alpha=90, l1_ratio=0.5 ..........................................\n",
      "[CV] ........................... alpha=90, l1_ratio=0.5, total=   0.0s\n",
      "[CV] alpha=90, l1_ratio=0.5 ..........................................\n",
      "[CV] ........................... alpha=90, l1_ratio=0.5, total=   0.0s\n",
      "[CV] alpha=90, l1_ratio=0.5 ..........................................\n",
      "[CV] ........................... alpha=90, l1_ratio=0.5, total=   0.0s\n",
      "[CV] alpha=90, l1_ratio=0.5 ..........................................\n",
      "[CV] ........................... alpha=90, l1_ratio=0.5, total=   0.0s\n",
      "[CV] alpha=90, l1_ratio=0.5 ..........................................\n",
      "[CV] ........................... alpha=90, l1_ratio=0.5, total=   0.0s\n",
      "[CV] alpha=90, l1_ratio=0.7 ..........................................\n",
      "[CV] ........................... alpha=90, l1_ratio=0.7, total=   0.0s\n",
      "[CV] alpha=90, l1_ratio=0.7 ..........................................\n",
      "[CV] ........................... alpha=90, l1_ratio=0.7, total=   0.0s\n",
      "[CV] alpha=90, l1_ratio=0.7 ..........................................\n",
      "[CV] ........................... alpha=90, l1_ratio=0.7, total=   0.0s\n",
      "[CV] alpha=90, l1_ratio=0.7 ..........................................\n",
      "[CV] ........................... alpha=90, l1_ratio=0.7, total=   0.0s\n",
      "[CV] alpha=90, l1_ratio=0.7 ..........................................\n",
      "[CV] ........................... alpha=90, l1_ratio=0.7, total=   0.0s\n",
      "[CV] alpha=90, l1_ratio=0.7 ..........................................\n",
      "[CV] ........................... alpha=90, l1_ratio=0.7, total=   0.0s\n",
      "[CV] alpha=90, l1_ratio=0.7 ..........................................\n",
      "[CV] ........................... alpha=90, l1_ratio=0.7, total=   0.0s\n",
      "[CV] alpha=90, l1_ratio=0.7 ..........................................\n",
      "[CV] ........................... alpha=90, l1_ratio=0.7, total=   0.0s\n",
      "[CV] alpha=90, l1_ratio=0.7 ..........................................\n",
      "[CV] ........................... alpha=90, l1_ratio=0.7, total=   0.0s\n",
      "[CV] alpha=90, l1_ratio=0.7 ..........................................\n",
      "[CV] ........................... alpha=90, l1_ratio=0.7, total=   0.0s\n",
      "[CV] alpha=90, l1_ratio=0.75 .........................................\n",
      "[CV] .......................... alpha=90, l1_ratio=0.75, total=   0.0s\n",
      "[CV] alpha=90, l1_ratio=0.75 .........................................\n",
      "[CV] .......................... alpha=90, l1_ratio=0.75, total=   0.0s\n",
      "[CV] alpha=90, l1_ratio=0.75 .........................................\n",
      "[CV] .......................... alpha=90, l1_ratio=0.75, total=   0.0s\n",
      "[CV] alpha=90, l1_ratio=0.75 .........................................\n",
      "[CV] .......................... alpha=90, l1_ratio=0.75, total=   0.0s\n",
      "[CV] alpha=90, l1_ratio=0.75 .........................................\n",
      "[CV] .......................... alpha=90, l1_ratio=0.75, total=   0.0s\n",
      "[CV] alpha=90, l1_ratio=0.75 .........................................\n",
      "[CV] .......................... alpha=90, l1_ratio=0.75, total=   0.0s\n",
      "[CV] alpha=90, l1_ratio=0.75 .........................................\n",
      "[CV] .......................... alpha=90, l1_ratio=0.75, total=   0.0s\n",
      "[CV] alpha=90, l1_ratio=0.75 .........................................\n",
      "[CV] .......................... alpha=90, l1_ratio=0.75, total=   0.0s\n",
      "[CV] alpha=90, l1_ratio=0.75 .........................................\n",
      "[CV] .......................... alpha=90, l1_ratio=0.75, total=   0.0s\n",
      "[CV] alpha=90, l1_ratio=0.75 .........................................\n",
      "[CV] .......................... alpha=90, l1_ratio=0.75, total=   0.0s\n",
      "[CV] alpha=90, l1_ratio=0.9 ..........................................\n",
      "[CV] ........................... alpha=90, l1_ratio=0.9, total=   0.0s\n",
      "[CV] alpha=90, l1_ratio=0.9 ..........................................\n",
      "[CV] ........................... alpha=90, l1_ratio=0.9, total=   0.0s\n",
      "[CV] alpha=90, l1_ratio=0.9 ..........................................\n",
      "[CV] ........................... alpha=90, l1_ratio=0.9, total=   0.0s\n",
      "[CV] alpha=90, l1_ratio=0.9 ..........................................\n",
      "[CV] ........................... alpha=90, l1_ratio=0.9, total=   0.0s\n",
      "[CV] alpha=90, l1_ratio=0.9 ..........................................\n",
      "[CV] ........................... alpha=90, l1_ratio=0.9, total=   0.0s\n",
      "[CV] alpha=90, l1_ratio=0.9 ..........................................\n"
     ]
    },
    {
     "name": "stdout",
     "output_type": "stream",
     "text": [
      "[CV] ........................... alpha=90, l1_ratio=0.9, total=   0.0s\n",
      "[CV] alpha=90, l1_ratio=0.9 ..........................................\n",
      "[CV] ........................... alpha=90, l1_ratio=0.9, total=   0.0s\n",
      "[CV] alpha=90, l1_ratio=0.9 ..........................................\n",
      "[CV] ........................... alpha=90, l1_ratio=0.9, total=   0.0s\n",
      "[CV] alpha=90, l1_ratio=0.9 ..........................................\n",
      "[CV] ........................... alpha=90, l1_ratio=0.9, total=   0.0s\n",
      "[CV] alpha=90, l1_ratio=0.9 ..........................................\n",
      "[CV] ........................... alpha=90, l1_ratio=0.9, total=   0.0s\n",
      "[CV] alpha=90, l1_ratio=0.95 .........................................\n",
      "[CV] .......................... alpha=90, l1_ratio=0.95, total=   0.0s\n",
      "[CV] alpha=90, l1_ratio=0.95 .........................................\n",
      "[CV] .......................... alpha=90, l1_ratio=0.95, total=   0.0s\n",
      "[CV] alpha=90, l1_ratio=0.95 .........................................\n",
      "[CV] .......................... alpha=90, l1_ratio=0.95, total=   0.0s\n",
      "[CV] alpha=90, l1_ratio=0.95 .........................................\n",
      "[CV] .......................... alpha=90, l1_ratio=0.95, total=   0.0s\n",
      "[CV] alpha=90, l1_ratio=0.95 .........................................\n",
      "[CV] .......................... alpha=90, l1_ratio=0.95, total=   0.0s\n",
      "[CV] alpha=90, l1_ratio=0.95 .........................................\n",
      "[CV] .......................... alpha=90, l1_ratio=0.95, total=   0.0s\n",
      "[CV] alpha=90, l1_ratio=0.95 .........................................\n",
      "[CV] .......................... alpha=90, l1_ratio=0.95, total=   0.0s\n",
      "[CV] alpha=90, l1_ratio=0.95 .........................................\n",
      "[CV] .......................... alpha=90, l1_ratio=0.95, total=   0.0s\n",
      "[CV] alpha=90, l1_ratio=0.95 .........................................\n",
      "[CV] .......................... alpha=90, l1_ratio=0.95, total=   0.0s\n",
      "[CV] alpha=90, l1_ratio=0.95 .........................................\n",
      "[CV] .......................... alpha=90, l1_ratio=0.95, total=   0.0s\n",
      "[CV] alpha=90, l1_ratio=0.99 .........................................\n",
      "[CV] .......................... alpha=90, l1_ratio=0.99, total=   0.1s\n",
      "[CV] alpha=90, l1_ratio=0.99 .........................................\n",
      "[CV] .......................... alpha=90, l1_ratio=0.99, total=   0.0s\n",
      "[CV] alpha=90, l1_ratio=0.99 .........................................\n",
      "[CV] .......................... alpha=90, l1_ratio=0.99, total=   0.1s\n",
      "[CV] alpha=90, l1_ratio=0.99 .........................................\n",
      "[CV] .......................... alpha=90, l1_ratio=0.99, total=   0.0s\n",
      "[CV] alpha=90, l1_ratio=0.99 .........................................\n",
      "[CV] .......................... alpha=90, l1_ratio=0.99, total=   0.1s\n",
      "[CV] alpha=90, l1_ratio=0.99 .........................................\n",
      "[CV] .......................... alpha=90, l1_ratio=0.99, total=   0.1s\n",
      "[CV] alpha=90, l1_ratio=0.99 .........................................\n",
      "[CV] .......................... alpha=90, l1_ratio=0.99, total=   0.1s\n",
      "[CV] alpha=90, l1_ratio=0.99 .........................................\n",
      "[CV] .......................... alpha=90, l1_ratio=0.99, total=   0.1s\n",
      "[CV] alpha=90, l1_ratio=0.99 .........................................\n",
      "[CV] .......................... alpha=90, l1_ratio=0.99, total=   0.0s\n",
      "[CV] alpha=90, l1_ratio=0.99 .........................................\n",
      "[CV] .......................... alpha=90, l1_ratio=0.99, total=   0.1s\n",
      "[CV] alpha=90, l1_ratio=1 ............................................\n",
      "[CV] ............................. alpha=90, l1_ratio=1, total=   0.4s\n",
      "[CV] alpha=90, l1_ratio=1 ............................................\n",
      "[CV] ............................. alpha=90, l1_ratio=1, total=   0.3s\n",
      "[CV] alpha=90, l1_ratio=1 ............................................\n",
      "[CV] ............................. alpha=90, l1_ratio=1, total=   0.4s\n",
      "[CV] alpha=90, l1_ratio=1 ............................................\n",
      "[CV] ............................. alpha=90, l1_ratio=1, total=   0.4s\n",
      "[CV] alpha=90, l1_ratio=1 ............................................\n",
      "[CV] ............................. alpha=90, l1_ratio=1, total=   0.4s\n",
      "[CV] alpha=90, l1_ratio=1 ............................................\n",
      "[CV] ............................. alpha=90, l1_ratio=1, total=   0.4s\n",
      "[CV] alpha=90, l1_ratio=1 ............................................\n",
      "[CV] ............................. alpha=90, l1_ratio=1, total=   0.3s\n",
      "[CV] alpha=90, l1_ratio=1 ............................................\n",
      "[CV] ............................. alpha=90, l1_ratio=1, total=   0.4s\n",
      "[CV] alpha=90, l1_ratio=1 ............................................\n",
      "[CV] ............................. alpha=90, l1_ratio=1, total=   0.3s\n",
      "[CV] alpha=90, l1_ratio=1 ............................................\n",
      "[CV] ............................. alpha=90, l1_ratio=1, total=   0.4s\n",
      "[CV] alpha=100, l1_ratio=0.1 .........................................\n",
      "[CV] .......................... alpha=100, l1_ratio=0.1, total=   0.0s\n",
      "[CV] alpha=100, l1_ratio=0.1 .........................................\n",
      "[CV] .......................... alpha=100, l1_ratio=0.1, total=   0.0s\n",
      "[CV] alpha=100, l1_ratio=0.1 .........................................\n",
      "[CV] .......................... alpha=100, l1_ratio=0.1, total=   0.0s\n",
      "[CV] alpha=100, l1_ratio=0.1 .........................................\n",
      "[CV] .......................... alpha=100, l1_ratio=0.1, total=   0.0s\n",
      "[CV] alpha=100, l1_ratio=0.1 .........................................\n",
      "[CV] .......................... alpha=100, l1_ratio=0.1, total=   0.0s\n",
      "[CV] alpha=100, l1_ratio=0.1 .........................................\n",
      "[CV] .......................... alpha=100, l1_ratio=0.1, total=   0.0s\n",
      "[CV] alpha=100, l1_ratio=0.1 .........................................\n",
      "[CV] .......................... alpha=100, l1_ratio=0.1, total=   0.0s\n",
      "[CV] alpha=100, l1_ratio=0.1 .........................................\n",
      "[CV] .......................... alpha=100, l1_ratio=0.1, total=   0.0s\n",
      "[CV] alpha=100, l1_ratio=0.1 .........................................\n",
      "[CV] .......................... alpha=100, l1_ratio=0.1, total=   0.0s\n",
      "[CV] alpha=100, l1_ratio=0.1 .........................................\n",
      "[CV] .......................... alpha=100, l1_ratio=0.1, total=   0.0s\n",
      "[CV] alpha=100, l1_ratio=0.25 ........................................\n",
      "[CV] ......................... alpha=100, l1_ratio=0.25, total=   0.0s\n",
      "[CV] alpha=100, l1_ratio=0.25 ........................................\n",
      "[CV] ......................... alpha=100, l1_ratio=0.25, total=   0.0s\n",
      "[CV] alpha=100, l1_ratio=0.25 ........................................\n",
      "[CV] ......................... alpha=100, l1_ratio=0.25, total=   0.0s\n",
      "[CV] alpha=100, l1_ratio=0.25 ........................................\n",
      "[CV] ......................... alpha=100, l1_ratio=0.25, total=   0.0s\n",
      "[CV] alpha=100, l1_ratio=0.25 ........................................\n",
      "[CV] ......................... alpha=100, l1_ratio=0.25, total=   0.0s\n",
      "[CV] alpha=100, l1_ratio=0.25 ........................................\n",
      "[CV] ......................... alpha=100, l1_ratio=0.25, total=   0.0s\n",
      "[CV] alpha=100, l1_ratio=0.25 ........................................\n",
      "[CV] ......................... alpha=100, l1_ratio=0.25, total=   0.0s\n",
      "[CV] alpha=100, l1_ratio=0.25 ........................................\n",
      "[CV] ......................... alpha=100, l1_ratio=0.25, total=   0.0s\n",
      "[CV] alpha=100, l1_ratio=0.25 ........................................\n",
      "[CV] ......................... alpha=100, l1_ratio=0.25, total=   0.0s\n",
      "[CV] alpha=100, l1_ratio=0.25 ........................................\n",
      "[CV] ......................... alpha=100, l1_ratio=0.25, total=   0.0s\n",
      "[CV] alpha=100, l1_ratio=0.5 .........................................\n",
      "[CV] .......................... alpha=100, l1_ratio=0.5, total=   0.0s\n",
      "[CV] alpha=100, l1_ratio=0.5 .........................................\n",
      "[CV] .......................... alpha=100, l1_ratio=0.5, total=   0.0s\n",
      "[CV] alpha=100, l1_ratio=0.5 .........................................\n",
      "[CV] .......................... alpha=100, l1_ratio=0.5, total=   0.0s\n",
      "[CV] alpha=100, l1_ratio=0.5 .........................................\n",
      "[CV] .......................... alpha=100, l1_ratio=0.5, total=   0.0s\n",
      "[CV] alpha=100, l1_ratio=0.5 .........................................\n",
      "[CV] .......................... alpha=100, l1_ratio=0.5, total=   0.0s\n",
      "[CV] alpha=100, l1_ratio=0.5 .........................................\n",
      "[CV] .......................... alpha=100, l1_ratio=0.5, total=   0.0s\n",
      "[CV] alpha=100, l1_ratio=0.5 .........................................\n",
      "[CV] .......................... alpha=100, l1_ratio=0.5, total=   0.0s\n",
      "[CV] alpha=100, l1_ratio=0.5 .........................................\n",
      "[CV] .......................... alpha=100, l1_ratio=0.5, total=   0.0s\n",
      "[CV] alpha=100, l1_ratio=0.5 .........................................\n",
      "[CV] .......................... alpha=100, l1_ratio=0.5, total=   0.0s\n",
      "[CV] alpha=100, l1_ratio=0.5 .........................................\n"
     ]
    },
    {
     "name": "stdout",
     "output_type": "stream",
     "text": [
      "[CV] .......................... alpha=100, l1_ratio=0.5, total=   0.0s\n",
      "[CV] alpha=100, l1_ratio=0.7 .........................................\n",
      "[CV] .......................... alpha=100, l1_ratio=0.7, total=   0.0s\n",
      "[CV] alpha=100, l1_ratio=0.7 .........................................\n",
      "[CV] .......................... alpha=100, l1_ratio=0.7, total=   0.0s\n",
      "[CV] alpha=100, l1_ratio=0.7 .........................................\n",
      "[CV] .......................... alpha=100, l1_ratio=0.7, total=   0.0s\n",
      "[CV] alpha=100, l1_ratio=0.7 .........................................\n",
      "[CV] .......................... alpha=100, l1_ratio=0.7, total=   0.0s\n",
      "[CV] alpha=100, l1_ratio=0.7 .........................................\n",
      "[CV] .......................... alpha=100, l1_ratio=0.7, total=   0.0s\n",
      "[CV] alpha=100, l1_ratio=0.7 .........................................\n",
      "[CV] .......................... alpha=100, l1_ratio=0.7, total=   0.0s\n",
      "[CV] alpha=100, l1_ratio=0.7 .........................................\n",
      "[CV] .......................... alpha=100, l1_ratio=0.7, total=   0.0s\n",
      "[CV] alpha=100, l1_ratio=0.7 .........................................\n",
      "[CV] .......................... alpha=100, l1_ratio=0.7, total=   0.0s\n",
      "[CV] alpha=100, l1_ratio=0.7 .........................................\n",
      "[CV] .......................... alpha=100, l1_ratio=0.7, total=   0.0s\n",
      "[CV] alpha=100, l1_ratio=0.7 .........................................\n",
      "[CV] .......................... alpha=100, l1_ratio=0.7, total=   0.0s\n",
      "[CV] alpha=100, l1_ratio=0.75 ........................................\n",
      "[CV] ......................... alpha=100, l1_ratio=0.75, total=   0.0s\n",
      "[CV] alpha=100, l1_ratio=0.75 ........................................\n",
      "[CV] ......................... alpha=100, l1_ratio=0.75, total=   0.0s\n",
      "[CV] alpha=100, l1_ratio=0.75 ........................................\n",
      "[CV] ......................... alpha=100, l1_ratio=0.75, total=   0.0s\n",
      "[CV] alpha=100, l1_ratio=0.75 ........................................\n",
      "[CV] ......................... alpha=100, l1_ratio=0.75, total=   0.0s\n",
      "[CV] alpha=100, l1_ratio=0.75 ........................................\n",
      "[CV] ......................... alpha=100, l1_ratio=0.75, total=   0.0s\n",
      "[CV] alpha=100, l1_ratio=0.75 ........................................\n",
      "[CV] ......................... alpha=100, l1_ratio=0.75, total=   0.0s\n",
      "[CV] alpha=100, l1_ratio=0.75 ........................................\n",
      "[CV] ......................... alpha=100, l1_ratio=0.75, total=   0.0s\n",
      "[CV] alpha=100, l1_ratio=0.75 ........................................\n",
      "[CV] ......................... alpha=100, l1_ratio=0.75, total=   0.0s\n",
      "[CV] alpha=100, l1_ratio=0.75 ........................................\n",
      "[CV] ......................... alpha=100, l1_ratio=0.75, total=   0.0s\n",
      "[CV] alpha=100, l1_ratio=0.75 ........................................\n",
      "[CV] ......................... alpha=100, l1_ratio=0.75, total=   0.0s\n",
      "[CV] alpha=100, l1_ratio=0.9 .........................................\n",
      "[CV] .......................... alpha=100, l1_ratio=0.9, total=   0.0s\n",
      "[CV] alpha=100, l1_ratio=0.9 .........................................\n",
      "[CV] .......................... alpha=100, l1_ratio=0.9, total=   0.0s\n",
      "[CV] alpha=100, l1_ratio=0.9 .........................................\n",
      "[CV] .......................... alpha=100, l1_ratio=0.9, total=   0.0s\n",
      "[CV] alpha=100, l1_ratio=0.9 .........................................\n",
      "[CV] .......................... alpha=100, l1_ratio=0.9, total=   0.0s\n",
      "[CV] alpha=100, l1_ratio=0.9 .........................................\n",
      "[CV] .......................... alpha=100, l1_ratio=0.9, total=   0.0s\n",
      "[CV] alpha=100, l1_ratio=0.9 .........................................\n",
      "[CV] .......................... alpha=100, l1_ratio=0.9, total=   0.0s\n",
      "[CV] alpha=100, l1_ratio=0.9 .........................................\n",
      "[CV] .......................... alpha=100, l1_ratio=0.9, total=   0.0s\n",
      "[CV] alpha=100, l1_ratio=0.9 .........................................\n",
      "[CV] .......................... alpha=100, l1_ratio=0.9, total=   0.0s\n",
      "[CV] alpha=100, l1_ratio=0.9 .........................................\n",
      "[CV] .......................... alpha=100, l1_ratio=0.9, total=   0.0s\n",
      "[CV] alpha=100, l1_ratio=0.9 .........................................\n",
      "[CV] .......................... alpha=100, l1_ratio=0.9, total=   0.0s\n",
      "[CV] alpha=100, l1_ratio=0.95 ........................................\n",
      "[CV] ......................... alpha=100, l1_ratio=0.95, total=   0.0s\n",
      "[CV] alpha=100, l1_ratio=0.95 ........................................\n",
      "[CV] ......................... alpha=100, l1_ratio=0.95, total=   0.0s\n",
      "[CV] alpha=100, l1_ratio=0.95 ........................................\n",
      "[CV] ......................... alpha=100, l1_ratio=0.95, total=   0.0s\n",
      "[CV] alpha=100, l1_ratio=0.95 ........................................\n",
      "[CV] ......................... alpha=100, l1_ratio=0.95, total=   0.0s\n",
      "[CV] alpha=100, l1_ratio=0.95 ........................................\n",
      "[CV] ......................... alpha=100, l1_ratio=0.95, total=   0.0s\n",
      "[CV] alpha=100, l1_ratio=0.95 ........................................\n",
      "[CV] ......................... alpha=100, l1_ratio=0.95, total=   0.0s\n",
      "[CV] alpha=100, l1_ratio=0.95 ........................................\n",
      "[CV] ......................... alpha=100, l1_ratio=0.95, total=   0.0s\n",
      "[CV] alpha=100, l1_ratio=0.95 ........................................\n",
      "[CV] ......................... alpha=100, l1_ratio=0.95, total=   0.0s\n",
      "[CV] alpha=100, l1_ratio=0.95 ........................................\n",
      "[CV] ......................... alpha=100, l1_ratio=0.95, total=   0.0s\n",
      "[CV] alpha=100, l1_ratio=0.95 ........................................\n",
      "[CV] ......................... alpha=100, l1_ratio=0.95, total=   0.0s\n",
      "[CV] alpha=100, l1_ratio=0.99 ........................................\n",
      "[CV] ......................... alpha=100, l1_ratio=0.99, total=   0.0s\n",
      "[CV] alpha=100, l1_ratio=0.99 ........................................\n",
      "[CV] ......................... alpha=100, l1_ratio=0.99, total=   0.1s\n",
      "[CV] alpha=100, l1_ratio=0.99 ........................................\n",
      "[CV] ......................... alpha=100, l1_ratio=0.99, total=   0.0s\n",
      "[CV] alpha=100, l1_ratio=0.99 ........................................\n",
      "[CV] ......................... alpha=100, l1_ratio=0.99, total=   0.0s\n",
      "[CV] alpha=100, l1_ratio=0.99 ........................................\n",
      "[CV] ......................... alpha=100, l1_ratio=0.99, total=   0.1s\n",
      "[CV] alpha=100, l1_ratio=0.99 ........................................\n",
      "[CV] ......................... alpha=100, l1_ratio=0.99, total=   0.0s\n",
      "[CV] alpha=100, l1_ratio=0.99 ........................................\n",
      "[CV] ......................... alpha=100, l1_ratio=0.99, total=   0.1s\n",
      "[CV] alpha=100, l1_ratio=0.99 ........................................\n",
      "[CV] ......................... alpha=100, l1_ratio=0.99, total=   0.0s\n",
      "[CV] alpha=100, l1_ratio=0.99 ........................................\n",
      "[CV] ......................... alpha=100, l1_ratio=0.99, total=   0.0s\n",
      "[CV] alpha=100, l1_ratio=0.99 ........................................\n",
      "[CV] ......................... alpha=100, l1_ratio=0.99, total=   0.1s\n",
      "[CV] alpha=100, l1_ratio=1 ...........................................\n",
      "[CV] ............................ alpha=100, l1_ratio=1, total=   0.4s\n",
      "[CV] alpha=100, l1_ratio=1 ...........................................\n",
      "[CV] ............................ alpha=100, l1_ratio=1, total=   0.3s\n",
      "[CV] alpha=100, l1_ratio=1 ...........................................\n",
      "[CV] ............................ alpha=100, l1_ratio=1, total=   0.3s\n",
      "[CV] alpha=100, l1_ratio=1 ...........................................\n",
      "[CV] ............................ alpha=100, l1_ratio=1, total=   0.3s\n",
      "[CV] alpha=100, l1_ratio=1 ...........................................\n",
      "[CV] ............................ alpha=100, l1_ratio=1, total=   0.3s\n",
      "[CV] alpha=100, l1_ratio=1 ...........................................\n",
      "[CV] ............................ alpha=100, l1_ratio=1, total=   0.3s\n",
      "[CV] alpha=100, l1_ratio=1 ...........................................\n",
      "[CV] ............................ alpha=100, l1_ratio=1, total=   0.3s\n",
      "[CV] alpha=100, l1_ratio=1 ...........................................\n"
     ]
    },
    {
     "name": "stdout",
     "output_type": "stream",
     "text": [
      "[CV] ............................ alpha=100, l1_ratio=1, total=   0.3s\n",
      "[CV] alpha=100, l1_ratio=1 ...........................................\n",
      "[CV] ............................ alpha=100, l1_ratio=1, total=   0.3s\n",
      "[CV] alpha=100, l1_ratio=1 ...........................................\n",
      "[CV] ............................ alpha=100, l1_ratio=1, total=   0.3s\n"
     ]
    },
    {
     "name": "stderr",
     "output_type": "stream",
     "text": [
      "[Parallel(n_jobs=1)]: Done 1170 out of 1170 | elapsed:  2.8min finished\n"
     ]
    },
    {
     "data": {
      "text/plain": [
       "GridSearchCV(cv=10, estimator=ElasticNet(),\n",
       "             param_grid={'alpha': [0.1, 1, 5, 10, 20, 30, 40, 50, 60, 70, 80,\n",
       "                                   90, 100],\n",
       "                         'l1_ratio': [0.1, 0.25, 0.5, 0.7, 0.75, 0.9, 0.95,\n",
       "                                      0.99, 1]},\n",
       "             scoring='neg_mean_squared_error', verbose=2)"
      ]
     },
     "execution_count": 19,
     "metadata": {},
     "output_type": "execute_result"
    }
   ],
   "source": [
    "grid_model.fit(scaled_X_train,y_train)"
   ]
  },
  {
   "cell_type": "markdown",
   "metadata": {},
   "source": [
    "**TASK: Display the best combination of parameters for your model**"
   ]
  },
  {
   "cell_type": "code",
   "execution_count": null,
   "metadata": {},
   "outputs": [],
   "source": []
  },
  {
   "cell_type": "code",
   "execution_count": 20,
   "metadata": {},
   "outputs": [
    {
     "data": {
      "text/plain": [
       "{'alpha': 100, 'l1_ratio': 1}"
      ]
     },
     "execution_count": 20,
     "metadata": {},
     "output_type": "execute_result"
    }
   ],
   "source": [
    "grid_model.best_params_"
   ]
  },
  {
   "cell_type": "markdown",
   "metadata": {},
   "source": [
    "**TASK: Evaluate your model's performance on the unseen 10% scaled test set. In the solutions notebook we achieved an MAE of $\\$$14149 and a RMSE of $\\$$20532**"
   ]
  },
  {
   "cell_type": "code",
   "execution_count": 21,
   "metadata": {},
   "outputs": [],
   "source": [
    "from sklearn.metrics import mean_absolute_error ,mean_squared_error"
   ]
  },
  {
   "cell_type": "code",
   "execution_count": 22,
   "metadata": {},
   "outputs": [],
   "source": [
    "y_pred = grid_model.predict(scaled_X_test)"
   ]
  },
  {
   "cell_type": "code",
   "execution_count": 23,
   "metadata": {},
   "outputs": [],
   "source": [
    "MAE=mean_absolute_error(y_test,y_pred)"
   ]
  },
  {
   "cell_type": "code",
   "execution_count": 24,
   "metadata": {},
   "outputs": [
    {
     "data": {
      "text/plain": [
       "14195.354900562173"
      ]
     },
     "execution_count": 24,
     "metadata": {},
     "output_type": "execute_result"
    }
   ],
   "source": [
    "MAE"
   ]
  },
  {
   "cell_type": "code",
   "execution_count": 25,
   "metadata": {},
   "outputs": [],
   "source": [
    "from math import sqrt"
   ]
  },
  {
   "cell_type": "code",
   "execution_count": 26,
   "metadata": {},
   "outputs": [],
   "source": [
    "RMSE=sqrt(mean_squared_error(y_test,y_pred))"
   ]
  },
  {
   "cell_type": "code",
   "execution_count": 27,
   "metadata": {},
   "outputs": [
    {
     "data": {
      "text/plain": [
       "20558.508566893168"
      ]
     },
     "execution_count": 27,
     "metadata": {},
     "output_type": "execute_result"
    }
   ],
   "source": [
    "RMSE"
   ]
  },
  {
   "cell_type": "code",
   "execution_count": null,
   "metadata": {},
   "outputs": [],
   "source": []
  },
  {
   "cell_type": "markdown",
   "metadata": {},
   "source": [
    "## Great work!\n",
    "\n",
    "----"
   ]
  }
 ],
 "metadata": {
  "kernelspec": {
   "display_name": "Python 3 (ipykernel)",
   "language": "python",
   "name": "python3"
  },
  "language_info": {
   "codemirror_mode": {
    "name": "ipython",
    "version": 3
   },
   "file_extension": ".py",
   "mimetype": "text/x-python",
   "name": "python",
   "nbconvert_exporter": "python",
   "pygments_lexer": "ipython3",
   "version": "3.7.13"
  }
 },
 "nbformat": 4,
 "nbformat_minor": 2
}
